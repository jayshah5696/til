{
 "cells": [
  {
   "cell_type": "code",
   "execution_count": 1,
   "metadata": {},
   "outputs": [
    {
     "data": {
      "application/vnd.jupyter.widget-view+json": {
       "model_id": "d74b83790f0444e7a0272137d7f0cae9",
       "version_major": 2,
       "version_minor": 0
      },
      "text/plain": [
       "Output()"
      ]
     },
     "metadata": {},
     "output_type": "display_data"
    },
    {
     "data": {
      "text/html": [
       "<pre style=\"white-space:pre;overflow-x:auto;line-height:normal;font-family:Menlo,'DejaVu Sans Mono',consolas,'Courier New',monospace\"></pre>\n"
      ],
      "text/plain": []
     },
     "metadata": {},
     "output_type": "display_data"
    }
   ],
   "source": [
    "from phi.assistant import Assistant\n",
    "from phi.llm.ollama import Ollama\n",
    "\n",
    "assistant = Assistant(\n",
    "    llm=Ollama(model=\"adrienbrault/nous-hermes2pro:Q8_0\"),\n",
    "    description=\"You help people with their health and fitness goals.\",\n",
    ")\n",
    "assistant.print_response(\"Share a quick healthy breakfast recipe.\", markdown=True)\n"
   ]
  },
  {
   "cell_type": "code",
   "execution_count": 2,
   "metadata": {},
   "outputs": [
    {
     "data": {
      "application/vnd.jupyter.widget-view+json": {
       "model_id": "e48f9264bd514f57a04f8b1310495284",
       "version_major": 2,
       "version_minor": 0
      },
      "text/plain": [
       "Output()"
      ]
     },
     "metadata": {},
     "output_type": "display_data"
    },
    {
     "data": {
      "text/html": [
       "<pre style=\"white-space:pre;overflow-x:auto;line-height:normal;font-family:Menlo,'DejaVu Sans Mono',consolas,'Courier New',monospace\"></pre>\n"
      ],
      "text/plain": []
     },
     "metadata": {},
     "output_type": "display_data"
    }
   ],
   "source": [
    "\n",
    "assistant.print_response(\"Share a plan for the fitness program\", markdown=True)"
   ]
  },
  {
   "cell_type": "code",
   "execution_count": 3,
   "metadata": {},
   "outputs": [],
   "source": [
    "llm = Ollama(model=\"adrienbrault/nous-hermes2pro:Q8_0\",response_format=\"json\")"
   ]
  },
  {
   "cell_type": "code",
   "execution_count": 4,
   "metadata": {},
   "outputs": [
    {
     "ename": "NotImplementedError",
     "evalue": "",
     "output_type": "error",
     "traceback": [
      "\u001b[0;31m---------------------------------------------------------------------------\u001b[0m",
      "\u001b[0;31mNotImplementedError\u001b[0m                       Traceback (most recent call last)",
      "Cell \u001b[0;32mIn[4], line 1\u001b[0m\n\u001b[0;32m----> 1\u001b[0m \u001b[43mllm\u001b[49m\u001b[38;5;241;43m.\u001b[39;49m\u001b[43mgenerate\u001b[49m\u001b[43m(\u001b[49m\u001b[38;5;124;43m\"\u001b[39;49m\u001b[38;5;124;43mProvide JSON RESPONSE with key \u001b[39;49m\u001b[38;5;124;43m'\u001b[39;49m\u001b[38;5;124;43mresponse\u001b[39;49m\u001b[38;5;124;43m'\u001b[39;49m\u001b[38;5;124;43m and value \u001b[39;49m\u001b[38;5;124;43m'\u001b[39;49m\u001b[38;5;124;43mShare a plan for the fitness program\u001b[39;49m\u001b[38;5;124;43m'\u001b[39;49m\u001b[38;5;124;43m\"\u001b[39;49m\u001b[43m)\u001b[49m\n",
      "File \u001b[0;32m~/anaconda3/envs/hf/lib/python3.10/site-packages/phi/llm/base.py:68\u001b[0m, in \u001b[0;36mLLM.generate\u001b[0;34m(self, messages)\u001b[0m\n\u001b[1;32m     67\u001b[0m \u001b[38;5;28;01mdef\u001b[39;00m \u001b[38;5;21mgenerate\u001b[39m(\u001b[38;5;28mself\u001b[39m, messages: List[Message]) \u001b[38;5;241m-\u001b[39m\u001b[38;5;241m>\u001b[39m Dict:\n\u001b[0;32m---> 68\u001b[0m     \u001b[38;5;28;01mraise\u001b[39;00m \u001b[38;5;167;01mNotImplementedError\u001b[39;00m\n",
      "\u001b[0;31mNotImplementedError\u001b[0m: "
     ]
    }
   ],
   "source": [
    "llm.generate(\"Provide JSON RESPONSE with key 'response' and value 'Share a plan for the fitness program'\")"
   ]
  },
  {
   "cell_type": "code",
   "execution_count": 5,
   "metadata": {},
   "outputs": [
    {
     "data": {
      "text/html": [
       "<pre style=\"white-space:pre;overflow-x:auto;line-height:normal;font-family:Menlo,'DejaVu Sans Mono',consolas,'Courier New',monospace\"><span style=\"color: #800080; text-decoration-color: #800080; font-weight: bold\">MovieScript</span><span style=\"font-weight: bold\">(</span>\n",
       "<span style=\"color: #7fbf7f; text-decoration-color: #7fbf7f\">│   </span><span style=\"color: #808000; text-decoration-color: #808000\">setting</span>=<span style=\"color: #008000; text-decoration-color: #008000\">'New York'</span>,\n",
       "<span style=\"color: #7fbf7f; text-decoration-color: #7fbf7f\">│   </span><span style=\"color: #808000; text-decoration-color: #808000\">ending</span>=<span style=\"color: #008000; text-decoration-color: #008000\">'The heroes overcome the odds and save the city from certain disaster.'</span>,\n",
       "<span style=\"color: #7fbf7f; text-decoration-color: #7fbf7f\">│   </span><span style=\"color: #808000; text-decoration-color: #808000\">genre</span>=<span style=\"color: #008000; text-decoration-color: #008000\">'Action'</span>,\n",
       "<span style=\"color: #7fbf7f; text-decoration-color: #7fbf7f\">│   </span><span style=\"color: #808000; text-decoration-color: #808000\">name</span>=<span style=\"color: #008000; text-decoration-color: #008000\">'Empire of New York'</span>,\n",
       "<span style=\"color: #7fbf7f; text-decoration-color: #7fbf7f\">│   </span><span style=\"color: #808000; text-decoration-color: #808000\">characters</span>=<span style=\"font-weight: bold\">[</span><span style=\"color: #008000; text-decoration-color: #008000\">'Johnny Chavez'</span>, <span style=\"color: #008000; text-decoration-color: #008000\">'Samantha Lee'</span>, <span style=\"color: #008000; text-decoration-color: #008000\">\"Vincent D'Amico\"</span><span style=\"font-weight: bold\">]</span>,\n",
       "<span style=\"color: #7fbf7f; text-decoration-color: #7fbf7f\">│   </span><span style=\"color: #808000; text-decoration-color: #808000\">storyline</span>=<span style=\"color: #008000; text-decoration-color: #008000\">\"In the heart of New York City, a dangerous criminal organization is plotting to bring chaos to the streets. Johnny Chavez, a decorated NYPD officer, and Samantha Lee, an intelligent FBI agent, join forces to stop the villainous Vincent D'Amico. As they race against time to save the city from destruction, they must overcome their differences, outsmart the criminals, and bring justice to New York.\"</span>\n",
       "<span style=\"font-weight: bold\">)</span>\n",
       "</pre>\n"
      ],
      "text/plain": [
       "\u001b[1;35mMovieScript\u001b[0m\u001b[1m(\u001b[0m\n",
       "\u001b[2;32m│   \u001b[0m\u001b[33msetting\u001b[0m=\u001b[32m'New York'\u001b[0m,\n",
       "\u001b[2;32m│   \u001b[0m\u001b[33mending\u001b[0m=\u001b[32m'The heroes overcome the odds and save the city from certain disaster.'\u001b[0m,\n",
       "\u001b[2;32m│   \u001b[0m\u001b[33mgenre\u001b[0m=\u001b[32m'Action'\u001b[0m,\n",
       "\u001b[2;32m│   \u001b[0m\u001b[33mname\u001b[0m=\u001b[32m'Empire of New York'\u001b[0m,\n",
       "\u001b[2;32m│   \u001b[0m\u001b[33mcharacters\u001b[0m=\u001b[1m[\u001b[0m\u001b[32m'Johnny Chavez'\u001b[0m, \u001b[32m'Samantha Lee'\u001b[0m, \u001b[32m\"Vincent D'Amico\"\u001b[0m\u001b[1m]\u001b[0m,\n",
       "\u001b[2;32m│   \u001b[0m\u001b[33mstoryline\u001b[0m=\u001b[32m\"In\u001b[0m\u001b[32m the heart of New York City, a dangerous criminal organization is plotting to bring chaos to the streets. Johnny Chavez, a decorated NYPD officer, and Samantha Lee, an intelligent FBI agent, join forces to stop the villainous Vincent D'Amico. As they race against time to save the city from destruction, they must overcome their differences, outsmart the criminals, and bring justice to New York.\"\u001b[0m\n",
       "\u001b[1m)\u001b[0m\n"
      ]
     },
     "metadata": {},
     "output_type": "display_data"
    }
   ],
   "source": [
    "from typing import List\n",
    "from pydantic import BaseModel, Field\n",
    "from rich.pretty import pprint\n",
    "\n",
    "class MovieScript(BaseModel):\n",
    "    setting: str = Field(..., description=\"Provide a nice setting for a blockbuster movie.\")\n",
    "    ending: str = Field(..., description=\"Ending of the movie. If not available, provide a happy ending.\")\n",
    "    genre: str = Field(\n",
    "        ..., description=\"Genre of the movie. If not available, select action, thriller or romantic comedy.\"\n",
    "    )\n",
    "    name: str = Field(..., description=\"Give a name to this movie\")\n",
    "    characters: List[str] = Field(..., description=\"Name of characters for this movie.\")\n",
    "    storyline: str = Field(..., description=\"3 sentence storyline for the movie. Make it exciting!\")\n",
    "\n",
    "\n",
    "movie_assistant = Assistant(\n",
    "    llm=Ollama(model=\"adrienbrault/nous-hermes2pro:Q8_0\"),\n",
    "    description=\"You help people write movie ideas.\",\n",
    "    output_model=MovieScript,\n",
    ")\n",
    "\n",
    "pprint(movie_assistant.run(\"New York\"))"
   ]
  },
  {
   "cell_type": "code",
   "execution_count": 7,
   "metadata": {},
   "outputs": [
    {
     "data": {
      "text/html": [
       "<pre style=\"white-space:pre;overflow-x:auto;line-height:normal;font-family:Menlo,'DejaVu Sans Mono',consolas,'Courier New',monospace\"><span style=\"color: #800080; text-decoration-color: #800080; font-weight: bold\">MovieScript</span><span style=\"font-weight: bold\">(</span>\n",
       "<span style=\"color: #7fbf7f; text-decoration-color: #7fbf7f\">│   </span><span style=\"color: #808000; text-decoration-color: #808000\">setting</span>=<span style=\"color: #008000; text-decoration-color: #008000\">'California'</span>,\n",
       "<span style=\"color: #7fbf7f; text-decoration-color: #7fbf7f\">│   </span><span style=\"color: #808000; text-decoration-color: #808000\">ending</span>=<span style=\"color: #008000; text-decoration-color: #008000\">\"With the city's future at stake, the heroes make a daring last stand against the villainous forces.\"</span>,\n",
       "<span style=\"color: #7fbf7f; text-decoration-color: #7fbf7f\">│   </span><span style=\"color: #808000; text-decoration-color: #808000\">genre</span>=<span style=\"color: #008000; text-decoration-color: #008000\">'Action'</span>,\n",
       "<span style=\"color: #7fbf7f; text-decoration-color: #7fbf7f\">│   </span><span style=\"color: #808000; text-decoration-color: #808000\">name</span>=<span style=\"color: #008000; text-decoration-color: #008000\">'Golden State Showdown'</span>,\n",
       "<span style=\"color: #7fbf7f; text-decoration-color: #7fbf7f\">│   </span><span style=\"color: #808000; text-decoration-color: #808000\">characters</span>=<span style=\"font-weight: bold\">[</span><span style=\"color: #008000; text-decoration-color: #008000\">'Jane Smith'</span>, <span style=\"color: #008000; text-decoration-color: #008000\">'Mike Johnson'</span>, <span style=\"color: #008000; text-decoration-color: #008000\">'Villain: Mr. Black'</span><span style=\"font-weight: bold\">]</span>,\n",
       "<span style=\"color: #7fbf7f; text-decoration-color: #7fbf7f\">│   </span><span style=\"color: #808000; text-decoration-color: #808000\">storyline</span>=<span style=\"color: #008000; text-decoration-color: #008000\">\"In the bustling city of Los Angeles, California, two ordinary people, Jane and Mike, discover a hidden world of crime and corruption led by the notorious Mr. Black. As they team up to save the city from destruction, they must navigate through dangerous encounters, unravel the secrets behind Mr. Black's plans, and unlock their true potential to become heroes. With time running out and the fate of the Golden State at stake, Jane and Mike face off against Mr. Black in a climactic battle that will determine the future of California.\"</span>\n",
       "<span style=\"font-weight: bold\">)</span>\n",
       "</pre>\n"
      ],
      "text/plain": [
       "\u001b[1;35mMovieScript\u001b[0m\u001b[1m(\u001b[0m\n",
       "\u001b[2;32m│   \u001b[0m\u001b[33msetting\u001b[0m=\u001b[32m'California'\u001b[0m,\n",
       "\u001b[2;32m│   \u001b[0m\u001b[33mending\u001b[0m=\u001b[32m\"With\u001b[0m\u001b[32m the city's future at stake, the heroes make a daring last stand against the villainous forces.\"\u001b[0m,\n",
       "\u001b[2;32m│   \u001b[0m\u001b[33mgenre\u001b[0m=\u001b[32m'Action'\u001b[0m,\n",
       "\u001b[2;32m│   \u001b[0m\u001b[33mname\u001b[0m=\u001b[32m'Golden State Showdown'\u001b[0m,\n",
       "\u001b[2;32m│   \u001b[0m\u001b[33mcharacters\u001b[0m=\u001b[1m[\u001b[0m\u001b[32m'Jane Smith'\u001b[0m, \u001b[32m'Mike Johnson'\u001b[0m, \u001b[32m'Villain: Mr. Black'\u001b[0m\u001b[1m]\u001b[0m,\n",
       "\u001b[2;32m│   \u001b[0m\u001b[33mstoryline\u001b[0m=\u001b[32m\"In\u001b[0m\u001b[32m the bustling city of Los Angeles, California, two ordinary people, Jane and Mike, discover a hidden world of crime and corruption led by the notorious Mr. Black. As they team up to save the city from destruction, they must navigate through dangerous encounters, unravel the secrets behind Mr. Black's plans, and unlock their true potential to become heroes. With time running out and the fate of the Golden State at stake, Jane and Mike face off against Mr. Black in a climactic battle that will determine the future of California.\"\u001b[0m\n",
       "\u001b[1m)\u001b[0m\n"
      ]
     },
     "metadata": {},
     "output_type": "display_data"
    }
   ],
   "source": [
    "pprint(movie_assistant.run(\"California\"))"
   ]
  },
  {
   "cell_type": "code",
   "execution_count": 8,
   "metadata": {},
   "outputs": [
    {
     "data": {
      "text/html": [
       "<pre style=\"white-space:pre;overflow-x:auto;line-height:normal;font-family:Menlo,'DejaVu Sans Mono',consolas,'Courier New',monospace\"><span style=\"color: #800080; text-decoration-color: #800080; font-weight: bold\">MovieScript</span><span style=\"font-weight: bold\">(</span>\n",
       "<span style=\"color: #7fbf7f; text-decoration-color: #7fbf7f\">│   </span><span style=\"color: #808000; text-decoration-color: #808000\">setting</span>=<span style=\"color: #008000; text-decoration-color: #008000\">'The bustling streets of Mumbai'</span>,\n",
       "<span style=\"color: #7fbf7f; text-decoration-color: #7fbf7f\">│   </span><span style=\"color: #808000; text-decoration-color: #808000\">ending</span>=<span style=\"color: #008000; text-decoration-color: #008000\">'With a triumphant victory against all odds'</span>,\n",
       "<span style=\"color: #7fbf7f; text-decoration-color: #7fbf7f\">│   </span><span style=\"color: #808000; text-decoration-color: #808000\">genre</span>=<span style=\"color: #008000; text-decoration-color: #008000\">'Action'</span>,\n",
       "<span style=\"color: #7fbf7f; text-decoration-color: #7fbf7f\">│   </span><span style=\"color: #808000; text-decoration-color: #808000\">name</span>=<span style=\"color: #008000; text-decoration-color: #008000\">'Mumbai Uprising'</span>,\n",
       "<span style=\"color: #7fbf7f; text-decoration-color: #7fbf7f\">│   </span><span style=\"color: #808000; text-decoration-color: #808000\">characters</span>=<span style=\"font-weight: bold\">[</span><span style=\"color: #008000; text-decoration-color: #008000\">'Ajay, a skilled police officer'</span>, <span style=\"color: #008000; text-decoration-color: #008000\">'Maya, an intelligent hacker'</span>, <span style=\"color: #008000; text-decoration-color: #008000\">'Rajan, a ruthless crime lord'</span><span style=\"font-weight: bold\">]</span>,\n",
       "<span style=\"color: #7fbf7f; text-decoration-color: #7fbf7f\">│   </span><span style=\"color: #808000; text-decoration-color: #808000\">storyline</span>=<span style=\"color: #008000; text-decoration-color: #008000\">'In the heart of Mumbai, a powerful crime syndicate holds the city hostage. Ajay, a dedicated police officer, joins forces with Maya, an extraordinary hacker, to bring down the notorious Rajan and his gang. As they race against time, they must navigate through danger-filled streets, uncover hidden secrets, and ultimately defeat the enemy in a thrilling final showdown.'</span>\n",
       "<span style=\"font-weight: bold\">)</span>\n",
       "</pre>\n"
      ],
      "text/plain": [
       "\u001b[1;35mMovieScript\u001b[0m\u001b[1m(\u001b[0m\n",
       "\u001b[2;32m│   \u001b[0m\u001b[33msetting\u001b[0m=\u001b[32m'The bustling streets of Mumbai'\u001b[0m,\n",
       "\u001b[2;32m│   \u001b[0m\u001b[33mending\u001b[0m=\u001b[32m'With a triumphant victory against all odds'\u001b[0m,\n",
       "\u001b[2;32m│   \u001b[0m\u001b[33mgenre\u001b[0m=\u001b[32m'Action'\u001b[0m,\n",
       "\u001b[2;32m│   \u001b[0m\u001b[33mname\u001b[0m=\u001b[32m'Mumbai Uprising'\u001b[0m,\n",
       "\u001b[2;32m│   \u001b[0m\u001b[33mcharacters\u001b[0m=\u001b[1m[\u001b[0m\u001b[32m'Ajay, a skilled police officer'\u001b[0m, \u001b[32m'Maya, an intelligent hacker'\u001b[0m, \u001b[32m'Rajan, a ruthless crime lord'\u001b[0m\u001b[1m]\u001b[0m,\n",
       "\u001b[2;32m│   \u001b[0m\u001b[33mstoryline\u001b[0m=\u001b[32m'In the heart of Mumbai, a powerful crime syndicate holds the city hostage. Ajay, a dedicated police officer, joins forces with Maya, an extraordinary hacker, to bring down the notorious Rajan and his gang. As they race against time, they must navigate through danger-filled streets, uncover hidden secrets, and ultimately defeat the enemy in a thrilling final showdown.'\u001b[0m\n",
       "\u001b[1m)\u001b[0m\n"
      ]
     },
     "metadata": {},
     "output_type": "display_data"
    }
   ],
   "source": [
    "pprint(movie_assistant.run(\"India\"))"
   ]
  },
  {
   "cell_type": "code",
   "execution_count": 9,
   "metadata": {},
   "outputs": [
    {
     "data": {
      "text/html": [
       "<pre style=\"white-space:pre;overflow-x:auto;line-height:normal;font-family:Menlo,'DejaVu Sans Mono',consolas,'Courier New',monospace\"><span style=\"color: #800080; text-decoration-color: #800080; font-weight: bold\">MovieScript</span><span style=\"font-weight: bold\">(</span>\n",
       "<span style=\"color: #7fbf7f; text-decoration-color: #7fbf7f\">│   </span><span style=\"color: #808000; text-decoration-color: #808000\">setting</span>=<span style=\"color: #008000; text-decoration-color: #008000\">'The vibrant city of Mumbai, India'</span>,\n",
       "<span style=\"color: #7fbf7f; text-decoration-color: #7fbf7f\">│   </span><span style=\"color: #808000; text-decoration-color: #808000\">ending</span>=<span style=\"color: #008000; text-decoration-color: #008000\">'The couple unites and starts a new life together, bringing their families closer.'</span>,\n",
       "<span style=\"color: #7fbf7f; text-decoration-color: #7fbf7f\">│   </span><span style=\"color: #808000; text-decoration-color: #808000\">genre</span>=<span style=\"color: #008000; text-decoration-color: #008000\">'Romantic comedy'</span>,\n",
       "<span style=\"color: #7fbf7f; text-decoration-color: #7fbf7f\">│   </span><span style=\"color: #808000; text-decoration-color: #808000\">name</span>=<span style=\"color: #008000; text-decoration-color: #008000\">'Love across Borders'</span>,\n",
       "<span style=\"color: #7fbf7f; text-decoration-color: #7fbf7f\">│   </span><span style=\"color: #808000; text-decoration-color: #808000\">characters</span>=<span style=\"font-weight: bold\">[</span>\n",
       "<span style=\"color: #7fbf7f; text-decoration-color: #7fbf7f\">│   │   </span><span style=\"color: #008000; text-decoration-color: #008000\">'Ria, an ambitious Indian-origin woman living in America'</span>,\n",
       "<span style=\"color: #7fbf7f; text-decoration-color: #7fbf7f\">│   │   </span><span style=\"color: #008000; text-decoration-color: #008000\">'Aman, a charming Indian man from Mumbai'</span>,\n",
       "<span style=\"color: #7fbf7f; text-decoration-color: #7fbf7f\">│   │   </span><span style=\"color: #008000; text-decoration-color: #008000\">\"Ria's overprotective father\"</span>,\n",
       "<span style=\"color: #7fbf7f; text-decoration-color: #7fbf7f\">│   │   </span><span style=\"color: #008000; text-decoration-color: #008000\">\"Aman's fun-loving mother\"</span>\n",
       "<span style=\"color: #7fbf7f; text-decoration-color: #7fbf7f\">│   </span><span style=\"font-weight: bold\">]</span>,\n",
       "<span style=\"color: #7fbf7f; text-decoration-color: #7fbf7f\">│   </span><span style=\"color: #808000; text-decoration-color: #808000\">storyline</span>=<span style=\"color: #008000; text-decoration-color: #008000\">'Ria, while on a work trip to Mumbai, meets Aman, who shows her the true essence of Indian culture and love. Despite their differences and the disapproval from both their families, they embark on a journey to bridge the gaps and unite their families, discovering that love knows no borders.'</span>\n",
       "<span style=\"font-weight: bold\">)</span>\n",
       "</pre>\n"
      ],
      "text/plain": [
       "\u001b[1;35mMovieScript\u001b[0m\u001b[1m(\u001b[0m\n",
       "\u001b[2;32m│   \u001b[0m\u001b[33msetting\u001b[0m=\u001b[32m'The vibrant city of Mumbai, India'\u001b[0m,\n",
       "\u001b[2;32m│   \u001b[0m\u001b[33mending\u001b[0m=\u001b[32m'The couple unites and starts a new life together, bringing their families closer.'\u001b[0m,\n",
       "\u001b[2;32m│   \u001b[0m\u001b[33mgenre\u001b[0m=\u001b[32m'Romantic comedy'\u001b[0m,\n",
       "\u001b[2;32m│   \u001b[0m\u001b[33mname\u001b[0m=\u001b[32m'Love across Borders'\u001b[0m,\n",
       "\u001b[2;32m│   \u001b[0m\u001b[33mcharacters\u001b[0m=\u001b[1m[\u001b[0m\n",
       "\u001b[2;32m│   │   \u001b[0m\u001b[32m'Ria, an ambitious Indian-origin woman living in America'\u001b[0m,\n",
       "\u001b[2;32m│   │   \u001b[0m\u001b[32m'Aman, a charming Indian man from Mumbai'\u001b[0m,\n",
       "\u001b[2;32m│   │   \u001b[0m\u001b[32m\"Ria's overprotective father\"\u001b[0m,\n",
       "\u001b[2;32m│   │   \u001b[0m\u001b[32m\"Aman's fun-loving mother\"\u001b[0m\n",
       "\u001b[2;32m│   \u001b[0m\u001b[1m]\u001b[0m,\n",
       "\u001b[2;32m│   \u001b[0m\u001b[33mstoryline\u001b[0m=\u001b[32m'Ria, while on a work trip to Mumbai, meets Aman, who shows her the true essence of Indian culture and love. Despite their differences and the disapproval from both their families, they embark on a journey to bridge the gaps and unite their families, discovering that love knows no borders.'\u001b[0m\n",
       "\u001b[1m)\u001b[0m\n"
      ]
     },
     "metadata": {},
     "output_type": "display_data"
    }
   ],
   "source": [
    "pprint(movie_assistant.run(\"Romantic Movie with a happy ending in India\"))"
   ]
  },
  {
   "cell_type": "code",
   "execution_count": null,
   "metadata": {},
   "outputs": [],
   "source": []
  }
 ],
 "metadata": {
  "kernelspec": {
   "display_name": "hf",
   "language": "python",
   "name": "python3"
  },
  "language_info": {
   "codemirror_mode": {
    "name": "ipython",
    "version": 3
   },
   "file_extension": ".py",
   "mimetype": "text/x-python",
   "name": "python",
   "nbconvert_exporter": "python",
   "pygments_lexer": "ipython3",
   "version": "3.10.13"
  }
 },
 "nbformat": 4,
 "nbformat_minor": 2
}
