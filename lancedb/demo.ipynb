{
 "cells": [
  {
   "cell_type": "code",
   "execution_count": null,
   "metadata": {},
   "outputs": [],
   "source": [
    "# Fetch some text content in two different categories\n",
    "from wikipediaapi import Wikipedia\n",
    "wiki = Wikipedia('RAGBot/0.0', 'en')\n",
    "docs = [{\"text\": x, \"category\": \"person\"} for x in wiki.page('Hayao_Miyazaki').text.split('\\n\\n')]\n",
    "docs += [{\"text\": x, \"category\": \"film\"} for x in wiki.page('Spirited_Away').text.split('\\n\\n')]\n",
    "\n",
    "# Enter LanceDB\n",
    "import lancedb\n",
    "from lancedb.pydantic import LanceModel, Vector\n",
    "from lancedb.embeddings import get_registry, OpenAIEmbeddings\n",
    "\n",
    "# Initialise the embedding model\n",
    "# model_registry = get_registry().get(\"sentence-transformers\")\n",
    "# model = model_registry.create(name=\"BAAI/bge-small-en-v1.5\")\n",
    "\n",
    "model = OpenAIEmbeddings(name='text-embedding-3-small')\n",
    "\n",
    "# Create a Model to store attributes for filtering\n",
    "class Document(LanceModel):\n",
    "    text: str = model.SourceField()\n",
    "    vector: Vector(384) = model.VectorField()\n",
    "    category: str\n",
    "\n",
    "db = lancedb.connect(\".my_db\")\n",
    "tbl = db.create_table(\"my_table\", schema=Document)\n",
    "\n",
    "# Embed the documents and store them in the database\n",
    "tbl.add(docs)\n",
    "\n",
    "# Generate the full-text (tf-idf) search index\n",
    "tbl.create_fts_index(\"text\")\n",
    "\n",
    "# Initialise a reranker -- here, Cohere's API one\n",
    "from lancedb.rerankers import CohereReranker\n",
    "\n",
    "reranker = CohereReranker()\n",
    "\n",
    "query = \"What is Chihiro's new name given to her by the witch?\"\n",
    "\n",
    "results = (tbl.search(query, query_type=\"hybrid\")  # Hybrid means text + vector\n",
    "    .where(\"category = 'film'\", prefilter=True)  # Restrict to only docs in the 'film' category\n",
    "    .limit(10)  # Get 10 results from first-pass retrieval\n",
    "    .rerank(reranker=reranker))  # For the reranker to compute the final ranking"
   ]
  }
 ],
 "metadata": {
  "kernelspec": {
   "display_name": "Python 3",
   "language": "python",
   "name": "python3"
  },
  "language_info": {
   "name": "python",
   "version": "3.11.9"
  }
 },
 "nbformat": 4,
 "nbformat_minor": 2
}
