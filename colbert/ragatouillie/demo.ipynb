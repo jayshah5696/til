{
 "cells": [
  {
   "cell_type": "code",
   "execution_count": 1,
   "metadata": {},
   "outputs": [
    {
     "name": "stderr",
     "output_type": "stream",
     "text": [
      "/Users/jshah/micromamba/envs/hack/lib/python3.11/site-packages/tqdm/auto.py:21: TqdmWarning: IProgress not found. Please update jupyter and ipywidgets. See https://ipywidgets.readthedocs.io/en/stable/user_install.html\n",
      "  from .autonotebook import tqdm as notebook_tqdm\n"
     ]
    }
   ],
   "source": [
    "from ragatouille import RAGPretrainedModel\n",
    "import warnings\n",
    "warnings.filterwarnings(\"ignore\")\n"
   ]
  },
  {
   "cell_type": "code",
   "execution_count": 2,
   "metadata": {},
   "outputs": [
    {
     "name": "stdout",
     "output_type": "stream",
     "text": [
      "[Sep 05, 21:36:36] Loading segmented_maxsim_cpp extension (set COLBERT_LOAD_TORCH_EXTENSION_VERBOSE=True for more info)...\n"
     ]
    }
   ],
   "source": [
    "RAG = RAGPretrainedModel.from_pretrained(\"answerdotai/answerai-colbert-small-v1\")\n",
    "\n",
    "# Sample documents\n",
    "docs = [\n",
    "    \"Hayao Miyazaki is a Japanese director, born on January 5, 1941, in Tokyo, Japan. He is a co-founder of Studio Ghibli and is known for his works such as 'Spirited Away', 'My Neighbor Totoro', and 'Princess Mononoke'. Miyazaki is celebrated for his unique storytelling and animation style, which often includes themes of nature, pacifism, and feminism.\",\n",
    "    \"Walt Disney is an American entrepreneur, animator, and film producer, born on December 5, 1901, in Chicago, Illinois. He is the co-founder of The Walt Disney Company and is best known for creating iconic characters like Mickey Mouse and producing classic animated films such as 'Snow White and the Seven Dwarfs', 'Cinderella', and 'The Lion King'. Disney's work has had a profound impact on the entertainment industry and popular culture.\",\n",
    "    \"Isao Takahata was a Japanese director and producer, born on October 29, 1935, in Ise, Japan. He co-founded Studio Ghibli with Hayao Miyazaki and directed several critically acclaimed films, including 'Grave of the Fireflies', 'The Tale of the Princess Kaguya', and 'Only Yesterday'. Takahata's films are known for their emotional depth and social commentary.\",\n",
    "    \"John Lasseter is an American animator, director, and producer, born on January 12, 1957, in Hollywood, California. He was a key figure in the development of computer-animated films and served as the Chief Creative Officer at Pixar and Walt Disney Animation Studios. Lasseter directed and produced several successful films, including 'Toy Story', 'A Bug's Life', and 'Cars'. His work has been instrumental in shaping the modern animation industry.\",\n",
    "    \"Osamu Tezuka, often referred to as the 'God of Manga', was a Japanese manga artist, animator, and film producer, born on November 3, 1928, in Toyonaka, Japan. He is best known for creating the manga series 'Astro Boy', 'Black Jack', and 'Phoenix'. Tezuka's work laid the foundation for modern manga and anime, and he is credited with pioneering many of the techniques and conventions that are now standard in the industry.\",\n",
    "    \"Chuck Jones was an American animator, director, and screenwriter, born on September 21, 1912, in Spokane, Washington. He is best known for his work on the Looney Tunes and Merrie Melodies series of cartoons, where he created iconic characters such as Bugs Bunny, Daffy Duck, and Wile E. Coyote. Jones's work is celebrated for its wit, humor, and innovative animation techniques.\",\n",
    "    \"Mamoru Hosoda is a Japanese film director and animator, born on September 19, 1967, in Toyama, Japan. He is known for directing films such as 'The Girl Who Leapt Through Time', 'Summer Wars', and 'Wolf Children'. Hosoda's films often explore themes of family, technology, and the passage of time, and he is considered one of the leading figures in contemporary Japanese animation.\",\n",
    "    \"Glen Keane is an American animator, author, and illustrator, born on April 13, 1954, in Philadelphia, Pennsylvania. He is best known for his work at Walt Disney Animation Studios, where he animated characters such as Ariel in 'The Little Mermaid', Beast in 'Beauty and the Beast', and Aladdin in 'Aladdin'. Keane's work is renowned for its expressiveness and emotional depth, and he has been a major influence on the field of character animation.\",\n",
    "    \"**Paramahansa Yogananda** was an Indian monk and yogi who introduced millions to the teachings of meditation and Kriya Yoga through his book, 'Autobiography of a Yogi'. He established the Self-Realization Fellowship (SRF) to disseminate his teachings worldwide.\",\n",
    "    \"**Swami Vivekananda** was a key figure in the introduction of Vedanta and Yoga to the Western world. He was a disciple of Ramakrishna Paramahamsa and is known for his inspiring lectures and speeches on spirituality and Indian philosophy.\",\n",
    "    \"**Sri Aurobindo** was an Indian philosopher, yogi, guru, poet, and nationalist. He developed a spiritual practice called Integral Yoga, aiming for a divine life on earth. He also played a significant role in India's struggle for independence.\",\n",
    "    \"**Ramana Maharshi** was an Indian Hindu sage who advocated for self-enquiry as the principal means to achieve liberation. He is known for his teachings on Advaita Vedanta and his simple yet profound approach to spirituality.\",\n",
    "    \"**Sadhguru** (Jaggi Vasudev) is an Indian yogi, mystic, and author. He founded the Isha Foundation, a non-profit organization that offers yoga programs around the world and is involved in social outreach, education, and environmental initiatives.\" \n",
    "]"
   ]
  },
  {
   "cell_type": "code",
   "execution_count": 3,
   "metadata": {},
   "outputs": [
    {
     "name": "stdout",
     "output_type": "stream",
     "text": [
      "---- WARNING! You are using PLAID with an experimental replacement for FAISS for greater compatibility ----\n",
      "This is a behaviour change from RAGatouille 0.8.0 onwards.\n",
      "This works fine for most users and smallish datasets, but can be considerably slower than FAISS and could cause worse results in some situations.\n",
      "If you're confident with FAISS working on your machine, pass use_faiss=True to revert to the FAISS-using behaviour.\n",
      "--------------------\n",
      "\n",
      "\n",
      "[Sep 05, 21:36:37] #> Note: Output directory .ragatouille/colbert/indexes/index already exists\n",
      "\n",
      "\n",
      "[Sep 05, 21:36:37] #> Will delete 1 files already at .ragatouille/colbert/indexes/index in 20 seconds...\n",
      "[Sep 05, 21:36:58] [0] \t\t #> Encoding 13 passages..\n"
     ]
    },
    {
     "name": "stderr",
     "output_type": "stream",
     "text": [
      "100%|██████████| 1/1 [00:00<00:00,  1.70it/s]"
     ]
    },
    {
     "name": "stdout",
     "output_type": "stream",
     "text": [
      "[Sep 05, 21:36:58] [0] \t\t avg_doclen_est = 65.07691955566406 \t len(local_sample) = 13\n",
      "[Sep 05, 21:36:58] [0] \t\t Creating 256 partitions.\n",
      "[Sep 05, 21:36:58] [0] \t\t *Estimated* 845 embeddings.\n",
      "[Sep 05, 21:36:58] [0] \t\t #> Saving the indexing plan to .ragatouille/colbert/indexes/index/plan.json ..\n"
     ]
    },
    {
     "name": "stderr",
     "output_type": "stream",
     "text": [
      "\n"
     ]
    },
    {
     "name": "stdout",
     "output_type": "stream",
     "text": [
      "Warning: number of training points (804) is less than the minimum recommended (2560)\n",
      "used 11 iterations (0.013s) to cluster 804 items into 256 clusters\n",
      "[0.029, 0.026, 0.022, 0.02, 0.033, 0.023, 0.026, 0.02, 0.021, 0.02, 0.022, 0.026, 0.026, 0.02, 0.014, 0.027, 0.017, 0.026, 0.025, 0.023, 0.024, 0.023, 0.025, 0.022, 0.023, 0.022, 0.024, 0.018, 0.021, 0.023, 0.019, 0.023, 0.016, 0.027, 0.024, 0.026, 0.026, 0.024, 0.023, 0.03, 0.023, 0.026, 0.021, 0.025, 0.027, 0.026, 0.018, 0.024, 0.019, 0.023, 0.022, 0.018, 0.021, 0.027, 0.015, 0.023, 0.027, 0.024, 0.02, 0.021, 0.023, 0.025, 0.033, 0.024, 0.027, 0.027, 0.024, 0.024, 0.025, 0.026, 0.019, 0.026, 0.022, 0.023, 0.023, 0.025, 0.025, 0.023, 0.022, 0.027, 0.022, 0.025, 0.026, 0.023, 0.022, 0.025, 0.017, 0.02, 0.027, 0.03, 0.025, 0.024, 0.022, 0.024, 0.024, 0.018]\n"
     ]
    },
    {
     "name": "stderr",
     "output_type": "stream",
     "text": [
      "0it [00:00, ?it/s]"
     ]
    },
    {
     "name": "stdout",
     "output_type": "stream",
     "text": [
      "[Sep 05, 21:36:58] [0] \t\t #> Encoding 13 passages..\n"
     ]
    },
    {
     "name": "stderr",
     "output_type": "stream",
     "text": [
      "100%|██████████| 1/1 [00:00<00:00,  8.54it/s]\n",
      "1it [00:00,  7.94it/s]\n",
      "100%|██████████| 1/1 [00:00<00:00, 1788.62it/s]"
     ]
    },
    {
     "name": "stdout",
     "output_type": "stream",
     "text": [
      "[Sep 05, 21:36:59] #> Optimizing IVF to store map from centroids to list of pids..\n",
      "[Sep 05, 21:36:59] #> Building the emb2pid mapping..\n",
      "[Sep 05, 21:36:59] len(emb2pid) = 846\n"
     ]
    },
    {
     "name": "stderr",
     "output_type": "stream",
     "text": [
      "\n",
      "100%|██████████| 256/256 [00:00<00:00, 98157.22it/s]"
     ]
    },
    {
     "name": "stdout",
     "output_type": "stream",
     "text": [
      "[Sep 05, 21:36:59] #> Saved optimized IVF to .ragatouille/colbert/indexes/index/ivf.pid.pt\n",
      "Done indexing!\n"
     ]
    },
    {
     "name": "stderr",
     "output_type": "stream",
     "text": [
      "\n"
     ]
    },
    {
     "data": {
      "text/plain": [
       "'.ragatouille/colbert/indexes/index'"
      ]
     },
     "execution_count": 3,
     "metadata": {},
     "output_type": "execute_result"
    }
   ],
   "source": [
    "index_path = \"index\"\n",
    "RAG.index(\n",
    "    collection=docs,\n",
    "    index_name=index_path,\n",
    "    max_document_length=512,\n",
    "    split_documents=True,\n",
    "    # use_faiss=True, # use only when you can sure that faiss is working on your system\n",
    ")"
   ]
  },
  {
   "cell_type": "code",
   "execution_count": 6,
   "metadata": {},
   "outputs": [
    {
     "name": "stdout",
     "output_type": "stream",
     "text": [
      "Loading searcher for index index for the first time... This may take a few seconds\n",
      "[Sep 05, 21:37:44] #> Loading codec...\n",
      "[Sep 05, 21:37:44] #> Loading IVF...\n",
      "[Sep 05, 21:37:44] Loading segmented_lookup_cpp extension (set COLBERT_LOAD_TORCH_EXTENSION_VERBOSE=True for more info)...\n",
      "[Sep 05, 21:37:52] #> Loading doclens...\n"
     ]
    },
    {
     "name": "stderr",
     "output_type": "stream",
     "text": [
      "100%|██████████| 1/1 [00:00<00:00, 2362.99it/s]"
     ]
    },
    {
     "name": "stdout",
     "output_type": "stream",
     "text": [
      "[Sep 05, 21:37:52] #> Loading codes and residuals...\n"
     ]
    },
    {
     "name": "stderr",
     "output_type": "stream",
     "text": [
      "\n",
      "100%|██████████| 1/1 [00:00<00:00, 507.66it/s]"
     ]
    },
    {
     "name": "stdout",
     "output_type": "stream",
     "text": [
      "[Sep 05, 21:37:53] Loading filter_pids_cpp extension (set COLBERT_LOAD_TORCH_EXTENSION_VERBOSE=True for more info)...\n"
     ]
    },
    {
     "name": "stderr",
     "output_type": "stream",
     "text": [
      "\n"
     ]
    },
    {
     "name": "stdout",
     "output_type": "stream",
     "text": [
      "[Sep 05, 21:38:00] Loading decompress_residuals_cpp extension (set COLBERT_LOAD_TORCH_EXTENSION_VERBOSE=True for more info)...\n",
      "Searcher loaded!\n",
      "\n",
      "#> QueryTokenizer.tensorize(batch_text[0], batch_background[0], bsize) ==\n",
      "#> Input: . Who is Hayao Miyazaki?, \t\t True, \t\t None\n",
      "#> Output IDs: torch.Size([32]), tensor([  101,     1,  2040,  2003, 10974,  7113,  2771,  3148, 18637,  1029,\n",
      "          102,   103,   103,   103,   103,   103,   103,   103,   103,   103,\n",
      "          103,   103,   103,   103,   103,   103,   103,   103,   103,   103,\n",
      "          103,   103])\n",
      "#> Output Mask: torch.Size([32]), tensor([1, 1, 1, 1, 1, 1, 1, 1, 1, 1, 1, 0, 0, 0, 0, 0, 0, 0, 0, 0, 0, 0, 0, 0,\n",
      "        0, 0, 0, 0, 0, 0, 0, 0])\n",
      "\n"
     ]
    },
    {
     "data": {
      "text/plain": [
       "[{'content': \"Hayao Miyazaki is a Japanese director, born on January 5, 1941, in Tokyo, Japan. He is a co-founder of Studio Ghibli and is known for his works such as 'Spirited Away', 'My Neighbor Totoro', and 'Princess Mononoke'. Miyazaki is celebrated for his unique storytelling and animation style, which often includes themes of nature, pacifism, and feminism.\",\n",
       "  'score': 31.481689453125,\n",
       "  'rank': 1,\n",
       "  'document_id': '2faa19b2-425c-41c8-85b5-3b961cc39bce',\n",
       "  'passage_id': 0}]"
      ]
     },
     "execution_count": 6,
     "metadata": {},
     "output_type": "execute_result"
    }
   ],
   "source": [
    "RAG.search(\"Who is Hayao Miyazaki?\", index_name=index_path, k=1)"
   ]
  },
  {
   "cell_type": "code",
   "execution_count": 7,
   "metadata": {},
   "outputs": [
    {
     "data": {
      "text/plain": [
       "[{'content': \"**Paramahansa Yogananda** was an Indian monk and yogi who introduced millions to the teachings of meditation and Kriya Yoga through his book, 'Autobiography of a Yogi'. He established the Self-Realization Fellowship (SRF) to disseminate his teachings worldwide.\",\n",
       "  'score': 30.924137115478516,\n",
       "  'rank': 1,\n",
       "  'document_id': 'dfd62300-c66e-4a25-8d6f-0e908afe4c41',\n",
       "  'passage_id': 8},\n",
       " {'content': '**Sadhguru** (Jaggi Vasudev) is an Indian yogi, mystic, and author. He founded the Isha Foundation, a non-profit organization that offers yoga programs around the world and is involved in social outreach, education, and environmental initiatives.',\n",
       "  'score': 30.863876342773438,\n",
       "  'rank': 2,\n",
       "  'document_id': 'e73cbae8-25f4-42c8-9a92-0f48d3b67261',\n",
       "  'passage_id': 12},\n",
       " {'content': \"**Sri Aurobindo** was an Indian philosopher, yogi, guru, poet, and nationalist. He developed a spiritual practice called Integral Yoga, aiming for a divine life on earth. He also played a significant role in India's struggle for independence.\",\n",
       "  'score': 30.859962463378906,\n",
       "  'rank': 3,\n",
       "  'document_id': 'b91dee7d-634e-4164-a5f8-c629bb0201d1',\n",
       "  'passage_id': 10}]"
      ]
     },
     "execution_count": 7,
     "metadata": {},
     "output_type": "execute_result"
    }
   ],
   "source": [
    "RAG.search(\"Who is famous yogi?\", index_name=index_path, k=3)"
   ]
  },
  {
   "cell_type": "code",
   "execution_count": 10,
   "metadata": {},
   "outputs": [],
   "source": [
    "RAG = RAGPretrainedModel.from_index(\".ragatouille/colbert/indexes/index\")"
   ]
  },
  {
   "cell_type": "code",
   "execution_count": 11,
   "metadata": {},
   "outputs": [
    {
     "name": "stdout",
     "output_type": "stream",
     "text": [
      "Loading searcher for index index for the first time... This may take a few seconds\n",
      "[Sep 05, 21:40:02] #> Loading codec...\n",
      "[Sep 05, 21:40:02] #> Loading IVF...\n",
      "[Sep 05, 21:40:02] #> Loading doclens...\n"
     ]
    },
    {
     "name": "stderr",
     "output_type": "stream",
     "text": [
      "100%|██████████| 1/1 [00:00<00:00, 2310.91it/s]"
     ]
    },
    {
     "name": "stdout",
     "output_type": "stream",
     "text": [
      "[Sep 05, 21:40:02] #> Loading codes and residuals...\n"
     ]
    },
    {
     "name": "stderr",
     "output_type": "stream",
     "text": [
      "\n",
      "100%|██████████| 1/1 [00:00<00:00, 743.93it/s]"
     ]
    },
    {
     "name": "stdout",
     "output_type": "stream",
     "text": [
      "Searcher loaded!\n",
      "\n",
      "#> QueryTokenizer.tensorize(batch_text[0], batch_background[0], bsize) ==\n",
      "#> Input: . Who is famous yogi?, \t\t True, \t\t None\n",
      "#> Output IDs: torch.Size([32]), tensor([  101,     1,  2040,  2003,  3297, 10930,  5856,  1029,   102,   103,\n",
      "          103,   103,   103,   103,   103,   103,   103,   103,   103,   103,\n",
      "          103,   103,   103,   103,   103,   103,   103,   103,   103,   103,\n",
      "          103,   103])\n",
      "#> Output Mask: torch.Size([32]), tensor([1, 1, 1, 1, 1, 1, 1, 1, 1, 0, 0, 0, 0, 0, 0, 0, 0, 0, 0, 0, 0, 0, 0, 0,\n",
      "        0, 0, 0, 0, 0, 0, 0, 0])\n",
      "\n"
     ]
    },
    {
     "name": "stderr",
     "output_type": "stream",
     "text": [
      "\n"
     ]
    },
    {
     "data": {
      "text/plain": [
       "[{'content': \"**Paramahansa Yogananda** was an Indian monk and yogi who introduced millions to the teachings of meditation and Kriya Yoga through his book, 'Autobiography of a Yogi'. He established the Self-Realization Fellowship (SRF) to disseminate his teachings worldwide.\",\n",
       "  'score': 30.924137115478516,\n",
       "  'rank': 1,\n",
       "  'document_id': 'dfd62300-c66e-4a25-8d6f-0e908afe4c41',\n",
       "  'passage_id': 8},\n",
       " {'content': '**Sadhguru** (Jaggi Vasudev) is an Indian yogi, mystic, and author. He founded the Isha Foundation, a non-profit organization that offers yoga programs around the world and is involved in social outreach, education, and environmental initiatives.',\n",
       "  'score': 30.863876342773438,\n",
       "  'rank': 2,\n",
       "  'document_id': 'e73cbae8-25f4-42c8-9a92-0f48d3b67261',\n",
       "  'passage_id': 12},\n",
       " {'content': \"**Sri Aurobindo** was an Indian philosopher, yogi, guru, poet, and nationalist. He developed a spiritual practice called Integral Yoga, aiming for a divine life on earth. He also played a significant role in India's struggle for independence.\",\n",
       "  'score': 30.859962463378906,\n",
       "  'rank': 3,\n",
       "  'document_id': 'b91dee7d-634e-4164-a5f8-c629bb0201d1',\n",
       "  'passage_id': 10}]"
      ]
     },
     "execution_count": 11,
     "metadata": {},
     "output_type": "execute_result"
    }
   ],
   "source": [
    "RAG.search(\"Who is famous yogi?\", index_name=index_path, k=3)"
   ]
  },
  {
   "cell_type": "markdown",
   "metadata": {
    "vscode": {
     "languageId": "bat"
    }
   },
   "source": [
    "## testing the server running\n"
   ]
  },
  {
   "cell_type": "code",
   "execution_count": 44,
   "metadata": {},
   "outputs": [],
   "source": [
    "import requests\n",
    "\n",
    "def test_create_index():\n",
    "    response = requests.post(\n",
    "        \"http://localhost:8000/create_index\",\n",
    "        json={\n",
    "    \"index_name\": \"my_index\",\n",
    "    \"documents\": [\n",
    "        {\"id\": \"doc1\", \"text\": \"**Paramahansa Yogananda** was an Indian monk and yogi who introduced millions to the teachings of meditation and Kriya Yoga through his book, 'Autobiography of a Yogi'. He established the Self-Realization Fellowship (SRF) to disseminate his teachings worldwide.\"},\n",
    "        {\"id\": \"doc2\", \"text\": \"**Swami Vivekananda** was a key figure in the introduction of Vedanta and Yoga to the Western world. He was a disciple of Ramakrishna Paramahamsa and is known for his inspiring lectures and speeches on spirituality and Indian philosophy.\"},\n",
    "        {\"id\": \"doc3\", \"text\": \"**Sri Aurobindo** was an Indian philosopher, yogi, guru, poet, and nationalist. He developed a spiritual practice called Integral Yoga, aiming for a divine life on earth. He also played a significant role in India's struggle for independence.\"},\n",
    "        {\"id\": \"doc4\", \"text\": \"**Ramana Maharshi** was an Indian Hindu sage who advocated for self-enquiry as the principal means to achieve liberation. He is known for his teachings on Advaita Vedanta and his simple yet profound approach to spirituality.\"},\n",
    "        {\"id\": \"doc5\", \"text\": \"**Sadhguru** (Jaggi Vasudev) is an Indian yogi, mystic, and author. He founded the Isha Foundation, a non-profit organization that offers yoga programs around the world and is involved in social outreach, education, and environmental initiatives.\"} \n",
    "    ]\n",
    "    },\n",
    "    )\n",
    "    assert response.status_code == 200\n",
    "    assert response.json()[\"message\"] == \"Index created successfully\"\n",
    "\n",
    "def test_query_index():\n",
    "    response = requests.post(\n",
    "        \"http://localhost:8000/query\",\n",
    "        json={\"text\": \"What is the first document?\", \"k\": 3},\n",
    "        params={\"index_name\": \"my_index\"},\n",
    "    )\n",
    "    print(response.json())\n",
    "    assert response.status_code == 200"
   ]
  },
  {
   "cell_type": "code",
   "execution_count": 45,
   "metadata": {},
   "outputs": [],
   "source": [
    "test_create_index()"
   ]
  },
  {
   "cell_type": "code",
   "execution_count": 46,
   "metadata": {},
   "outputs": [
    {
     "name": "stdout",
     "output_type": "stream",
     "text": [
      "{'answer': [{'content': '**Swami Vivekananda** was a key figure in the introduction of Vedanta and Yoga to the Western world. He was a disciple of Ramakrishna Paramahamsa and is known for his inspiring lectures and speeches on spirituality and Indian philosophy.', 'score': 30.599132537841797, 'rank': 1, 'document_id': '203a5a2c-e500-476f-a145-091b5889e6c0', 'passage_id': 1}, {'content': \"**Paramahansa Yogananda** was an Indian monk and yogi who introduced millions to the teachings of meditation and Kriya Yoga through his book, 'Autobiography of a Yogi'. He established the Self-Realization Fellowship (SRF) to disseminate his teachings worldwide.\", 'score': 30.54745864868164, 'rank': 2, 'document_id': '5036a1fb-b42e-4257-8436-dfe83b6450c5', 'passage_id': 0}, {'content': '**Sadhguru** (Jaggi Vasudev) is an Indian yogi, mystic, and author. He founded the Isha Foundation, a non-profit organization that offers yoga programs around the world and is involved in social outreach, education, and environmental initiatives.', 'score': 30.520137786865234, 'rank': 3, 'document_id': 'b25780e5-05e5-4be8-ab00-f8b6f358f592', 'passage_id': 4}]}\n"
     ]
    }
   ],
   "source": [
    "test_query_index()"
   ]
  },
  {
   "cell_type": "code",
   "execution_count": null,
   "metadata": {},
   "outputs": [],
   "source": []
  },
  {
   "cell_type": "code",
   "execution_count": 47,
   "metadata": {},
   "outputs": [],
   "source": [
    "import requests\n",
    "\n",
    "def test_create_index():\n",
    "    response = requests.post(\n",
    "        \"https://jayshah5696--ragatouille-api-fastapi-app-dev.modal.run/create_index\",\n",
    "        json={\n",
    "    \"index_name\": \"my_index\",\n",
    "    \"documents\": [\n",
    "        {\"id\": \"doc1\", \"text\": \"**Paramahansa Yogananda** was an Indian monk and yogi who introduced millions to the teachings of meditation and Kriya Yoga through his book, 'Autobiography of a Yogi'. He established the Self-Realization Fellowship (SRF) to disseminate his teachings worldwide.\"},\n",
    "        {\"id\": \"doc2\", \"text\": \"**Swami Vivekananda** was a key figure in the introduction of Vedanta and Yoga to the Western world. He was a disciple of Ramakrishna Paramahamsa and is known for his inspiring lectures and speeches on spirituality and Indian philosophy.\"},\n",
    "        {\"id\": \"doc3\", \"text\": \"**Sri Aurobindo** was an Indian philosopher, yogi, guru, poet, and nationalist. He developed a spiritual practice called Integral Yoga, aiming for a divine life on earth. He also played a significant role in India's struggle for independence.\"},\n",
    "        {\"id\": \"doc4\", \"text\": \"**Ramana Maharshi** was an Indian Hindu sage who advocated for self-enquiry as the principal means to achieve liberation. He is known for his teachings on Advaita Vedanta and his simple yet profound approach to spirituality.\"},\n",
    "        {\"id\": \"doc5\", \"text\": \"**Sadhguru** (Jaggi Vasudev) is an Indian yogi, mystic, and author. He founded the Isha Foundation, a non-profit organization that offers yoga programs around the world and is involved in social outreach, education, and environmental initiatives.\"} \n",
    "    ]\n",
    "    },\n",
    "    )\n",
    "    assert response.status_code == 200\n",
    "    assert response.json()[\"message\"] == \"Index created successfully\"\n",
    "\n",
    "def test_query_index():\n",
    "    response = requests.post(\n",
    "        \"https://jayshah5696--ragatouille-api-fastapi-app-dev.modal.run/query\",\n",
    "        json={\"text\": \"What is the first document?\", \"k\": 3},\n",
    "        params={\"index_name\": \"my_index\"},\n",
    "    )\n",
    "    print(response.json())\n",
    "    assert response.status_code == 200"
   ]
  },
  {
   "cell_type": "code",
   "execution_count": 56,
   "metadata": {},
   "outputs": [],
   "source": [
    "test_create_index()"
   ]
  },
  {
   "cell_type": "code",
   "execution_count": 57,
   "metadata": {},
   "outputs": [
    {
     "name": "stdout",
     "output_type": "stream",
     "text": [
      "{'answer': [{'content': '**Swami Vivekananda** was a key figure in the introduction of Vedanta and Yoga to the Western world. He was a disciple of Ramakrishna Paramahamsa and is known for his inspiring lectures and speeches on spirituality and Indian philosophy.', 'score': 30.60704231262207, 'rank': 1, 'document_id': '223cbc4e-c569-4134-8814-9357be7c39b2', 'passage_id': 1}, {'content': \"**Paramahansa Yogananda** was an Indian monk and yogi who introduced millions to the teachings of meditation and Kriya Yoga through his book, 'Autobiography of a Yogi'. He established the Self-Realization Fellowship (SRF) to disseminate his teachings worldwide.\", 'score': 30.544490814208984, 'rank': 2, 'document_id': '0bdf2221-7b34-4591-af77-f0734d101a94', 'passage_id': 0}, {'content': '**Ramana Maharshi** was an Indian Hindu sage who advocated for self-enquiry as the principal means to achieve liberation. He is known for his teachings on Advaita Vedanta and his simple yet profound approach to spirituality.', 'score': 30.530323028564453, 'rank': 3, 'document_id': 'd741b11e-b4d6-440d-aef4-26c5446df50a', 'passage_id': 3}]}\n"
     ]
    }
   ],
   "source": [
    "test_query_index()"
   ]
  },
  {
   "cell_type": "code",
   "execution_count": null,
   "metadata": {},
   "outputs": [],
   "source": []
  }
 ],
 "metadata": {
  "kernelspec": {
   "display_name": "Python 3",
   "language": "python",
   "name": "python3"
  },
  "language_info": {
   "codemirror_mode": {
    "name": "ipython",
    "version": 3
   },
   "file_extension": ".py",
   "mimetype": "text/x-python",
   "name": "python",
   "nbconvert_exporter": "python",
   "pygments_lexer": "ipython3",
   "version": "3.11.9"
  }
 },
 "nbformat": 4,
 "nbformat_minor": 2
}
