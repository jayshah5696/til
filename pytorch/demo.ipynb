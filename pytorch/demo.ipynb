{
 "cells": [
  {
   "cell_type": "code",
   "execution_count": 1,
   "metadata": {},
   "outputs": [
    {
     "name": "stdout",
     "output_type": "stream",
     "text": [
      "2.2.1\n"
     ]
    }
   ],
   "source": [
    "import torch\n",
    "print(torch.__version__)"
   ]
  },
  {
   "cell_type": "code",
   "execution_count": 2,
   "metadata": {},
   "outputs": [
    {
     "name": "stdout",
     "output_type": "stream",
     "text": [
      "False\n"
     ]
    }
   ],
   "source": [
    "print(torch.cuda.is_available())"
   ]
  },
  {
   "cell_type": "code",
   "execution_count": 3,
   "metadata": {},
   "outputs": [],
   "source": [
    "import numpy as np\n",
    "tensor_0d = torch.tensor(1) # scalar value"
   ]
  },
  {
   "cell_type": "code",
   "execution_count": 5,
   "metadata": {},
   "outputs": [
    {
     "data": {
      "text/plain": [
       "torch.Size([])"
      ]
     },
     "execution_count": 5,
     "metadata": {},
     "output_type": "execute_result"
    }
   ],
   "source": [
    "tensor_0d.shape"
   ]
  },
  {
   "cell_type": "code",
   "execution_count": 6,
   "metadata": {},
   "outputs": [
    {
     "data": {
      "text/plain": [
       "torch.Size([3])"
      ]
     },
     "execution_count": 6,
     "metadata": {},
     "output_type": "execute_result"
    }
   ],
   "source": [
    "tensor_1d = torch.tensor([1,2,3]) # 1d from list like a series\n",
    "tensor_1d.shape\n",
    "# 1d however it shows its size"
   ]
  },
  {
   "cell_type": "code",
   "execution_count": 7,
   "metadata": {},
   "outputs": [
    {
     "data": {
      "text/plain": [
       "torch.Size([2, 2])"
      ]
     },
     "execution_count": 7,
     "metadata": {},
     "output_type": "execute_result"
    }
   ],
   "source": [
    "tensor_2d = torch.tensor([[1,2],[3,4]])\n",
    "tensor_2d.shape "
   ]
  },
  {
   "cell_type": "code",
   "execution_count": 10,
   "metadata": {},
   "outputs": [
    {
     "data": {
      "text/plain": [
       "torch.Size([2, 3, 3])"
      ]
     },
     "execution_count": 10,
     "metadata": {},
     "output_type": "execute_result"
    }
   ],
   "source": [
    "tensor_3d = torch.tensor([[[1,2,3],[4,5,6],[7,8,9]],[[2,3,4],[3,4,5],[5,6,7]]])\n",
    "tensor_3d.shape"
   ]
  },
  {
   "cell_type": "code",
   "execution_count": 11,
   "metadata": {},
   "outputs": [
    {
     "data": {
      "text/plain": [
       "tensor([[[1, 2, 3],\n",
       "         [4, 5, 6],\n",
       "         [7, 8, 9]],\n",
       "\n",
       "        [[2, 3, 4],\n",
       "         [3, 4, 5],\n",
       "         [5, 6, 7]]])"
      ]
     },
     "execution_count": 11,
     "metadata": {},
     "output_type": "execute_result"
    }
   ],
   "source": [
    "tensor_3d"
   ]
  },
  {
   "cell_type": "code",
   "execution_count": 12,
   "metadata": {},
   "outputs": [],
   "source": [
    "ary_3d = np.array([[[1,2],[3,4]],[[5,6],[7,8]]])\n",
    "tensor_3d_2 = torch.tensor(ary_3d) # copies memory\n",
    "tensor_3d_3 = torch.from_numpy(ary_3d) # shares the memory\n"
   ]
  },
  {
   "cell_type": "code",
   "execution_count": 14,
   "metadata": {},
   "outputs": [
    {
     "data": {
      "text/plain": [
       "tensor([[[1, 2],\n",
       "         [3, 4]],\n",
       "\n",
       "        [[5, 6],\n",
       "         [7, 8]]])"
      ]
     },
     "execution_count": 14,
     "metadata": {},
     "output_type": "execute_result"
    }
   ],
   "source": [
    "ary_3d[0,0,0]=-999 # i,j,k in the dimension here i can be 0,1 j,k 0,1,2\n",
    "tensor_3d_2"
   ]
  },
  {
   "cell_type": "code",
   "execution_count": 15,
   "metadata": {},
   "outputs": [
    {
     "data": {
      "text/plain": [
       "tensor([[[-999,    2],\n",
       "         [   3,    4]],\n",
       "\n",
       "        [[   5,    6],\n",
       "         [   7,    8]]])"
      ]
     },
     "execution_count": 15,
     "metadata": {},
     "output_type": "execute_result"
    }
   ],
   "source": [
    "tensor_3d_3"
   ]
  },
  {
   "cell_type": "code",
   "execution_count": 17,
   "metadata": {},
   "outputs": [
    {
     "name": "stdout",
     "output_type": "stream",
     "text": [
      "torch.Size([2, 3])\n"
     ]
    },
    {
     "data": {
      "text/plain": [
       "tensor([[1, 2, 3],\n",
       "        [4, 5, 6]])"
      ]
     },
     "execution_count": 17,
     "metadata": {},
     "output_type": "execute_result"
    }
   ],
   "source": [
    "tensor_2d = torch.tensor([[1,2,3],[4,5,6]])\n",
    "print(tensor_2d.shape)\n",
    "tensor_2d\n"
   ]
  },
  {
   "cell_type": "code",
   "execution_count": 18,
   "metadata": {},
   "outputs": [
    {
     "data": {
      "text/plain": [
       "tensor([[1, 2],\n",
       "        [3, 4],\n",
       "        [5, 6]])"
      ]
     },
     "execution_count": 18,
     "metadata": {},
     "output_type": "execute_result"
    }
   ],
   "source": [
    "tensor_2d.reshape(3,2)"
   ]
  },
  {
   "cell_type": "code",
   "execution_count": 19,
   "metadata": {},
   "outputs": [
    {
     "data": {
      "text/plain": [
       "tensor([1, 2, 3, 4, 5, 6])"
      ]
     },
     "execution_count": 19,
     "metadata": {},
     "output_type": "execute_result"
    }
   ],
   "source": [
    "tensor_2d.reshape(-1) # flatten "
   ]
  },
  {
   "cell_type": "code",
   "execution_count": 22,
   "metadata": {},
   "outputs": [
    {
     "data": {
      "text/plain": [
       "tensor([[1, 2, 3, 4, 5, 6]])"
      ]
     },
     "execution_count": 22,
     "metadata": {},
     "output_type": "execute_result"
    }
   ],
   "source": [
    "tensor_2d.reshape(1,6)"
   ]
  },
  {
   "cell_type": "code",
   "execution_count": 23,
   "metadata": {},
   "outputs": [
    {
     "data": {
      "text/plain": [
       "tensor([[1],\n",
       "        [2],\n",
       "        [3],\n",
       "        [4],\n",
       "        [5],\n",
       "        [6]])"
      ]
     },
     "execution_count": 23,
     "metadata": {},
     "output_type": "execute_result"
    }
   ],
   "source": [
    "tensor_2d.reshape(6,1)"
   ]
  },
  {
   "cell_type": "code",
   "execution_count": 24,
   "metadata": {},
   "outputs": [
    {
     "data": {
      "text/plain": [
       "tensor([[1, 2],\n",
       "        [3, 4],\n",
       "        [5, 6]])"
      ]
     },
     "execution_count": 24,
     "metadata": {},
     "output_type": "execute_result"
    }
   ],
   "source": [
    "tensor_2d.view(3,2)"
   ]
  },
  {
   "cell_type": "code",
   "execution_count": 25,
   "metadata": {},
   "outputs": [
    {
     "data": {
      "text/plain": [
       "tensor([1, 2, 3, 4, 5, 6])"
      ]
     },
     "execution_count": 25,
     "metadata": {},
     "output_type": "execute_result"
    }
   ],
   "source": [
    "tensor_2d.view(-1)"
   ]
  },
  {
   "cell_type": "markdown",
   "metadata": {},
   "source": [
    "## diff between view and reshape\n",
    "- view requieres contiguous tensor \n",
    "- reshape is flexible, copies data in memory\n",
    "\n"
   ]
  },
  {
   "cell_type": "code",
   "execution_count": 27,
   "metadata": {},
   "outputs": [
    {
     "data": {
      "text/plain": [
       "tensor([[14, 32],\n",
       "        [32, 77]])"
      ]
     },
     "execution_count": 27,
     "metadata": {},
     "output_type": "execute_result"
    }
   ],
   "source": [
    "tensor_2d.matmul(tensor_2d.T)"
   ]
  },
  {
   "cell_type": "code",
   "execution_count": 28,
   "metadata": {},
   "outputs": [
    {
     "data": {
      "text/plain": [
       "tensor([[14, 32],\n",
       "        [32, 77]])"
      ]
     },
     "execution_count": 28,
     "metadata": {},
     "output_type": "execute_result"
    }
   ],
   "source": [
    "tensor_2d @ tensor_2d.T # @ refers as matrix multiplication"
   ]
  },
  {
   "cell_type": "markdown",
   "metadata": {},
   "source": [
    "## using torch as a computation graph"
   ]
  },
  {
   "cell_type": "code",
   "execution_count": 29,
   "metadata": {},
   "outputs": [
    {
     "name": "stdout",
     "output_type": "stream",
     "text": [
      "tensor(0.0852)\n"
     ]
    }
   ],
   "source": [
    "import torch.nn.functional as F\n",
    "\n",
    "y = torch.tensor([1.0])  # true label\n",
    "x1 = torch.tensor([1.1]) # input feature\n",
    "w = torch.tensor([2.2])  # weight param\n",
    "b = torch.tensor([0.0])  # bias \n",
    "\n",
    "model = torch.sigmoid(x1 * w + b)\n",
    "loss = F.binary_cross_entropy(model,y)\n",
    "\n",
    "print(loss)"
   ]
  },
  {
   "cell_type": "code",
   "execution_count": 30,
   "metadata": {},
   "outputs": [
    {
     "name": "stdout",
     "output_type": "stream",
     "text": [
      "tensor(0.0852, grad_fn=<BinaryCrossEntropyBackward0>)\n",
      "(tensor([-0.0898]),) (tensor([-0.0817]),)\n"
     ]
    }
   ],
   "source": [
    "import torch.nn.functional as F\n",
    "from torch.autograd import grad\n",
    "\n",
    "y = torch.tensor([1.0])                     # true label\n",
    "x1 = torch.tensor([1.1])                    # input feature\n",
    "w = torch.tensor([2.2],requires_grad=True)  # weight param\n",
    "b = torch.tensor([0.0],requires_grad=True)  # bias \n",
    "\n",
    "model = torch.sigmoid(x1 * w + b)\n",
    "loss = F.binary_cross_entropy(model,y)\n",
    "\n",
    "print(loss)\n",
    "\n",
    "grad_L_w = grad(loss, w, retain_graph=True)\n",
    "grad_L_b = grad(loss, b, retain_graph=True)\n",
    "\n",
    "print(grad_L_w,grad_L_b)"
   ]
  },
  {
   "cell_type": "code",
   "execution_count": 31,
   "metadata": {},
   "outputs": [
    {
     "name": "stdout",
     "output_type": "stream",
     "text": [
      "tensor([-0.0898]) tensor([-0.0817])\n"
     ]
    }
   ],
   "source": [
    "loss.backward() # automatic calulcation of grad if required_grad=True added for the weight parameter\n",
    "print(w.grad,b.grad)"
   ]
  },
  {
   "cell_type": "code",
   "execution_count": null,
   "metadata": {},
   "outputs": [],
   "source": [
    "# next implement linear regression\n",
    "# logistic regression\n",
    "# add callback functions \n",
    "# create simple MLP\n",
    "# use object notation forward and backward\n",
    "# create typical training loop\n",
    "# use of different optimizer vs manual runs"
   ]
  },
  {
   "cell_type": "code",
   "execution_count": 4,
   "metadata": {},
   "outputs": [],
   "source": [
    "class NeuralNetwork(torch.nn.Module):\n",
    "    def __init__(self,num_input,num_output):\n",
    "        super().__init__() # inherit from the parent class\n",
    "        self.layers = torch.nn.Sequential(\n",
    "            # 1st hidden layer\n",
    "            torch.nn.Linear(num_input, 30), \n",
    "            torch.nn.ReLU(),\n",
    "\n",
    "            # 2nd hidden layer\n",
    "            torch.nn.Linear(30, 20),\n",
    "            torch.nn.ReLU(),\n",
    "\n",
    "            # output layer\n",
    "            torch.nn.Linear(20, num_output),\n",
    "        )\n",
    "\n",
    "    def forward(self,x):\n",
    "        # forward pass of the neural network\n",
    "        # output of the last layer is called logits\n",
    "        # logits are the raw scores from the neural network\n",
    "        logits = self.layers(x)\n",
    "        return logits\n",
    "        "
   ]
  },
  {
   "cell_type": "code",
   "execution_count": 5,
   "metadata": {},
   "outputs": [
    {
     "name": "stdout",
     "output_type": "stream",
     "text": [
      "NeuralNetwork(\n",
      "  (layers): Sequential(\n",
      "    (0): Linear(in_features=50, out_features=30, bias=True)\n",
      "    (1): ReLU()\n",
      "    (2): Linear(in_features=30, out_features=20, bias=True)\n",
      "    (3): ReLU()\n",
      "    (4): Linear(in_features=20, out_features=3, bias=True)\n",
      "  )\n",
      ")\n"
     ]
    }
   ],
   "source": [
    "model = NeuralNetwork(50,3)\n",
    "print(model)"
   ]
  },
  {
   "cell_type": "code",
   "execution_count": 6,
   "metadata": {},
   "outputs": [],
   "source": [
    "# we used sequential to define the layers\n",
    "# we just need to define self.layers = Sequential(...) instead of defining each layer separately\n"
   ]
  },
  {
   "cell_type": "code",
   "execution_count": 7,
   "metadata": {},
   "outputs": [
    {
     "name": "stdout",
     "output_type": "stream",
     "text": [
      "2,213 total parameters.\n"
     ]
    }
   ],
   "source": [
    "#total parameter counts\n",
    "total_params = sum(p.numel() for p in model.parameters())\n",
    "print(f'{total_params:,} total parameters.')"
   ]
  },
  {
   "cell_type": "code",
   "execution_count": 8,
   "metadata": {},
   "outputs": [],
   "source": [
    "# each param for which requires_grad=True is counted as trainable parameter"
   ]
  },
  {
   "cell_type": "code",
   "execution_count": 10,
   "metadata": {},
   "outputs": [
    {
     "name": "stdout",
     "output_type": "stream",
     "text": [
      "torch.Size([30, 50])\n",
      "torch.Size([30])\n",
      "Parameter containing:\n",
      "tensor([[-0.0264, -0.0656, -0.0044,  ...,  0.1317,  0.1320, -0.0301],\n",
      "        [ 0.0546,  0.0949, -0.0671,  ..., -0.0488,  0.0119, -0.1121],\n",
      "        [ 0.0757, -0.0017,  0.1341,  ...,  0.1060,  0.0752, -0.0343],\n",
      "        ...,\n",
      "        [-0.0183, -0.0792, -0.0873,  ..., -0.0257,  0.0470,  0.0391],\n",
      "        [ 0.0802, -0.0648, -0.1215,  ..., -0.0139, -0.0753, -0.0386],\n",
      "        [-0.0655,  0.1242, -0.0064,  ..., -0.0956, -0.0372,  0.0789]],\n",
      "       requires_grad=True)\n"
     ]
    }
   ],
   "source": [
    "print(model.layers[0].weight.shape)\n",
    "print(model.layers[0].bias.shape)\n",
    "print(model.layers[0].weight)"
   ]
  },
  {
   "cell_type": "code",
   "execution_count": 11,
   "metadata": {},
   "outputs": [],
   "source": [
    "# during the model training model is initialized with small random numbers\n",
    "# this is desired to break the symmetry of the model\n",
    "# however we can also initialize the model with some specific initialization\n",
    "# we can also use the pretrained model\n"
   ]
  },
  {
   "cell_type": "code",
   "execution_count": 14,
   "metadata": {},
   "outputs": [
    {
     "name": "stdout",
     "output_type": "stream",
     "text": [
      "Parameter containing:\n",
      "tensor([[-0.0577,  0.0047, -0.0702,  ...,  0.0222,  0.1260,  0.0865],\n",
      "        [ 0.0502,  0.0307,  0.0333,  ...,  0.0951,  0.1134, -0.0297],\n",
      "        [ 0.1077, -0.1108,  0.0122,  ...,  0.0108, -0.1049, -0.1063],\n",
      "        ...,\n",
      "        [-0.0787,  0.1259,  0.0803,  ...,  0.1218,  0.1303, -0.1351],\n",
      "        [ 0.1359,  0.0175, -0.0673,  ...,  0.0674,  0.0676,  0.1058],\n",
      "        [ 0.0790,  0.1343, -0.0293,  ...,  0.0344, -0.0971, -0.0509]],\n",
      "       requires_grad=True)\n"
     ]
    }
   ],
   "source": [
    "torch.manual_seed(123)\n",
    "model = NeuralNetwork(50,3)\n",
    "print(model.layers[0].weight)"
   ]
  },
  {
   "cell_type": "code",
   "execution_count": 17,
   "metadata": {},
   "outputs": [
    {
     "name": "stdout",
     "output_type": "stream",
     "text": [
      "tensor([[-0.1262,  0.1080, -0.1792]], grad_fn=<AddmmBackward0>)\n"
     ]
    }
   ],
   "source": [
    "torch.manual_seed(123)\n",
    "X = torch.rand(size=(1,50))\n",
    "out = model(X)\n",
    "print(out)"
   ]
  },
  {
   "cell_type": "code",
   "execution_count": 18,
   "metadata": {},
   "outputs": [],
   "source": [
    "# here output is grad function AddmmBackward0\n",
    "# which means addmm == matrix multiplication and addition\n",
    "# that means model was running with backpropagation condition on"
   ]
  },
  {
   "cell_type": "code",
   "execution_count": 19,
   "metadata": {},
   "outputs": [
    {
     "name": "stdout",
     "output_type": "stream",
     "text": [
      "tensor([[-0.1262,  0.1080, -0.1792]])\n"
     ]
    }
   ],
   "source": [
    "# if we want to run the model without backpropagation\n",
    "# we can use torch.no_grad() context manager\n",
    "with torch.no_grad():\n",
    "    out = model(X)\n",
    "print(out)"
   ]
  },
  {
   "cell_type": "code",
   "execution_count": 20,
   "metadata": {},
   "outputs": [],
   "source": [
    "# its a common practice in pytorch to return the output of the last layer without activation function (non linearity)\n",
    "# this is because the loss function we use in pytorch like cross entropy, mse, etc \n",
    "# they have the activation function built in them\n",
    "# the reason is numerical stability and efficiency"
   ]
  },
  {
   "cell_type": "code",
   "execution_count": 21,
   "metadata": {},
   "outputs": [
    {
     "name": "stdout",
     "output_type": "stream",
     "text": [
      "tensor([[0.3113, 0.3934, 0.2952]])\n"
     ]
    }
   ],
   "source": [
    "with torch.no_grad():\n",
    "    out = model(X)\n",
    "    out = torch.softmax(out,dim=1)\n",
    "print(out)"
   ]
  },
  {
   "cell_type": "markdown",
   "metadata": {},
   "source": [
    "## Efficient Data Loaders"
   ]
  },
  {
   "attachments": {
    "image.png": {
     "image/png": "[encoded data removed]"
    }
   },
   "cell_type": "markdown",
   "metadata": {},
   "source": [
    "![](attachment:image.png)"
   ]
  },
  {
   "cell_type": "code",
   "execution_count": 22,
   "metadata": {},
   "outputs": [],
   "source": [
    "X_train = torch.tensor([\n",
    "    [-1.2,3.1],\n",
    "    [-0.9,2.9],\n",
    "    [-0.5,2.6],\n",
    "    [0.0,2.4],\n",
    "    [0.4,2.3],\n",
    "    [0.8,2.1],\n",
    "    [1.3,2.0],\n",
    "    [1.7,1.8],\n",
    "    [2.2,1.7],\n",
    "    [2.6,1.5]\n",
    "])\n",
    "\n",
    "y_train = torch.tensor([0,0,0,0,0,1,1,1,1,1])\n",
    "\n",
    "X_test = torch.tensor([\n",
    "    [-1.0,3.0],\n",
    "    [0.0,2.5],\n",
    "    [1.0,2.0],\n",
    "    [2.0,1.5]\n",
    "])\n",
    "\n",
    "y_test = torch.tensor([0,0,1,1])\n",
    "# pytorch requiers the label to start from 0\n"
   ]
  },
  {
   "cell_type": "code",
   "execution_count": 29,
   "metadata": {},
   "outputs": [],
   "source": [
    "from torch.utils.data import Dataset, DataLoader\n",
    "\n",
    "class ToyDataset(Dataset):\n",
    "    def __init__(self,X,y):\n",
    "        self.features = X\n",
    "        self.lables = y\n",
    "\n",
    "    def __len__(self):\n",
    "        # return the number of samples\n",
    "        return self.lables.shape[0]\n",
    "\n",
    "    def __getitem__(self,idx):\n",
    "        one_x = self.features[idx]\n",
    "        one_y = self.lables[idx]\n",
    "        return one_x, one_y\n",
    "    \n",
    "train_ds = ToyDataset(X_train,y_train)\n",
    "test_ds = ToyDataset(X_test,y_test)\n"
   ]
  },
  {
   "cell_type": "code",
   "execution_count": 30,
   "metadata": {},
   "outputs": [],
   "source": [
    "# the main components of the dataset class are __init__, __len__, __getitem__\n",
    "# __init__ is used to initialize the dataset we need to access later, like features, labels, file paths, database connections, etc\n",
    "# __len__ is used to return the number of samples in the dataset\n",
    "# __getitem__ is used to return the sample at the given index, returning only one sample at a time\n",
    "# the main advantage of using the dataset class is that we can use the dataloader class"
   ]
  },
  {
   "cell_type": "code",
   "execution_count": 31,
   "metadata": {},
   "outputs": [
    {
     "name": "stdout",
     "output_type": "stream",
     "text": [
      "10\n"
     ]
    }
   ],
   "source": [
    "print(len(train_ds))"
   ]
  },
  {
   "cell_type": "code",
   "execution_count": 32,
   "metadata": {},
   "outputs": [],
   "source": [
    "torch.manual_seed(123)\n",
    "train_loader = DataLoader(\n",
    "    dataset=train_ds,\n",
    "    batch_size=2,\n",
    "    shuffle=True,\n",
    "    num_workers=0\n",
    ")\n",
    "\n",
    "test_loader = DataLoader(\n",
    "    dataset=test_ds,\n",
    "    batch_size=2,\n",
    "    shuffle=False,\n",
    "    num_workers=0\n",
    ")"
   ]
  },
  {
   "cell_type": "code",
   "execution_count": 33,
   "metadata": {},
   "outputs": [
    {
     "name": "stdout",
     "output_type": "stream",
     "text": [
      "batch 1:\n",
      "tensor([[ 2.2000,  1.7000],\n",
      "        [-0.5000,  2.6000]])\n",
      "tensor([1, 0])\n",
      "\n",
      "batch 2:\n",
      "tensor([[1.3000, 2.0000],\n",
      "        [1.7000, 1.8000]])\n",
      "tensor([1, 1])\n",
      "\n",
      "batch 3:\n",
      "tensor([[-1.2000,  3.1000],\n",
      "        [ 0.0000,  2.4000]])\n",
      "tensor([0, 0])\n",
      "\n",
      "batch 4:\n",
      "tensor([[ 2.6000,  1.5000],\n",
      "        [-0.9000,  2.9000]])\n",
      "tensor([1, 0])\n",
      "\n",
      "batch 5:\n",
      "tensor([[0.8000, 2.1000],\n",
      "        [0.4000, 2.3000]])\n",
      "tensor([1, 0])\n",
      "\n"
     ]
    }
   ],
   "source": [
    "for idx, (x, y) in enumerate(train_loader): \n",
    "    print(f'batch {idx+1}:\\n{x}\\n{y}\\n')\n"
   ]
  },
  {
   "cell_type": "code",
   "execution_count": 34,
   "metadata": {},
   "outputs": [],
   "source": [
    "# if last batch of the dataset is smaller than the batch size then we can use drop_last=True\n",
    "# the reason is it can disturb the convergence of the model during the training process"
   ]
  },
  {
   "cell_type": "code",
   "execution_count": 35,
   "metadata": {},
   "outputs": [
    {
     "name": "stdout",
     "output_type": "stream",
     "text": [
      "batch 1:\n",
      "tensor([[0.8000, 2.1000],\n",
      "        [2.6000, 1.5000]])\n",
      "tensor([1, 1])\n",
      "\n",
      "batch 2:\n",
      "tensor([[-0.5000,  2.6000],\n",
      "        [ 1.7000,  1.8000]])\n",
      "tensor([0, 1])\n",
      "\n",
      "batch 3:\n",
      "tensor([[2.2000, 1.7000],\n",
      "        [1.3000, 2.0000]])\n",
      "tensor([1, 1])\n",
      "\n",
      "batch 4:\n",
      "tensor([[ 0.4000,  2.3000],\n",
      "        [-1.2000,  3.1000]])\n",
      "tensor([0, 0])\n",
      "\n",
      "batch 5:\n",
      "tensor([[-0.9000,  2.9000],\n",
      "        [ 0.0000,  2.4000]])\n",
      "tensor([0, 0])\n",
      "\n"
     ]
    }
   ],
   "source": [
    "train_loader = DataLoader(\n",
    "    dataset=train_ds,\n",
    "    batch_size=2,\n",
    "    shuffle=True,\n",
    "    num_workers=0,\n",
    "    drop_last=True\n",
    ")\n",
    "\n",
    "for idx, (x, y) in enumerate(train_loader):\n",
    "    print(f'batch {idx+1}:\\n{x}\\n{y}\\n')"
   ]
  },
  {
   "cell_type": "code",
   "execution_count": 36,
   "metadata": {},
   "outputs": [],
   "source": [
    "# num workers is used to load the data in parallel\n",
    "# it is used to load the data in the background while the model is training\n",
    "# it is used to speed up the data loading process"
   ]
  },
  {
   "cell_type": "code",
   "execution_count": 41,
   "metadata": {},
   "outputs": [
    {
     "name": "stdout",
     "output_type": "stream",
     "text": [
      "Epoch [1/3], Step [1/5], Loss: 0.6353\n",
      "Epoch [1/3], Step [2/5], Loss: 1.9268\n",
      "Epoch [1/3], Step [3/5], Loss: 0.6825\n",
      "Epoch [1/3], Step [4/5], Loss: 0.9803\n",
      "Epoch [1/3], Step [5/5], Loss: 0.9094\n",
      "Epoch [2/3], Step [1/5], Loss: 0.3534\n",
      "Epoch [2/3], Step [2/5], Loss: 0.7903\n",
      "Epoch [2/3], Step [3/5], Loss: 0.6837\n",
      "Epoch [2/3], Step [4/5], Loss: 0.6578\n",
      "Epoch [2/3], Step [5/5], Loss: 0.3624\n",
      "Epoch [3/3], Step [1/5], Loss: 0.1160\n",
      "Epoch [3/3], Step [2/5], Loss: 0.7622\n",
      "Epoch [3/3], Step [3/5], Loss: 0.4312\n",
      "Epoch [3/3], Step [4/5], Loss: 0.2533\n",
      "Epoch [3/3], Step [5/5], Loss: 0.0317\n"
     ]
    }
   ],
   "source": [
    "# training code\n",
    "\n",
    "import torch.nn.functional as F\n",
    "\n",
    "torch.manual_seed(123)\n",
    "model = NeuralNetwork(num_input=2,num_output=2)\n",
    "# we let the optimzer know which parameters to update\n",
    "optimizer = torch.optim.SGD(model.parameters(),lr=0.5)\n",
    "\n",
    "num_epochs = 3\n",
    "for epoch in range(num_epochs):\n",
    "    model.train()\n",
    "    for batch_idx, (features, labels) in enumerate(train_loader):\n",
    "        \n",
    "        logitts = model(features)\n",
    "        loss = F.cross_entropy(logitts,labels)\n",
    "        # zero the gradients from the previous iteration to avoid accumulation\n",
    "        optimizer.zero_grad()\n",
    "        # backpropagation\n",
    "        loss.backward()\n",
    "        # update the weights\n",
    "        optimizer.step()\n",
    "\n",
    "        ### LOGGING\n",
    "        print(f'Epoch [{epoch+1}/{num_epochs}], Step [{batch_idx+1}/{len(train_loader)}], Loss: {loss.item():.4f}')\n",
    "    model.eval()\n",
    "    \n"
   ]
  },
  {
   "cell_type": "code",
   "execution_count": 40,
   "metadata": {},
   "outputs": [
    {
     "name": "stdout",
     "output_type": "stream",
     "text": [
      "752 total parameters.\n"
     ]
    }
   ],
   "source": [
    "#total parameter counts\n",
    "total_params = sum(p.numel() for p in model.parameters())\n",
    "print(f'{total_params:,} total parameters.')\n",
    "# 2 *30 +30 + 30*20 + 20 +20*2+2 = 752"
   ]
  },
  {
   "cell_type": "code",
   "execution_count": 42,
   "metadata": {},
   "outputs": [],
   "source": [
    "# model.train and model.eval are used to switch the model between training and evaluation mode\n",
    "# model.train is used to enable the dropout, batch normalization, etc\n",
    "# model.eval is used to disable the dropout, batch normalization, etc"
   ]
  },
  {
   "cell_type": "code",
   "execution_count": 43,
   "metadata": {},
   "outputs": [
    {
     "name": "stdout",
     "output_type": "stream",
     "text": [
      "tensor([[ 5.8823, -6.0037],\n",
      "        [ 5.0744, -5.1931],\n",
      "        [ 3.9515, -4.0664],\n",
      "        [ 2.7682, -2.8750],\n",
      "        [ 1.7959, -1.8641],\n",
      "        [ 0.4324, -0.4405],\n",
      "        [-0.8325,  0.9021],\n",
      "        [-1.1017,  1.1972],\n",
      "        [-1.3618,  1.4822],\n",
      "        [-1.5661,  1.7145]])\n"
     ]
    }
   ],
   "source": [
    "model.eval()\n",
    "with torch.no_grad():\n",
    "    output = model(X_train)\n",
    "print(output)"
   ]
  },
  {
   "cell_type": "code",
   "execution_count": 46,
   "metadata": {},
   "outputs": [
    {
     "name": "stdout",
     "output_type": "stream",
     "text": [
      "tensor([[    1.0000,     0.0000],\n",
      "        [    1.0000,     0.0000],\n",
      "        [    0.9997,     0.0003],\n",
      "        [    0.9965,     0.0035],\n",
      "        [    0.9749,     0.0251],\n",
      "        [    0.7053,     0.2947],\n",
      "        [    0.1500,     0.8500],\n",
      "        [    0.0912,     0.9088],\n",
      "        [    0.0550,     0.9450],\n",
      "        [    0.0362,     0.9638]])\n"
     ]
    }
   ],
   "source": [
    "torch.set_printoptions(sci_mode=False)\n",
    "probs = torch.softmax(output,dim=1)\n",
    "print(probs)"
   ]
  },
  {
   "cell_type": "code",
   "execution_count": 47,
   "metadata": {},
   "outputs": [
    {
     "name": "stdout",
     "output_type": "stream",
     "text": [
      "tensor([0, 0, 0, 0, 0, 0, 1, 1, 1, 1])\n"
     ]
    }
   ],
   "source": [
    "predictions = torch.argmax(probs,dim=1)\n",
    "print(predictions)"
   ]
  },
  {
   "cell_type": "code",
   "execution_count": 48,
   "metadata": {},
   "outputs": [
    {
     "name": "stdout",
     "output_type": "stream",
     "text": [
      "tensor([0, 0, 0, 0, 0, 0, 1, 1, 1, 1])\n"
     ]
    }
   ],
   "source": [
    "predictions = torch.argmax(output,dim=1)\n",
    "print(predictions)"
   ]
  },
  {
   "cell_type": "code",
   "execution_count": 50,
   "metadata": {},
   "outputs": [
    {
     "data": {
      "text/plain": [
       "tensor(90.)"
      ]
     },
     "execution_count": 50,
     "metadata": {},
     "output_type": "execute_result"
    }
   ],
   "source": [
    "torch.sum(predictions == y_train) *100 / len(y_train)"
   ]
  },
  {
   "cell_type": "code",
   "execution_count": 57,
   "metadata": {},
   "outputs": [],
   "source": [
    "def compute_accuracy(model,dataloader):\n",
    "    model = model.eval()\n",
    "    correct, total = 0,0\n",
    "    for idx, (features, labels) in enumerate(dataloader):\n",
    "        with torch.no_grad():\n",
    "            logits = model(features)\n",
    "        predictions = torch.argmax(logits,dim=1)\n",
    "        correct += torch.sum(predictions == labels)\n",
    "        total += len(labels)\n",
    "    # return correct*100/total # this will return tensor\n",
    "    return (correct*100/total).item() # this will return scalar"
   ]
  },
  {
   "cell_type": "code",
   "execution_count": 58,
   "metadata": {},
   "outputs": [
    {
     "data": {
      "text/plain": [
       "90.0"
      ]
     },
     "execution_count": 58,
     "metadata": {},
     "output_type": "execute_result"
    }
   ],
   "source": [
    "compute_accuracy(model,train_loader)"
   ]
  },
  {
   "cell_type": "code",
   "execution_count": 59,
   "metadata": {},
   "outputs": [
    {
     "data": {
      "text/plain": [
       "<All keys matched successfully>"
      ]
     },
     "execution_count": 59,
     "metadata": {},
     "output_type": "execute_result"
    }
   ],
   "source": [
    "# saving the mdoel and loading the model\n",
    "# we can save the model state_dict\n",
    "torch.save(model.state_dict(),'model.pth')\n",
    "# we can load the model state_dict\n",
    "model2 = NeuralNetwork(num_input=2,num_output=2)\n",
    "model2.load_state_dict(torch.load('model.pth'))"
   ]
  },
  {
   "cell_type": "code",
   "execution_count": 60,
   "metadata": {},
   "outputs": [
    {
     "data": {
      "text/plain": [
       "False"
      ]
     },
     "execution_count": 60,
     "metadata": {},
     "output_type": "execute_result"
    }
   ],
   "source": [
    "torch.cuda.is_available()"
   ]
  },
  {
   "cell_type": "code",
   "execution_count": 64,
   "metadata": {},
   "outputs": [
    {
     "name": "stdout",
     "output_type": "stream",
     "text": [
      "Epoch [1/3], Step [1/5], Loss: 0.6353\n",
      "Epoch [1/3], Step [2/5], Loss: 1.9268\n",
      "Epoch [1/3], Step [3/5], Loss: 0.6825\n",
      "Epoch [1/3], Step [4/5], Loss: 0.9803\n",
      "Epoch [1/3], Step [5/5], Loss: 0.9094\n",
      "Epoch [2/3], Step [1/5], Loss: 0.3534\n",
      "Epoch [2/3], Step [2/5], Loss: 0.7903\n",
      "Epoch [2/3], Step [3/5], Loss: 0.6837\n",
      "Epoch [2/3], Step [4/5], Loss: 0.6578\n",
      "Epoch [2/3], Step [5/5], Loss: 0.3624\n",
      "Epoch [3/3], Step [1/5], Loss: 0.1160\n",
      "Epoch [3/3], Step [2/5], Loss: 0.7622\n",
      "Epoch [3/3], Step [3/5], Loss: 0.4312\n",
      "Epoch [3/3], Step [4/5], Loss: 0.2533\n",
      "Epoch [3/3], Step [5/5], Loss: 0.0317\n"
     ]
    }
   ],
   "source": [
    "# training code\n",
    "\n",
    "import torch.nn.functional as F\n",
    "\n",
    "torch.manual_seed(123)\n",
    "model = NeuralNetwork(num_input=2,num_output=2)\n",
    "\n",
    "device = torch.device('cuda' if torch.cuda.is_available() else 'cpu')\n",
    "device = torch.device(\"mps\" if torch.backends.mps.is_available() else \"cpu\")\n",
    "\n",
    "model = model.to(device)\n",
    "# we let the optimzer know which parameters to update\n",
    "optimizer = torch.optim.SGD(model.parameters(),lr=0.5)\n",
    "\n",
    "num_epochs = 3\n",
    "for epoch in range(num_epochs):\n",
    "    model.train()\n",
    "    for batch_idx, (features, labels) in enumerate(train_loader):\n",
    "        features = features.to(device)\n",
    "        labels = labels.to(device)\n",
    "\n",
    "        logitts = model(features)\n",
    "        loss = F.cross_entropy(logitts,labels)\n",
    "        # zero the gradients from the previous iteration to avoid accumulation\n",
    "        optimizer.zero_grad()\n",
    "        # backpropagation\n",
    "        loss.backward()\n",
    "        # update the weights\n",
    "        optimizer.step()\n",
    "\n",
    "        ### LOGGING\n",
    "        print(f'Epoch [{epoch+1}/{num_epochs}], Step [{batch_idx+1}/{len(train_loader)}], Loss: {loss.item():.4f}')\n",
    "    model.eval()\n",
    "    \n"
   ]
  },
  {
   "cell_type": "code",
   "execution_count": 65,
   "metadata": {},
   "outputs": [
    {
     "name": "stdout",
     "output_type": "stream",
     "text": [
      "16.2 µs ± 31.9 ns per loop (mean ± std. dev. of 7 runs, 100,000 loops each)\n"
     ]
    }
   ],
   "source": [
    "a = torch.rand(100, 200) \n",
    "b = torch.rand(200, 300)\n",
    "%timeit a@b"
   ]
  },
  {
   "cell_type": "code",
   "execution_count": 66,
   "metadata": {},
   "outputs": [
    {
     "name": "stdout",
     "output_type": "stream",
     "text": [
      "23.4 µs ± 189 ns per loop (mean ± std. dev. of 7 runs, 10,000 loops each)\n"
     ]
    }
   ],
   "source": [
    "a, b = a.to(\"mps\"), b.to(\"mps\") \n",
    "%timeit a @ b"
   ]
  },
  {
   "cell_type": "code",
   "execution_count": 67,
   "metadata": {},
   "outputs": [],
   "source": [
    "# instead of pytorch we can use pytorch lightning\n",
    "# pytorch lightning is a lightweight wrapper on top of pytorch\n",
    "\n",
    "from pytorch_lightning import LightningModule, Trainer\n",
    "\n",
    "class LightningNeuralNetwork(LightningModule):\n",
    "    def __init__(self,num_input,num_output):\n",
    "        super().__init__()\n",
    "        self.model = NeuralNetwork(num_input,num_output)\n",
    "\n",
    "    def forward(self,x):\n",
    "        return self.model(x)\n",
    "\n",
    "    def training_step(self,batch,batch_idx):\n",
    "        x, y = batch\n",
    "        logits = self.model(x)\n",
    "        loss = F.cross_entropy(logits,y)\n",
    "        return loss\n",
    "\n",
    "    def configure_optimizers(self):\n",
    "        return torch.optim.SGD(self.model.parameters(),lr=0.5)"
   ]
  },
  {
   "cell_type": "code",
   "execution_count": 70,
   "metadata": {},
   "outputs": [
    {
     "name": "stderr",
     "output_type": "stream",
     "text": [
      "GPU available: True (mps), used: True\n",
      "TPU available: False, using: 0 TPU cores\n",
      "IPU available: False, using: 0 IPUs\n",
      "HPU available: False, using: 0 HPUs\n",
      "/Users/jshah/anaconda3/envs/pytorch/lib/python3.11/site-packages/pytorch_lightning/trainer/connectors/logger_connector/logger_connector.py:75: Starting from v1.9.0, `tensorboardX` has been removed as a dependency of the `pytorch_lightning` package, due to potential conflicts with other packages in the ML ecosystem. For this reason, `logger=True` will use `CSVLogger` as the default logger, unless the `tensorboard` or `tensorboardX` packages are found. Please `pip install lightning[extra]` or one of them to enable TensorBoard support by default\n",
      "/Users/jshah/anaconda3/envs/pytorch/lib/python3.11/site-packages/pytorch_lightning/trainer/configuration_validator.py:72: You passed in a `val_dataloader` but have no `validation_step`. Skipping val loop.\n",
      "Missing logger folder: /Users/jshah/Documents/GitHub/til/pytorch/lightning_logs\n",
      "\n",
      "  | Name  | Type          | Params\n",
      "----------------------------------------\n",
      "0 | model | NeuralNetwork | 752   \n",
      "----------------------------------------\n",
      "752       Trainable params\n",
      "0         Non-trainable params\n",
      "752       Total params\n",
      "0.003     Total estimated model params size (MB)\n",
      "/Users/jshah/anaconda3/envs/pytorch/lib/python3.11/site-packages/pytorch_lightning/trainer/connectors/data_connector.py:441: The 'train_dataloader' does not have many workers which may be a bottleneck. Consider increasing the value of the `num_workers` argument` to `num_workers=11` in the `DataLoader` to improve performance.\n",
      "/Users/jshah/anaconda3/envs/pytorch/lib/python3.11/site-packages/pytorch_lightning/loops/fit_loop.py:298: The number of training batches (5) is smaller than the logging interval Trainer(log_every_n_steps=50). Set a lower value for log_every_n_steps if you want to see logs for the training epoch.\n"
     ]
    },
    {
     "name": "stdout",
     "output_type": "stream",
     "text": [
      "Epoch 2: 100%|██████████| 5/5 [00:00<00:00, 268.37it/s, v_num=0]"
     ]
    },
    {
     "name": "stderr",
     "output_type": "stream",
     "text": [
      "`Trainer.fit` stopped: `max_epochs=3` reached.\n"
     ]
    },
    {
     "name": "stdout",
     "output_type": "stream",
     "text": [
      "Epoch 2: 100%|██████████| 5/5 [00:00<00:00, 212.30it/s, v_num=0]\n"
     ]
    }
   ],
   "source": [
    "trainer = Trainer(max_epochs=3)\n",
    "model = LightningNeuralNetwork(num_input=2,num_output=2)\n",
    "trainer.fit(model,train_loader,test_loader)"
   ]
  },
  {
   "cell_type": "code",
   "execution_count": null,
   "metadata": {},
   "outputs": [],
   "source": []
  },
  {
   "cell_type": "markdown",
   "metadata": {},
   "source": []
  }
 ],
 "metadata": {
  "kernelspec": {
   "display_name": "pytorch",
   "language": "python",
   "name": "python3"
  },
  "language_info": {
   "codemirror_mode": {
    "name": "ipython",
    "version": 3
   },
   "file_extension": ".py",
   "mimetype": "text/x-python",
   "name": "python",
   "nbconvert_exporter": "python",
   "pygments_lexer": "ipython3",
   "version": "3.11.8"
  }
 },
 "nbformat": 4,
 "nbformat_minor": 2
}
