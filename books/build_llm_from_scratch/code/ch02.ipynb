{
 "cells": [
  {
   "cell_type": "code",
   "execution_count": 1,
   "metadata": {},
   "outputs": [
    {
     "name": "stdout",
     "output_type": "stream",
     "text": [
      "Total number of character: 67075\n",
      "If you collected lists of techniques for doing great work in a lot of different fields, what would \n"
     ]
    }
   ],
   "source": [
    "file_name = \"data/pg_essay_great_work.txt\"\n",
    "with open(file_name, \"r\", encoding=\"utf-8\") as f: \n",
    "    raw_text = f.read()\n",
    "print(\"Total number of character:\", len(raw_text)) \n",
    "print(raw_text[:99])"
   ]
  },
  {
   "cell_type": "code",
   "execution_count": 32,
   "metadata": {},
   "outputs": [
    {
     "name": "stdout",
     "output_type": "stream",
     "text": [
      "1 ['Hi', 'there!', 'How', 'are', 'you', 'doing?,', \"I'm\", 'doing', 'fine%.']\n",
      "2 ['Hi', ' ', 'there!', ' ', 'How', ' ', 'are', ' ', 'you', ' ', 'doing?,', ' ', \"I'm\", ' ', 'doing', ' ', 'fine%.']\n",
      "3 ['Hi', ' ', 'there!', ' ', 'How', ' ', 'are', ' ', 'you', ' ', 'doing?', ',', '', ' ', \"I'm\", ' ', 'doing', ' ', 'fine%', '.', '']\n",
      "4 ['Hi', 'there!', 'How', 'are', 'you', 'doing?', ',', \"I'm\", 'doing', 'fine%', '.']\n",
      "5 ['Hi', ' ', 'there', '!', '', ' ', 'How', ' ', 'are', ' ', 'you', ' ', 'doing', '?', '', ',', '', ' ', 'I', \"'\", 'm', ' ', 'doing', ' ', 'fine', '%', '', '.', '']\n",
      "6 ['Hi', 'there', '!', 'How', 'are', 'you', 'doing', '?', ',', 'I', \"'\", 'm', 'doing', 'fine', '%', '.']\n"
     ]
    }
   ],
   "source": [
    "import re\n",
    "text = \"Hi there! How are you doing?, I'm doing fine%.\"\n",
    "# Split the text based on the space character\n",
    "result = re.split(r'\\s+', text)\n",
    "print(\"1\",result)\n",
    "# Split the text based on the space character and capture the space character\n",
    "result = re.split(r'(\\s)', text)\n",
    "print(\"2\",result)\n",
    "# Split the text based on the space character, comma, or period\n",
    "result = re.split(r'([,.]|\\s)', text)\n",
    "print(\"3\",result)\n",
    "# remove the white space from the list\n",
    "result = [x for x in result if x.strip()]\n",
    "print(\"4\",result)\n",
    "# Split the text based on the space character, comma, period, question mark, exclamation mark, double quote, single quote, parenthesis, or dash or percentage and split numbers into individual characters\n",
    "result = re.split(r'([,.?!\"\\'()\\-]|(?:\\s+)|\\d+|%)', text)\n",
    "print(\"5\",result)\n",
    "result = [x for x in result if x.strip()]\n",
    "print(\"6\",result)"
   ]
  },
  {
   "cell_type": "code",
   "execution_count": 38,
   "metadata": {},
   "outputs": [
    {
     "name": "stdout",
     "output_type": "stream",
     "text": [
      "Total number of tokens: 14281\n"
     ]
    }
   ],
   "source": [
    "# Lets use the final tokenizer to split the raw text\n",
    "tokens = re.split(r'([,.?!\"\\'()\\-]|(?:\\s+)|\\d+|%)', raw_text)\n",
    "# Remove the white space from the list\n",
    "preprocessed = [x for x in tokens if x.strip()]\n",
    "print(\"Total number of tokens:\", len(preprocessed))"
   ]
  },
  {
   "cell_type": "code",
   "execution_count": 39,
   "metadata": {},
   "outputs": [
    {
     "data": {
      "text/plain": [
       "['If',\n",
       " 'you',\n",
       " 'collected',\n",
       " 'lists',\n",
       " 'of',\n",
       " 'techniques',\n",
       " 'for',\n",
       " 'doing',\n",
       " 'great',\n",
       " 'work',\n",
       " 'in',\n",
       " 'a',\n",
       " 'lot',\n",
       " 'of',\n",
       " 'different',\n",
       " 'fields',\n",
       " ',',\n",
       " 'what',\n",
       " 'would',\n",
       " 'the',\n",
       " 'intersection',\n",
       " 'look',\n",
       " 'like',\n",
       " '?',\n",
       " 'I',\n",
       " 'decided',\n",
       " 'to',\n",
       " 'find',\n",
       " 'out',\n",
       " 'by']"
      ]
     },
     "execution_count": 39,
     "metadata": {},
     "output_type": "execute_result"
    }
   ],
   "source": [
    "preprocessed[:30]"
   ]
  },
  {
   "cell_type": "code",
   "execution_count": 40,
   "metadata": {},
   "outputs": [
    {
     "name": "stdout",
     "output_type": "stream",
     "text": [
      "2139\n"
     ]
    }
   ],
   "source": [
    "all_words = sorted(list(set(preprocessed)))\n",
    "vocab_size = len(all_words) \n",
    "print(vocab_size)"
   ]
  },
  {
   "cell_type": "code",
   "execution_count": 41,
   "metadata": {},
   "outputs": [
    {
     "name": "stdout",
     "output_type": "stream",
     "text": [
      "('!', 0)\n",
      "('\"', 1)\n",
      "('%', 2)\n",
      "(\"'\", 3)\n",
      "('(', 4)\n",
      "(')', 5)\n",
      "(',', 6)\n",
      "('-', 7)\n",
      "('.', 8)\n",
      "('/m^n', 9)\n",
      "('1', 10)\n",
      "('10', 11)\n",
      "('11', 12)\n",
      "('12', 13)\n",
      "('13', 14)\n",
      "('14', 15)\n",
      "('15', 16)\n",
      "('16', 17)\n",
      "('1630', 18)\n",
      "('17', 19)\n",
      "('18', 20)\n",
      "('19', 21)\n",
      "('2', 22)\n",
      "('20', 23)\n",
      "('21', 24)\n",
      "('22', 25)\n",
      "('23', 26)\n",
      "('24', 27)\n",
      "('25', 28)\n",
      "('26', 29)\n",
      "('27', 30)\n",
      "('28', 31)\n",
      "('29', 32)\n",
      "('3', 33)\n",
      "('4', 34)\n",
      "('5', 35)\n",
      "('50', 36)\n",
      "('6', 37)\n",
      "('7', 38)\n",
      "('8', 39)\n",
      "('9', 40)\n",
      "('99', 41)\n",
      "('>', 42)\n",
      "('?', 43)\n",
      "('A', 44)\n",
      "('Affectation', 45)\n",
      "('Am', 46)\n",
      "('Ambition', 47)\n",
      "('Ambitious', 48)\n",
      "('An', 49)\n",
      "('And', 50)\n",
      "('Another', 51)\n"
     ]
    }
   ],
   "source": [
    "vocab = {token:integer for integer,token in enumerate(all_words)}\n",
    "for i, item in enumerate(vocab.items()):\n",
    "    print(item) \n",
    "    if i > 50:\n",
    "        break\n"
   ]
  },
  {
   "cell_type": "code",
   "execution_count": 47,
   "metadata": {},
   "outputs": [],
   "source": [
    "class SimpleTokenizerV1:\n",
    "    \"\"\"Simple tokenizer that converts the text to tokens and tokens to text using a vocabulary\n",
    "    \"\"\"\n",
    "    def __init__(self,vocab) -> None:\n",
    "        self.str_to_int = vocab\n",
    "        self.int_to_str = {v:k for k,v in vocab.items()}\n",
    "    def encode(self, text):\n",
    "        # Split the text based on the space character, comma, period,\n",
    "        # question mark, exclamation mark, double quote, single quote,\n",
    "        # parenthesis, or dash or percentage and split numbers into individual characters\n",
    "        tokens = re.split(r'([,.?!\"\\'()\\-]|(?:\\s+)|\\d+|%)', text)\n",
    "        tokens = [item.strip() for item in tokens if item.strip()]\n",
    "        return [self.str_to_int[token] for token in tokens]\n",
    "    def decode(self, ids):\n",
    "        text = \" \".join([self.int_to_str[i] for i in ids])\n",
    "        # replace the white space around the punctuation\n",
    "        text = re.sub(r'\\s+([,.?!\"()\\'])', r'\\1', text)\n",
    "        return text\n",
    "        "
   ]
  },
  {
   "cell_type": "code",
   "execution_count": 48,
   "metadata": {},
   "outputs": [
    {
     "name": "stdout",
     "output_type": "stream",
     "text": [
      "18\n",
      "[253, 451, 815, 2114, 433, 1395, 1913, 1322, 1098, 1958, 2127, 612, 1898, 1470, 1778, 1867, 297, 8]\n"
     ]
    }
   ],
   "source": [
    "tokenizer = SimpleTokenizerV1(vocab)\n",
    "text = \"\"\"The best essay would be on the most important topic you could tell people something surprising about.\"\"\"\n",
    "ids = tokenizer.encode(text)\n",
    "print(len(ids))\n",
    "print(ids)"
   ]
  },
  {
   "cell_type": "code",
   "execution_count": 49,
   "metadata": {},
   "outputs": [
    {
     "name": "stdout",
     "output_type": "stream",
     "text": [
      "The best essay would be on the most important topic you could tell people something surprising about.\n"
     ]
    }
   ],
   "source": [
    "decoded_text = tokenizer.decode(ids)\n",
    "print(decoded_text)"
   ]
  },
  {
   "cell_type": "code",
   "execution_count": 51,
   "metadata": {},
   "outputs": [
    {
     "ename": "KeyError",
     "evalue": "'Hello'",
     "output_type": "error",
     "traceback": [
      "\u001b[0;31m---------------------------------------------------------------------------\u001b[0m",
      "\u001b[0;31mKeyError\u001b[0m                                  Traceback (most recent call last)",
      "Cell \u001b[0;32mIn[51], line 2\u001b[0m\n\u001b[1;32m      1\u001b[0m text \u001b[38;5;241m=\u001b[39m \u001b[38;5;124m\"\u001b[39m\u001b[38;5;124mHello, do you like tea?\u001b[39m\u001b[38;5;124m\"\u001b[39m \n\u001b[0;32m----> 2\u001b[0m \u001b[43mtokenizer\u001b[49m\u001b[38;5;241;43m.\u001b[39;49m\u001b[43mencode\u001b[49m\u001b[43m(\u001b[49m\u001b[43mtext\u001b[49m\u001b[43m)\u001b[49m\n",
      "Cell \u001b[0;32mIn[47], line 13\u001b[0m, in \u001b[0;36mSimpleTokenizerV1.encode\u001b[0;34m(self, text)\u001b[0m\n\u001b[1;32m     11\u001b[0m tokens \u001b[38;5;241m=\u001b[39m re\u001b[38;5;241m.\u001b[39msplit(\u001b[38;5;124mr\u001b[39m\u001b[38;5;124m'\u001b[39m\u001b[38;5;124m([,.?!\u001b[39m\u001b[38;5;124m\"\u001b[39m\u001b[38;5;130;01m\\'\u001b[39;00m\u001b[38;5;124m()\u001b[39m\u001b[38;5;124m\\\u001b[39m\u001b[38;5;124m-]|(?:\u001b[39m\u001b[38;5;124m\\\u001b[39m\u001b[38;5;124ms+)|\u001b[39m\u001b[38;5;124m\\\u001b[39m\u001b[38;5;124md+|\u001b[39m\u001b[38;5;124m%\u001b[39m\u001b[38;5;124m)\u001b[39m\u001b[38;5;124m'\u001b[39m, text)\n\u001b[1;32m     12\u001b[0m tokens \u001b[38;5;241m=\u001b[39m [item\u001b[38;5;241m.\u001b[39mstrip() \u001b[38;5;28;01mfor\u001b[39;00m item \u001b[38;5;129;01min\u001b[39;00m tokens \u001b[38;5;28;01mif\u001b[39;00m item\u001b[38;5;241m.\u001b[39mstrip()]\n\u001b[0;32m---> 13\u001b[0m \u001b[38;5;28;01mreturn\u001b[39;00m \u001b[43m[\u001b[49m\u001b[38;5;28;43mself\u001b[39;49m\u001b[38;5;241;43m.\u001b[39;49m\u001b[43mstr_to_int\u001b[49m\u001b[43m[\u001b[49m\u001b[43mtoken\u001b[49m\u001b[43m]\u001b[49m\u001b[43m \u001b[49m\u001b[38;5;28;43;01mfor\u001b[39;49;00m\u001b[43m \u001b[49m\u001b[43mtoken\u001b[49m\u001b[43m \u001b[49m\u001b[38;5;129;43;01min\u001b[39;49;00m\u001b[43m \u001b[49m\u001b[43mtokens\u001b[49m\u001b[43m]\u001b[49m\n",
      "Cell \u001b[0;32mIn[47], line 13\u001b[0m, in \u001b[0;36m<listcomp>\u001b[0;34m(.0)\u001b[0m\n\u001b[1;32m     11\u001b[0m tokens \u001b[38;5;241m=\u001b[39m re\u001b[38;5;241m.\u001b[39msplit(\u001b[38;5;124mr\u001b[39m\u001b[38;5;124m'\u001b[39m\u001b[38;5;124m([,.?!\u001b[39m\u001b[38;5;124m\"\u001b[39m\u001b[38;5;130;01m\\'\u001b[39;00m\u001b[38;5;124m()\u001b[39m\u001b[38;5;124m\\\u001b[39m\u001b[38;5;124m-]|(?:\u001b[39m\u001b[38;5;124m\\\u001b[39m\u001b[38;5;124ms+)|\u001b[39m\u001b[38;5;124m\\\u001b[39m\u001b[38;5;124md+|\u001b[39m\u001b[38;5;124m%\u001b[39m\u001b[38;5;124m)\u001b[39m\u001b[38;5;124m'\u001b[39m, text)\n\u001b[1;32m     12\u001b[0m tokens \u001b[38;5;241m=\u001b[39m [item\u001b[38;5;241m.\u001b[39mstrip() \u001b[38;5;28;01mfor\u001b[39;00m item \u001b[38;5;129;01min\u001b[39;00m tokens \u001b[38;5;28;01mif\u001b[39;00m item\u001b[38;5;241m.\u001b[39mstrip()]\n\u001b[0;32m---> 13\u001b[0m \u001b[38;5;28;01mreturn\u001b[39;00m [\u001b[38;5;28;43mself\u001b[39;49m\u001b[38;5;241;43m.\u001b[39;49m\u001b[43mstr_to_int\u001b[49m\u001b[43m[\u001b[49m\u001b[43mtoken\u001b[49m\u001b[43m]\u001b[49m \u001b[38;5;28;01mfor\u001b[39;00m token \u001b[38;5;129;01min\u001b[39;00m tokens]\n",
      "\u001b[0;31mKeyError\u001b[0m: 'Hello'"
     ]
    }
   ],
   "source": [
    "text = \"Hello, do you like tea?\" \n",
    "tokenizer.encode(text)"
   ]
  },
  {
   "cell_type": "code",
   "execution_count": 52,
   "metadata": {},
   "outputs": [
    {
     "name": "stdout",
     "output_type": "stream",
     "text": [
      "2139\n",
      "2141\n"
     ]
    }
   ],
   "source": [
    "## extending the vocab\n",
    "print(len(vocab.items()))\n",
    "all_tokens = sorted(list(set(preprocessed)))\n",
    "all_tokens.extend([\"<|endoftext|>\", \"<|unk|>\"])\n",
    "vocab = {token:integer for integer,token in enumerate(all_tokens)}\n",
    "print(len(vocab.items()))"
   ]
  },
  {
   "cell_type": "code",
   "execution_count": 53,
   "metadata": {},
   "outputs": [
    {
     "name": "stdout",
     "output_type": "stream",
     "text": [
      "('z', 2136)\n",
      "('zone', 2137)\n",
      "('—', 2138)\n",
      "('<|endoftext|>', 2139)\n",
      "('<|unk|>', 2140)\n"
     ]
    }
   ],
   "source": [
    "for i, item in enumerate(list(vocab.items())[-5:]):\n",
    "    print(item)"
   ]
  },
  {
   "cell_type": "code",
   "execution_count": 54,
   "metadata": {},
   "outputs": [],
   "source": [
    "class SimpleTokenizerV2:\n",
    "    \"\"\"Modifed tokenizer to handle unknown tokens and end of text token\n",
    "    \"\"\"\n",
    "    def __init__(self,vocab) -> None:\n",
    "        self.str_to_int = vocab\n",
    "        self.int_to_str = {v:k for k,v in vocab.items()}\n",
    "    def encode(self, text):\n",
    "        # Split the text based on the space character, comma, period,\n",
    "        # question mark, exclamation mark, double quote, single quote,\n",
    "        # parenthesis, or dash or percentage and split numbers into individual characters\n",
    "        tokens = re.split(r'([,.?!\"\\'()\\-]|(?:\\s+)|\\d+|%)', text)\n",
    "        tokens = [item.strip() for item in tokens if item.strip()]\n",
    "        return [self.str_to_int.get(token, self.str_to_int[\"<|unk|>\"]) for token in tokens]\n",
    "        return [self.str_to_int[token] for token in tokens]\n",
    "    def decode(self, ids):\n",
    "        text = \" \".join([self.int_to_str[i] for i in ids])\n",
    "        # replace the white space around the punctuation\n",
    "        text = re.sub(r'\\s+([,.?!\"()\\'])', r'\\1', text)\n",
    "        return text\n",
    "        "
   ]
  },
  {
   "cell_type": "code",
   "execution_count": 57,
   "metadata": {},
   "outputs": [
    {
     "name": "stdout",
     "output_type": "stream",
     "text": [
      "[2140, 6, 739, 2127, 1222, 2140, 43]\n",
      "<|unk|>, do you like <|unk|>?\n"
     ]
    }
   ],
   "source": [
    "tokenizer = SimpleTokenizerV2(vocab)\n",
    "text = \"Hello, do you like tea?\" \n",
    "ids = tokenizer.encode(text)\n",
    "print(ids)\n",
    "decoded_text = tokenizer.decode(ids)\n",
    "print(decoded_text)"
   ]
  },
  {
   "cell_type": "code",
   "execution_count": null,
   "metadata": {},
   "outputs": [],
   "source": []
  }
 ],
 "metadata": {
  "kernelspec": {
   "display_name": "pytorch",
   "language": "python",
   "name": "python3"
  },
  "language_info": {
   "codemirror_mode": {
    "name": "ipython",
    "version": 3
   },
   "file_extension": ".py",
   "mimetype": "text/x-python",
   "name": "python",
   "nbconvert_exporter": "python",
   "pygments_lexer": "ipython3",
   "version": "3.11.8"
  }
 },
 "nbformat": 4,
 "nbformat_minor": 2
}
