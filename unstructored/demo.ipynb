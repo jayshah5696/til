{
 "cells": [
  {
   "cell_type": "code",
   "execution_count": 2,
   "metadata": {},
   "outputs": [
    {
     "name": "stderr",
     "output_type": "stream",
     "text": [
      "/Users/jshah/micromamba/envs/pytorch/lib/python3.11/site-packages/tqdm/auto.py:21: TqdmWarning: IProgress not found. Please update jupyter and ipywidgets. See https://ipywidgets.readthedocs.io/en/stable/user_install.html\n",
      "  from .autonotebook import tqdm as notebook_tqdm\n"
     ]
    }
   ],
   "source": [
    "from unstructured.partition.pdf import partition_pdf"
   ]
  },
  {
   "cell_type": "code",
   "execution_count": 4,
   "metadata": {},
   "outputs": [
    {
     "name": "stderr",
     "output_type": "stream",
     "text": [
      "Some weights of the model checkpoint at microsoft/table-transformer-structure-recognition were not used when initializing TableTransformerForObjectDetection: ['model.backbone.conv_encoder.model.layer2.0.downsample.1.num_batches_tracked', 'model.backbone.conv_encoder.model.layer3.0.downsample.1.num_batches_tracked', 'model.backbone.conv_encoder.model.layer4.0.downsample.1.num_batches_tracked']\n",
      "- This IS expected if you are initializing TableTransformerForObjectDetection from the checkpoint of a model trained on another task or with another architecture (e.g. initializing a BertForSequenceClassification model from a BertForPreTraining model).\n",
      "- This IS NOT expected if you are initializing TableTransformerForObjectDetection from the checkpoint of a model that you expect to be exactly identical (initializing a BertForSequenceClassification model from a BertForSequenceClassification model).\n"
     ]
    }
   ],
   "source": [
    "# pdf https://www.nerc.com/pa/RAPA/PA/Section1600DataRequestsDL/2024_GADS_Wind_DRI.pdf\n",
    "\n",
    "pdf_path = \"2024_GADS_Wind_DRI.pdf\"\n",
    "elements = partition_pdf(pdf_path, \n",
    "                strategy=\"hi_res\",\n",
    "                infer_table_structure=True,\n",
    "                extract_images_in_pdf=True,\n",
    "                max_partition=None)"
   ]
  },
  {
   "cell_type": "code",
   "execution_count": 5,
   "metadata": {},
   "outputs": [
    {
     "data": {
      "text/plain": [
       "903"
      ]
     },
     "execution_count": 5,
     "metadata": {},
     "output_type": "execute_result"
    }
   ],
   "source": [
    "len(elements)"
   ]
  },
  {
   "cell_type": "code",
   "execution_count": 6,
   "metadata": {},
   "outputs": [
    {
     "data": {
      "text/html": [
       "<div>\n",
       "<style scoped>\n",
       "    .dataframe tbody tr th:only-of-type {\n",
       "        vertical-align: middle;\n",
       "    }\n",
       "\n",
       "    .dataframe tbody tr th {\n",
       "        vertical-align: top;\n",
       "    }\n",
       "\n",
       "    .dataframe thead th {\n",
       "        text-align: right;\n",
       "    }\n",
       "</style>\n",
       "<table border=\"1\" class=\"dataframe\">\n",
       "  <thead>\n",
       "    <tr style=\"text-align: right;\">\n",
       "      <th></th>\n",
       "      <th>type</th>\n",
       "      <th>element_id</th>\n",
       "      <th>text</th>\n",
       "      <th>metadata</th>\n",
       "    </tr>\n",
       "  </thead>\n",
       "  <tbody>\n",
       "    <tr>\n",
       "      <th>0</th>\n",
       "      <td>Image</td>\n",
       "      <td>389c6ad1643f9f82c5c623f784f06f46</td>\n",
       "      <td>GADS  Wind...</td>\n",
       "      <td>{'coordinates': {'points': ((48.05555555555556...</td>\n",
       "    </tr>\n",
       "    <tr>\n",
       "      <th>1</th>\n",
       "      <td>Title</td>\n",
       "      <td>bdbfccd772321c20f8d1ac72b2f09c15</td>\n",
       "      <td>GADS Wind Turbine Generation Data Reporting In...</td>\n",
       "      <td>{'coordinates': {'points': ((150.0, 587.988888...</td>\n",
       "    </tr>\n",
       "    <tr>\n",
       "      <th>2</th>\n",
       "      <td>Title</td>\n",
       "      <td>18de5682df61164c41ade86197ea52c8</td>\n",
       "      <td>Effective: January 1, 2024</td>\n",
       "      <td>{'coordinates': {'points': ((150.0, 1054.60555...</td>\n",
       "    </tr>\n",
       "    <tr>\n",
       "      <th>3</th>\n",
       "      <td>Image</td>\n",
       "      <td>1d4789feb7bd6d90a4655dcf196facd4</td>\n",
       "      <td>RELIABILITY | RESILIENCE | SECURITY</td>\n",
       "      <td>{'coordinates': {'points': ((806.6666666666666...</td>\n",
       "    </tr>\n",
       "    <tr>\n",
       "      <th>4</th>\n",
       "      <td>Image</td>\n",
       "      <td>5f3ee18bb03cd212a1527e27eb064181</td>\n",
       "      <td>— ' — . i, y \\</td>\n",
       "      <td>{'coordinates': {'points': ((47.5, 1624.305555...</td>\n",
       "    </tr>\n",
       "  </tbody>\n",
       "</table>\n",
       "</div>"
      ],
      "text/plain": [
       "    type                        element_id  \\\n",
       "0  Image  389c6ad1643f9f82c5c623f784f06f46   \n",
       "1  Title  bdbfccd772321c20f8d1ac72b2f09c15   \n",
       "2  Title  18de5682df61164c41ade86197ea52c8   \n",
       "3  Image  1d4789feb7bd6d90a4655dcf196facd4   \n",
       "4  Image  5f3ee18bb03cd212a1527e27eb064181   \n",
       "\n",
       "                                                text  \\\n",
       "0                                      GADS  Wind...   \n",
       "1  GADS Wind Turbine Generation Data Reporting In...   \n",
       "2                         Effective: January 1, 2024   \n",
       "3                RELIABILITY | RESILIENCE | SECURITY   \n",
       "4                                     — ' — . i, y \\   \n",
       "\n",
       "                                            metadata  \n",
       "0  {'coordinates': {'points': ((48.05555555555556...  \n",
       "1  {'coordinates': {'points': ((150.0, 587.988888...  \n",
       "2  {'coordinates': {'points': ((150.0, 1054.60555...  \n",
       "3  {'coordinates': {'points': ((806.6666666666666...  \n",
       "4  {'coordinates': {'points': ((47.5, 1624.305555...  "
      ]
     },
     "execution_count": 6,
     "metadata": {},
     "output_type": "execute_result"
    }
   ],
   "source": [
    "import json\n",
    "import pandas as pd\n",
    "\n",
    "elements_dict = [e.to_dict() for e in elements]\n",
    "df = pd.DataFrame(elements_dict)\n",
    "df.head()"
   ]
  },
  {
   "cell_type": "code",
   "execution_count": 8,
   "metadata": {},
   "outputs": [
    {
     "data": {
      "text/plain": [
       "type\n",
       "NarrativeText        270\n",
       "ListItem             202\n",
       "Title                191\n",
       "Table                 61\n",
       "UncategorizedText     60\n",
       "Header                55\n",
       "Formula               34\n",
       "Image                 22\n",
       "FigureCaption          8\n",
       "Name: count, dtype: int64"
      ]
     },
     "execution_count": 8,
     "metadata": {},
     "output_type": "execute_result"
    }
   ],
   "source": [
    "df['type'].value_counts()"
   ]
  },
  {
   "cell_type": "code",
   "execution_count": 9,
   "metadata": {},
   "outputs": [
    {
     "data": {
      "text/plain": [
       "{'detection_class_prob': 0.9014275074005127,\n",
       " 'coordinates': {'points': ((147.2567901611328, 208.85279846191406),\n",
       "   (147.2567901611328, 1696.571044921875),\n",
       "   (1564.552490234375, 1696.571044921875),\n",
       "   (1564.552490234375, 208.85279846191406)),\n",
       "  'system': 'PixelSpace',\n",
       "  'layout_width': 1700,\n",
       "  'layout_height': 2200},\n",
       " 'last_modified': '2024-08-28T21:02:27',\n",
       " 'text_as_html': '<table><tbody><tr><td colspan=\"2\">EVISION HiStOLY...... ce ceceseseceseeseeseesseeeeesecsecseeesecsesseseaeeseecaecsecesecsasseeesseaeessecsecsuecseceseeecadsesesseseseaesaeeeaeseesesesseaseeeeaeesgee iv</td></tr><tr><td colspan=\"2\">FOFACE oo. eececeeecesceceseescsecseeaeseeseacsecsecsseacsecseacsecsesaesacsesaesasseeaseassesaesaesaeseeaeseseesaesassecaeaeseeseeaeeeseesaeeessesaeeaseeeaeeaeeeeaeeatee \\\\</td></tr><tr><td colspan=\"2\">‘troduction ....</td></tr><tr><td>WhO MUSt REPOFt.....cccccscesecsscsscesccsecssecsecseceseesesessesecesesecseceseseceesesecsecessesecseseseceesesseaeeesseseceeseeeseeseseaeseeseseseesesesaeeees</td><td>vi</td></tr><tr><td colspan=\"2\">hapter 1: Date Record Types and Forimat.........cccecsscescssesseseeeesseeeeecseesceecseeaeseeseeaeeecsesaeaeseeseeaeseseesaeeessesaeeasesaeeeseeeaeeaees 1</td></tr><tr><td colspan=\"2\">Data RECOrd Type@s.......eessssscessscsscesceeseeseseesesecsecseesesecseaesessesaeacsecaesacsecseaeseeseeecsecsesaesaesaeseeaesesaesaseessesseeasesseeeseesaeeaeee 1</td></tr><tr><td colspan=\"2\">FOrMat ....c cee ccccceesecsescsecessceessessceecsecscsecsessesecsessessceecsecsssecssseassssessesessessusesseseessasessessasessessseeeseseeseaseseessssessueausessesensanes 1</td></tr><tr><td>hapter 2 : Plants, Groups, and Sub-Groups and Energy Storage</td><td>........:cssesseccesseeeeceeeseeseeceseeeeeecseseeeecsesseeesesaeeaeeeeeeeaeee 3</td></tr><tr><td colspan=\"2\">hapter 3 : Configuration Data....</td></tr><tr><td>When to Report Configuration</td><td>Data.........cececessssesecseeseeecseeseesesesseeecsesseeecsecseeasessesaesessessecaeseeaeeaseesaesaeeaesesaeeaseeaeees 5</td></tr><tr><td>Plant Configuration Data..........cssessesseccssssseseeecseeseeecseeseeesessesecsecsecaeseeseeaeecsesaesecsesseeaeseeseeaeeesaesaeeessesaeeaeeeeaeeeseesaeeaees</td><td>5</td></tr><tr><td>Subgroup Configuration Data.........cccescscseesseecesssesseeecseescecseeseeeseseesaesesseaeseeseeaesessesaesessesseaesesaeeasseseeseeeessesaeeaseeeneeees</td><td>7</td></tr><tr><td>Energy Storage Configuration Data</td><td>.........cccecsscesceccseeseesesseseesesecseescsecseeaeseesesaeecsesseaeseeseeasseseesessessesaeeassesseeeseesaeeatees 10</td></tr><tr><td>hapter 4 : Performance Reporting</td><td>..........sesessesseceeeseeseeeceeseeecseeseeeesecsessesecseeaeacseseeeacsecseaeeaeseeaseesseseeeaseesseeaseesseeeseetes 12</td></tr><tr><td>When to Report Performance Data....</td><td></td></tr><tr><td colspan=\"2\">Subgroup Performance ReCOI.........ssccsccssesessesseseeeeseesceecseesesceseeaesecsecsesaeseeseeaseesneseeeesesaesaeseeaeeaseesaeeaseesaeeaseeeaeeateeees 12</td></tr><tr><td>Energy Storage Group Performance</td><td>RECOIG........:csccsessesessesseseeeeseeseeeesceseeeeseceeeecsecsesaeseeseeaseeseeeeesecsesaesaeseeaeeesesaetatees 14</td></tr><tr><td>hapter 5 : Event REPOrting..........ceceeccscessecesseseeeeeeeseeseeecsecaeeacseeseeecsecsesaesaeseeaeecseseesessecsecaeceseeaseecseseeeesesaeeaseesaeeeseeees</td><td>16</td></tr><tr><td>When to Report Event Data... eccccsceseeseeecseesceeeseeseeecsecseseesecaeeecsecseaeseeseeaseeseeseesessesaesaeseeaseassesaeeasesaeeaseeeaeeateeees</td><td>16</td></tr><tr><td colspan=\"2\">Event Criteria... cece csecccscsecsesscsecsesecsessseessecsesecsecsessesessusscsessesscsecsecessecseseasecsessesessecessessessessscessessesessecssseseeseasenees 16</td></tr><tr><td colspan=\"2\">Plant Event RECOrd....... ccc cece ce ceseceeesecnececessceceeesscseeeeeseesececeseeseseeeseeseseeessesseeceseesseesessesseesessesseesessseaeesenaaeaeeses 16</td></tr><tr><td colspan=\"2\">Event Cause Codes....</td></tr><tr><td colspan=\"2\">Contributing Operating CONMdition 0.0... cee eseeesseeeeeseeseeeceeseeceseeaeeecsecseeecsecseeaseesaesaesecsesseaeseeaseassessesaseessetaeeesaeeaseeees 17</td></tr><tr><td colspan=\"2\">Potential Production MWH LOSS... cece seseeeeeseesecscesseseceeesseseeseesseeeesessesseesesseeeesessesseesesseeeesesseeeeseneeeaeeses 21</td></tr><tr><td>ppendix A : GADS Wind Reporting Application Data Release Guidelines.</td><td>.........eceeceesessseceteeseeeceeeeeeeeetseeaseeeseeneeeeee 23</td></tr><tr><td>ppendix B : Entity and Subgroup Identification 0... ee</td><td>eeseeeeseseecceeeseeseeeeseeseeeceeseeeecsecseaeseeseeasecsesaeeessesseeaseeeaeeaseeeee 24</td></tr></tbody></table>',\n",
       " 'filetype': 'application/pdf',\n",
       " 'languages': ['eng'],\n",
       " 'page_number': 2,\n",
       " 'parent_id': '6d3e432b19c08c47ac20631160cac9be',\n",
       " 'filename': '2024_GADS_Wind_DRI.pdf'}"
      ]
     },
     "execution_count": 9,
     "metadata": {},
     "output_type": "execute_result"
    }
   ],
   "source": [
    "df[df['type'] == 'Table']['metadata'].iloc[0]"
   ]
  },
  {
   "cell_type": "code",
   "execution_count": 10,
   "metadata": {},
   "outputs": [],
   "source": [
    "# Convert a single extracted element of type 'Table' to a Markdown table format using 'text_as_html'\n",
    "def convert_single_table_element_to_markdown(element):\n",
    "    # Check if the element has 'text_as_html' in its metadata\n",
    "    if 'text_as_html' not in element:\n",
    "        raise ValueError(\"Provided element does not contain 'text_as_html'.\")\n",
    "\n",
    "    # Extract the HTML table from the element\n",
    "    html_table = element['text_as_html']\n",
    "\n",
    "    # Use BeautifulSoup to parse the HTML and convert it to Markdown\n",
    "    from bs4 import BeautifulSoup\n",
    "\n",
    "    # Parse the HTML\n",
    "    soup = BeautifulSoup(html_table, 'html.parser')\n",
    "    markdown_table = \"\"\n",
    "\n",
    "    # Extract table headers\n",
    "    headers = [th.get_text() for th in soup.find_all('th')]\n",
    "    if headers:\n",
    "        markdown_table += \"| \" + \" | \".join(headers) + \" |\\n\"\n",
    "        markdown_table += \"| \" + \" | \".join(['---'] * len(headers)) + \" |\\n\"\n",
    "\n",
    "    # Extract table rows\n",
    "    for row in soup.find_all('tr'):\n",
    "        cells = row.find_all(['td', 'th'])\n",
    "        if cells:\n",
    "            markdown_table += \"| \" + \" | \".join(cell.get_text() for cell in cells) + \" |\\n\"\n",
    "\n",
    "    return markdown_table\n",
    "\n",
    "# Example usage with a single table element\n",
    "# markdown_output = convert_single_table_element_to_markdown(single_table_element)\n",
    "# print(markdown_output)\n",
    "\n",
    "\n",
    "\n"
   ]
  },
  {
   "cell_type": "code",
   "execution_count": 11,
   "metadata": {},
   "outputs": [
    {
     "data": {
      "text/plain": [
       "'| EVISION HiStOLY...... ce ceceseseceseeseeseesseeeeesecsecseeesecsesseseaeeseecaecsecesecsasseeesseaeessecsecsuecseceseeecadsesesseseseaesaeeeaeseesesesseaseeeeaeesgee iv |\\n| FOFACE oo. eececeeecesceceseescsecseeaeseeseacsecsecsseacsecseacsecsesaesacsesaesasseeaseassesaesaesaeseeaeseseesaesassecaeaeseeseeaeeeseesaeeessesaeeaseeeaeeaeeeeaeeatee \\\\ |\\n| ‘troduction .... |\\n| WhO MUSt REPOFt.....cccccscesecsscsscesccsecssecsecseceseesesessesecesesecseceseseceesesecsecessesecseseseceesesseaeeesseseceeseeeseeseseaeseeseseseesesesaeeees | vi |\\n| hapter 1: Date Record Types and Forimat.........cccecsscescssesseseeeesseeeeecseesceecseeaeseeseeaeeecsesaeaeseeseeaeseseesaeeessesaeeasesaeeeseeeaeeaees 1 |\\n| Data RECOrd Type@s.......eessssscessscsscesceeseeseseesesecsecseesesecseaesessesaeacsecaesacsecseaeseeseeecsecsesaesaesaeseeaesesaesaseessesseeasesseeeseesaeeaeee 1 |\\n| FOrMat ....c cee ccccceesecsescsecessceessessceecsecscsecsessesecsessessceecsecsssecssseassssessesessessusesseseessasessessasessessseeeseseeseaseseessssessueausessesensanes 1 |\\n| hapter 2 : Plants, Groups, and Sub-Groups and Energy Storage | ........:cssesseccesseeeeceeeseeseeceseeeeeecseseeeecsesseeesesaeeaeeeeeeeaeee 3 |\\n| hapter 3 : Configuration Data.... |\\n| When to Report Configuration | Data.........cececessssesecseeseeecseeseesesesseeecsesseeecsecseeasessesaesessessecaeseeaeeaseesaesaeeaesesaeeaseeaeees 5 |\\n| Plant Configuration Data..........cssessesseccssssseseeecseeseeecseeseeesessesecsecsecaeseeseeaeecsesaesecsesseeaeseeseeaeeesaesaeeessesaeeaeeeeaeeeseesaeeaees | 5 |\\n| Subgroup Configuration Data.........cccescscseesseecesssesseeecseescecseeseeeseseesaesesseaeseeseeaesessesaesessesseaesesaeeasseseeseeeessesaeeaseeeneeees | 7 |\\n| Energy Storage Configuration Data | .........cccecsscesceccseeseesesseseesesecseescsecseeaeseesesaeecsesseaeseeseeasseseesessessesaeeassesseeeseesaeeatees 10 |\\n| hapter 4 : Performance Reporting | ..........sesessesseceeeseeseeeceeseeecseeseeeesecsessesecseeaeacseseeeacsecseaeeaeseeaseesseseeeaseesseeaseesseeeseetes 12 |\\n| When to Report Performance Data.... |  |\\n| Subgroup Performance ReCOI.........ssccsccssesessesseseeeeseesceecseesesceseeaesecsecsesaeseeseeaseesneseeeesesaesaeseeaeeaseesaeeaseesaeeaseeeaeeateeees 12 |\\n| Energy Storage Group Performance | RECOIG........:csccsessesessesseseeeeseeseeeesceseeeeseceeeecsecsesaeseeseeaseeseeeeesecsesaesaeseeaeeesesaetatees 14 |\\n| hapter 5 : Event REPOrting..........ceceeccscessecesseseeeeeeeseeseeecsecaeeacseeseeecsecsesaesaeseeaeecseseesessecsecaeceseeaseecseseeeesesaeeaseesaeeeseeees | 16 |\\n| When to Report Event Data... eccccsceseeseeecseesceeeseeseeecsecseseesecaeeecsecseaeseeseeaseeseeseesessesaesaeseeaseassesaeeasesaeeaseeeaeeateeees | 16 |\\n| Event Criteria... cece csecccscsecsesscsecsesecsessseessecsesecsecsessesessusscsessesscsecsecessecseseasecsessesessecessessessessscessessesessecssseseeseasenees 16 |\\n| Plant Event RECOrd....... ccc cece ce ceseceeesecnececessceceeesscseeeeeseesececeseeseseeeseeseseeessesseeceseesseesessesseesessesseesessseaeesenaaeaeeses 16 |\\n| Event Cause Codes.... |\\n| Contributing Operating CONMdition 0.0... cee eseeesseeeeeseeseeeceeseeceseeaeeecsecseeecsecseeaseesaesaesecsesseaeseeaseassessesaseessetaeeesaeeaseeees 17 |\\n| Potential Production MWH LOSS... cece seseeeeeseesecscesseseceeesseseeseesseeeesessesseesesseeeesessesseesesseeeesesseeeeseneeeaeeses 21 |\\n| ppendix A : GADS Wind Reporting Application Data Release Guidelines. | .........eceeceesessseceteeseeeceeeeeeeeetseeaseeeseeneeeeee 23 |\\n| ppendix B : Entity and Subgroup Identification 0... ee | eeseeeeseseecceeeseeseeeeseeseeeceeseeeecsecseaeseeseeasecsesaeeessesseeaseeeaeeaseeeee 24 |\\n'"
      ]
     },
     "execution_count": 11,
     "metadata": {},
     "output_type": "execute_result"
    }
   ],
   "source": [
    "convert_single_table_element_to_markdown(df[df['type'] == 'Table']['metadata'].iloc[0])"
   ]
  },
  {
   "cell_type": "code",
   "execution_count": null,
   "metadata": {},
   "outputs": [],
   "source": [
    "# Function to convert a DataFrame of tables to Markdown format\n",
    "def convert_dataframe_to_markdown(df):\n",
    "    markdown_output = \"\"\n",
    "    for index, row in df.iterrows():\n",
    "        if row['type'] == 'Table':\n",
    "            markdown_output += convert_single_table_element_to_markdown(row['metadata']) + \"\\n\\n\" + str(row['metadata']['page_number']) +\"\\n\\n\"\n",
    "            \n",
    "    return markdown_output\n",
    "\n",
    "# Example usage with the DataFrame containing multiple elements\n",
    "markdown_tables = convert_dataframe_to_markdown(df)\n",
    "print(markdown_tables)\n"
   ]
  },
  {
   "cell_type": "code",
   "execution_count": 43,
   "metadata": {},
   "outputs": [],
   "source": [
    "import requests\n",
    "\n",
    "# Replace with your actual Modal Labs FastAPI endpoint URL\n",
    "url = \"https://jayshah5696--modalapp-my-function-dev.modal.run/partition-pdf/\"\n",
    "\n",
    "# Path to the PDF file on your local machine\n",
    "pdf_file_path = \"2024_GADS_Wind_DRI.pdf\"\n",
    "\n",
    "# Open the PDF file in binary mode\n",
    "def upload_pdf(endpoint_url, file_path):\n",
    "    \"\"\"Uploads a PDF file to the specified endpoint URL.\"\"\"\n",
    "    files = {'file': open(file_path, 'rb')}\n",
    "    response = requests.post(endpoint_url, files=files,verify=False)\n",
    "    if response.status_code == 200:\n",
    "        print(\"PDF uploaded successfully!\")\n",
    "        return response.json()\n",
    "    else:\n",
    "        print(f\"Error uploading PDF: {response.status_code}\")\n",
    "        print(response.text)\n",
    "        return None\n",
    "\n"
   ]
  },
  {
   "cell_type": "code",
   "execution_count": 45,
   "metadata": {},
   "outputs": [
    {
     "name": "stderr",
     "output_type": "stream",
     "text": [
      "/Users/jshah/micromamba/envs/pytorch/lib/python3.11/site-packages/urllib3/connectionpool.py:1103: InsecureRequestWarning: Unverified HTTPS request is being made to host 'jayshah5696--modalapp-my-function-dev.modal.run'. Adding certificate verification is strongly advised. See: https://urllib3.readthedocs.io/en/latest/advanced-usage.html#tls-warnings\n",
      "  warnings.warn(\n",
      "/Users/jshah/micromamba/envs/pytorch/lib/python3.11/site-packages/urllib3/connectionpool.py:1103: InsecureRequestWarning: Unverified HTTPS request is being made to host 'jayshah5696--modalapp-my-function-dev.modal.run'. Adding certificate verification is strongly advised. See: https://urllib3.readthedocs.io/en/latest/advanced-usage.html#tls-warnings\n",
      "  warnings.warn(\n",
      "/Users/jshah/micromamba/envs/pytorch/lib/python3.11/site-packages/urllib3/connectionpool.py:1103: InsecureRequestWarning: Unverified HTTPS request is being made to host 'jayshah5696--modalapp-my-function-dev.modal.run'. Adding certificate verification is strongly advised. See: https://urllib3.readthedocs.io/en/latest/advanced-usage.html#tls-warnings\n",
      "  warnings.warn(\n"
     ]
    },
    {
     "name": "stdout",
     "output_type": "stream",
     "text": [
      "PDF uploaded successfully!\n"
     ]
    }
   ],
   "source": [
    "response = upload_pdf(url, pdf_file_path)"
   ]
  },
  {
   "cell_type": "code",
   "execution_count": 49,
   "metadata": {},
   "outputs": [
    {
     "data": {
      "text/plain": [
       "901"
      ]
     },
     "execution_count": 49,
     "metadata": {},
     "output_type": "execute_result"
    }
   ],
   "source": [
    "len(response['elements'])"
   ]
  },
  {
   "cell_type": "code",
   "execution_count": null,
   "metadata": {},
   "outputs": [],
   "source": []
  }
 ],
 "metadata": {
  "kernelspec": {
   "display_name": "Python 3",
   "language": "python",
   "name": "python3"
  },
  "language_info": {
   "codemirror_mode": {
    "name": "ipython",
    "version": 3
   },
   "file_extension": ".py",
   "mimetype": "text/x-python",
   "name": "python",
   "nbconvert_exporter": "python",
   "pygments_lexer": "ipython3",
   "version": "3.11.8"
  }
 },
 "nbformat": 4,
 "nbformat_minor": 2
}
