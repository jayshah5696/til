{
 "cells": [
  {
   "cell_type": "code",
   "execution_count": 2,
   "metadata": {},
   "outputs": [
    {
     "name": "stderr",
     "output_type": "stream",
     "text": [
      "/Users/jshah/micromamba/envs/pytorch/lib/python3.11/site-packages/tqdm/auto.py:21: TqdmWarning: IProgress not found. Please update jupyter and ipywidgets. See https://ipywidgets.readthedocs.io/en/stable/user_install.html\n",
      "  from .autonotebook import tqdm as notebook_tqdm\n"
     ]
    }
   ],
   "source": [
    "from unstructured.partition.pdf import partition_pdf"
   ]
  },
  {
   "cell_type": "code",
   "execution_count": 4,
   "metadata": {},
   "outputs": [
    {
     "name": "stderr",
     "output_type": "stream",
     "text": [
      "Some weights of the model checkpoint at microsoft/table-transformer-structure-recognition were not used when initializing TableTransformerForObjectDetection: ['model.backbone.conv_encoder.model.layer2.0.downsample.1.num_batches_tracked', 'model.backbone.conv_encoder.model.layer3.0.downsample.1.num_batches_tracked', 'model.backbone.conv_encoder.model.layer4.0.downsample.1.num_batches_tracked']\n",
      "- This IS expected if you are initializing TableTransformerForObjectDetection from the checkpoint of a model trained on another task or with another architecture (e.g. initializing a BertForSequenceClassification model from a BertForPreTraining model).\n",
      "- This IS NOT expected if you are initializing TableTransformerForObjectDetection from the checkpoint of a model that you expect to be exactly identical (initializing a BertForSequenceClassification model from a BertForSequenceClassification model).\n"
     ]
    }
   ],
   "source": [
    "# pdf https://www.nerc.com/pa/RAPA/PA/Section1600DataRequestsDL/2024_GADS_Wind_DRI.pdf\n",
    "\n",
    "pdf_path = \"2024_GADS_Wind_DRI.pdf\"\n",
    "elements = partition_pdf(pdf_path, \n",
    "                strategy=\"hi_res\",\n",
    "                infer_table_structure=True,\n",
    "                extract_images_in_pdf=True,\n",
    "                max_partition=None)"
   ]
  },
  {
   "cell_type": "code",
   "execution_count": 5,
   "metadata": {},
   "outputs": [
    {
     "data": {
      "text/plain": [
       "903"
      ]
     },
     "execution_count": 5,
     "metadata": {},
     "output_type": "execute_result"
    }
   ],
   "source": [
    "len(elements)"
   ]
  },
  {
   "cell_type": "code",
   "execution_count": 6,
   "metadata": {},
   "outputs": [
    {
     "data": {
      "text/html": [
       "<div>\n",
       "<style scoped>\n",
       "    .dataframe tbody tr th:only-of-type {\n",
       "        vertical-align: middle;\n",
       "    }\n",
       "\n",
       "    .dataframe tbody tr th {\n",
       "        vertical-align: top;\n",
       "    }\n",
       "\n",
       "    .dataframe thead th {\n",
       "        text-align: right;\n",
       "    }\n",
       "</style>\n",
       "<table border=\"1\" class=\"dataframe\">\n",
       "  <thead>\n",
       "    <tr style=\"text-align: right;\">\n",
       "      <th></th>\n",
       "      <th>type</th>\n",
       "      <th>element_id</th>\n",
       "      <th>text</th>\n",
       "      <th>metadata</th>\n",
       "    </tr>\n",
       "  </thead>\n",
       "  <tbody>\n",
       "    <tr>\n",
       "      <th>0</th>\n",
       "      <td>Image</td>\n",
       "      <td>389c6ad1643f9f82c5c623f784f06f46</td>\n",
       "      <td>GADS  Wind...</td>\n",
       "      <td>{'coordinates': {'points': ((48.05555555555556...</td>\n",
       "    </tr>\n",
       "    <tr>\n",
       "      <th>1</th>\n",
       "      <td>Title</td>\n",
       "      <td>bdbfccd772321c20f8d1ac72b2f09c15</td>\n",
       "      <td>GADS Wind Turbine Generation Data Reporting In...</td>\n",
       "      <td>{'coordinates': {'points': ((150.0, 587.988888...</td>\n",
       "    </tr>\n",
       "    <tr>\n",
       "      <th>2</th>\n",
       "      <td>Title</td>\n",
       "      <td>18de5682df61164c41ade86197ea52c8</td>\n",
       "      <td>Effective: January 1, 2024</td>\n",
       "      <td>{'coordinates': {'points': ((150.0, 1054.60555...</td>\n",
       "    </tr>\n",
       "    <tr>\n",
       "      <th>3</th>\n",
       "      <td>Image</td>\n",
       "      <td>1d4789feb7bd6d90a4655dcf196facd4</td>\n",
       "      <td>RELIABILITY | RESILIENCE | SECURITY</td>\n",
       "      <td>{'coordinates': {'points': ((806.6666666666666...</td>\n",
       "    </tr>\n",
       "    <tr>\n",
       "      <th>4</th>\n",
       "      <td>Image</td>\n",
       "      <td>5f3ee18bb03cd212a1527e27eb064181</td>\n",
       "      <td>— ' — . i, y \\</td>\n",
       "      <td>{'coordinates': {'points': ((47.5, 1624.305555...</td>\n",
       "    </tr>\n",
       "  </tbody>\n",
       "</table>\n",
       "</div>"
      ],
      "text/plain": [
       "    type                        element_id  \\\n",
       "0  Image  389c6ad1643f9f82c5c623f784f06f46   \n",
       "1  Title  bdbfccd772321c20f8d1ac72b2f09c15   \n",
       "2  Title  18de5682df61164c41ade86197ea52c8   \n",
       "3  Image  1d4789feb7bd6d90a4655dcf196facd4   \n",
       "4  Image  5f3ee18bb03cd212a1527e27eb064181   \n",
       "\n",
       "                                                text  \\\n",
       "0                                      GADS  Wind...   \n",
       "1  GADS Wind Turbine Generation Data Reporting In...   \n",
       "2                         Effective: January 1, 2024   \n",
       "3                RELIABILITY | RESILIENCE | SECURITY   \n",
       "4                                     — ' — . i, y \\   \n",
       "\n",
       "                                            metadata  \n",
       "0  {'coordinates': {'points': ((48.05555555555556...  \n",
       "1  {'coordinates': {'points': ((150.0, 587.988888...  \n",
       "2  {'coordinates': {'points': ((150.0, 1054.60555...  \n",
       "3  {'coordinates': {'points': ((806.6666666666666...  \n",
       "4  {'coordinates': {'points': ((47.5, 1624.305555...  "
      ]
     },
     "execution_count": 6,
     "metadata": {},
     "output_type": "execute_result"
    }
   ],
   "source": [
    "import json\n",
    "import pandas as pd\n",
    "\n",
    "elements_dict = [e.to_dict() for e in elements]\n",
    "df = pd.DataFrame(elements_dict)\n",
    "df.head()"
   ]
  },
  {
   "cell_type": "code",
   "execution_count": 8,
   "metadata": {},
   "outputs": [
    {
     "data": {
      "text/plain": [
       "type\n",
       "NarrativeText        270\n",
       "ListItem             202\n",
       "Title                191\n",
       "Table                 61\n",
       "UncategorizedText     60\n",
       "Header                55\n",
       "Formula               34\n",
       "Image                 22\n",
       "FigureCaption          8\n",
       "Name: count, dtype: int64"
      ]
     },
     "execution_count": 8,
     "metadata": {},
     "output_type": "execute_result"
    }
   ],
   "source": [
    "df['type'].value_counts()"
   ]
  },
  {
   "cell_type": "code",
   "execution_count": 9,
   "metadata": {},
   "outputs": [
    {
     "data": {
      "text/plain": [
       "{'detection_class_prob': 0.9014275074005127,\n",
       " 'coordinates': {'points': ((147.2567901611328, 208.85279846191406),\n",
       "   (147.2567901611328, 1696.571044921875),\n",
       "   (1564.552490234375, 1696.571044921875),\n",
       "   (1564.552490234375, 208.85279846191406)),\n",
       "  'system': 'PixelSpace',\n",
       "  'layout_width': 1700,\n",
       "  'layout_height': 2200},\n",
       " 'last_modified': '2024-08-28T21:02:27',\n",
       " 'text_as_html': '<table><tbody><tr><td colspan=\"2\">EVISION HiStOLY...... ce ceceseseceseeseeseesseeeeesecsecseeesecsesseseaeeseecaecsecesecsasseeesseaeessecsecsuecseceseeecadsesesseseseaesaeeeaeseesesesseaseeeeaeesgee iv</td></tr><tr><td colspan=\"2\">FOFACE oo. eececeeecesceceseescsecseeaeseeseacsecsecsseacsecseacsecsesaesacsesaesasseeaseassesaesaesaeseeaeseseesaesassecaeaeseeseeaeeeseesaeeessesaeeaseeeaeeaeeeeaeeatee \\\\</td></tr><tr><td colspan=\"2\">‘troduction ....</td></tr><tr><td>WhO MUSt REPOFt.....cccccscesecsscsscesccsecssecsecseceseesesessesecesesecseceseseceesesecsecessesecseseseceesesseaeeesseseceeseeeseeseseaeseeseseseesesesaeeees</td><td>vi</td></tr><tr><td colspan=\"2\">hapter 1: Date Record Types and Forimat.........cccecsscescssesseseeeesseeeeecseesceecseeaeseeseeaeeecsesaeaeseeseeaeseseesaeeessesaeeasesaeeeseeeaeeaees 1</td></tr><tr><td colspan=\"2\">Data RECOrd Type@s.......eessssscessscsscesceeseeseseesesecsecseesesecseaesessesaeacsecaesacsecseaeseeseeecsecsesaesaesaeseeaesesaesaseessesseeasesseeeseesaeeaeee 1</td></tr><tr><td colspan=\"2\">FOrMat ....c cee ccccceesecsescsecessceessessceecsecscsecsessesecsessessceecsecsssecssseassssessesessessusesseseessasessessasessessseeeseseeseaseseessssessueausessesensanes 1</td></tr><tr><td>hapter 2 : Plants, Groups, and Sub-Groups and Energy Storage</td><td>........:cssesseccesseeeeceeeseeseeceseeeeeecseseeeecsesseeesesaeeaeeeeeeeaeee 3</td></tr><tr><td colspan=\"2\">hapter 3 : Configuration Data....</td></tr><tr><td>When to Report Configuration</td><td>Data.........cececessssesecseeseeecseeseesesesseeecsesseeecsecseeasessesaesessessecaeseeaeeaseesaesaeeaesesaeeaseeaeees 5</td></tr><tr><td>Plant Configuration Data..........cssessesseccssssseseeecseeseeecseeseeesessesecsecsecaeseeseeaeecsesaesecsesseeaeseeseeaeeesaesaeeessesaeeaeeeeaeeeseesaeeaees</td><td>5</td></tr><tr><td>Subgroup Configuration Data.........cccescscseesseecesssesseeecseescecseeseeeseseesaesesseaeseeseeaesessesaesessesseaesesaeeasseseeseeeessesaeeaseeeneeees</td><td>7</td></tr><tr><td>Energy Storage Configuration Data</td><td>.........cccecsscesceccseeseesesseseesesecseescsecseeaeseesesaeecsesseaeseeseeasseseesessessesaeeassesseeeseesaeeatees 10</td></tr><tr><td>hapter 4 : Performance Reporting</td><td>..........sesessesseceeeseeseeeceeseeecseeseeeesecsessesecseeaeacseseeeacsecseaeeaeseeaseesseseeeaseesseeaseesseeeseetes 12</td></tr><tr><td>When to Report Performance Data....</td><td></td></tr><tr><td colspan=\"2\">Subgroup Performance ReCOI.........ssccsccssesessesseseeeeseesceecseesesceseeaesecsecsesaeseeseeaseesneseeeesesaesaeseeaeeaseesaeeaseesaeeaseeeaeeateeees 12</td></tr><tr><td>Energy Storage Group Performance</td><td>RECOIG........:csccsessesessesseseeeeseeseeeesceseeeeseceeeecsecsesaeseeseeaseeseeeeesecsesaesaeseeaeeesesaetatees 14</td></tr><tr><td>hapter 5 : Event REPOrting..........ceceeccscessecesseseeeeeeeseeseeecsecaeeacseeseeecsecsesaesaeseeaeecseseesessecsecaeceseeaseecseseeeesesaeeaseesaeeeseeees</td><td>16</td></tr><tr><td>When to Report Event Data... eccccsceseeseeecseesceeeseeseeecsecseseesecaeeecsecseaeseeseeaseeseeseesessesaesaeseeaseassesaeeasesaeeaseeeaeeateeees</td><td>16</td></tr><tr><td colspan=\"2\">Event Criteria... cece csecccscsecsesscsecsesecsessseessecsesecsecsessesessusscsessesscsecsecessecseseasecsessesessecessessessessscessessesessecssseseeseasenees 16</td></tr><tr><td colspan=\"2\">Plant Event RECOrd....... ccc cece ce ceseceeesecnececessceceeesscseeeeeseesececeseeseseeeseeseseeessesseeceseesseesessesseesessesseesessseaeesenaaeaeeses 16</td></tr><tr><td colspan=\"2\">Event Cause Codes....</td></tr><tr><td colspan=\"2\">Contributing Operating CONMdition 0.0... cee eseeesseeeeeseeseeeceeseeceseeaeeecsecseeecsecseeaseesaesaesecsesseaeseeaseassessesaseessetaeeesaeeaseeees 17</td></tr><tr><td colspan=\"2\">Potential Production MWH LOSS... cece seseeeeeseesecscesseseceeesseseeseesseeeesessesseesesseeeesessesseesesseeeesesseeeeseneeeaeeses 21</td></tr><tr><td>ppendix A : GADS Wind Reporting Application Data Release Guidelines.</td><td>.........eceeceesessseceteeseeeceeeeeeeeetseeaseeeseeneeeeee 23</td></tr><tr><td>ppendix B : Entity and Subgroup Identification 0... ee</td><td>eeseeeeseseecceeeseeseeeeseeseeeceeseeeecsecseaeseeseeasecsesaeeessesseeaseeeaeeaseeeee 24</td></tr></tbody></table>',\n",
       " 'filetype': 'application/pdf',\n",
       " 'languages': ['eng'],\n",
       " 'page_number': 2,\n",
       " 'parent_id': '6d3e432b19c08c47ac20631160cac9be',\n",
       " 'filename': '2024_GADS_Wind_DRI.pdf'}"
      ]
     },
     "execution_count": 9,
     "metadata": {},
     "output_type": "execute_result"
    }
   ],
   "source": [
    "df[df['type'] == 'Table']['metadata'].iloc[0]"
   ]
  },
  {
   "cell_type": "code",
   "execution_count": 10,
   "metadata": {},
   "outputs": [],
   "source": [
    "# Convert a single extracted element of type 'Table' to a Markdown table format using 'text_as_html'\n",
    "def convert_single_table_element_to_markdown(element):\n",
    "    # Check if the element has 'text_as_html' in its metadata\n",
    "    if 'text_as_html' not in element:\n",
    "        raise ValueError(\"Provided element does not contain 'text_as_html'.\")\n",
    "\n",
    "    # Extract the HTML table from the element\n",
    "    html_table = element['text_as_html']\n",
    "\n",
    "    # Use BeautifulSoup to parse the HTML and convert it to Markdown\n",
    "    from bs4 import BeautifulSoup\n",
    "\n",
    "    # Parse the HTML\n",
    "    soup = BeautifulSoup(html_table, 'html.parser')\n",
    "    markdown_table = \"\"\n",
    "\n",
    "    # Extract table headers\n",
    "    headers = [th.get_text() for th in soup.find_all('th')]\n",
    "    if headers:\n",
    "        markdown_table += \"| \" + \" | \".join(headers) + \" |\\n\"\n",
    "        markdown_table += \"| \" + \" | \".join(['---'] * len(headers)) + \" |\\n\"\n",
    "\n",
    "    # Extract table rows\n",
    "    for row in soup.find_all('tr'):\n",
    "        cells = row.find_all(['td', 'th'])\n",
    "        if cells:\n",
    "            markdown_table += \"| \" + \" | \".join(cell.get_text() for cell in cells) + \" |\\n\"\n",
    "\n",
    "    return markdown_table\n",
    "\n",
    "# Example usage with a single table element\n",
    "# markdown_output = convert_single_table_element_to_markdown(single_table_element)\n",
    "# print(markdown_output)\n",
    "\n",
    "\n",
    "\n"
   ]
  },
  {
   "cell_type": "code",
   "execution_count": 11,
   "metadata": {},
   "outputs": [
    {
     "data": {
      "text/plain": [
       "'| EVISION HiStOLY...... ce ceceseseceseeseeseesseeeeesecsecseeesecsesseseaeeseecaecsecesecsasseeesseaeessecsecsuecseceseeecadsesesseseseaesaeeeaeseesesesseaseeeeaeesgee iv |\\n| FOFACE oo. eececeeecesceceseescsecseeaeseeseacsecsecsseacsecseacsecsesaesacsesaesasseeaseassesaesaesaeseeaeseseesaesassecaeaeseeseeaeeeseesaeeessesaeeaseeeaeeaeeeeaeeatee \\\\ |\\n| ‘troduction .... |\\n| WhO MUSt REPOFt.....cccccscesecsscsscesccsecssecsecseceseesesessesecesesecseceseseceesesecsecessesecseseseceesesseaeeesseseceeseeeseeseseaeseeseseseesesesaeeees | vi |\\n| hapter 1: Date Record Types and Forimat.........cccecsscescssesseseeeesseeeeecseesceecseeaeseeseeaeeecsesaeaeseeseeaeseseesaeeessesaeeasesaeeeseeeaeeaees 1 |\\n| Data RECOrd Type@s.......eessssscessscsscesceeseeseseesesecsecseesesecseaesessesaeacsecaesacsecseaeseeseeecsecsesaesaesaeseeaesesaesaseessesseeasesseeeseesaeeaeee 1 |\\n| FOrMat ....c cee ccccceesecsescsecessceessessceecsecscsecsessesecsessessceecsecsssecssseassssessesessessusesseseessasessessasessessseeeseseeseaseseessssessueausessesensanes 1 |\\n| hapter 2 : Plants, Groups, and Sub-Groups and Energy Storage | ........:cssesseccesseeeeceeeseeseeceseeeeeecseseeeecsesseeesesaeeaeeeeeeeaeee 3 |\\n| hapter 3 : Configuration Data.... |\\n| When to Report Configuration | Data.........cececessssesecseeseeecseeseesesesseeecsesseeecsecseeasessesaesessessecaeseeaeeaseesaesaeeaesesaeeaseeaeees 5 |\\n| Plant Configuration Data..........cssessesseccssssseseeecseeseeecseeseeesessesecsecsecaeseeseeaeecsesaesecsesseeaeseeseeaeeesaesaeeessesaeeaeeeeaeeeseesaeeaees | 5 |\\n| Subgroup Configuration Data.........cccescscseesseecesssesseeecseescecseeseeeseseesaesesseaeseeseeaesessesaesessesseaesesaeeasseseeseeeessesaeeaseeeneeees | 7 |\\n| Energy Storage Configuration Data | .........cccecsscesceccseeseesesseseesesecseescsecseeaeseesesaeecsesseaeseeseeasseseesessessesaeeassesseeeseesaeeatees 10 |\\n| hapter 4 : Performance Reporting | ..........sesessesseceeeseeseeeceeseeecseeseeeesecsessesecseeaeacseseeeacsecseaeeaeseeaseesseseeeaseesseeaseesseeeseetes 12 |\\n| When to Report Performance Data.... |  |\\n| Subgroup Performance ReCOI.........ssccsccssesessesseseeeeseesceecseesesceseeaesecsecsesaeseeseeaseesneseeeesesaesaeseeaeeaseesaeeaseesaeeaseeeaeeateeees 12 |\\n| Energy Storage Group Performance | RECOIG........:csccsessesessesseseeeeseeseeeesceseeeeseceeeecsecsesaeseeseeaseeseeeeesecsesaesaeseeaeeesesaetatees 14 |\\n| hapter 5 : Event REPOrting..........ceceeccscessecesseseeeeeeeseeseeecsecaeeacseeseeecsecsesaesaeseeaeecseseesessecsecaeceseeaseecseseeeesesaeeaseesaeeeseeees | 16 |\\n| When to Report Event Data... eccccsceseeseeecseesceeeseeseeecsecseseesecaeeecsecseaeseeseeaseeseeseesessesaesaeseeaseassesaeeasesaeeaseeeaeeateeees | 16 |\\n| Event Criteria... cece csecccscsecsesscsecsesecsessseessecsesecsecsessesessusscsessesscsecsecessecseseasecsessesessecessessessessscessessesessecssseseeseasenees 16 |\\n| Plant Event RECOrd....... ccc cece ce ceseceeesecnececessceceeesscseeeeeseesececeseeseseeeseeseseeessesseeceseesseesessesseesessesseesessseaeesenaaeaeeses 16 |\\n| Event Cause Codes.... |\\n| Contributing Operating CONMdition 0.0... cee eseeesseeeeeseeseeeceeseeceseeaeeecsecseeecsecseeaseesaesaesecsesseaeseeaseassessesaseessetaeeesaeeaseeees 17 |\\n| Potential Production MWH LOSS... cece seseeeeeseesecscesseseceeesseseeseesseeeesessesseesesseeeesessesseesesseeeesesseeeeseneeeaeeses 21 |\\n| ppendix A : GADS Wind Reporting Application Data Release Guidelines. | .........eceeceesessseceteeseeeceeeeeeeeetseeaseeeseeneeeeee 23 |\\n| ppendix B : Entity and Subgroup Identification 0... ee | eeseeeeseseecceeeseeseeeeseeseeeceeseeeecsecseaeseeseeasecsesaeeessesseeaseeeaeeaseeeee 24 |\\n'"
      ]
     },
     "execution_count": 11,
     "metadata": {},
     "output_type": "execute_result"
    }
   ],
   "source": [
    "convert_single_table_element_to_markdown(df[df['type'] == 'Table']['metadata'].iloc[0])"
   ]
  },
  {
   "cell_type": "code",
   "execution_count": null,
   "metadata": {},
   "outputs": [],
   "source": [
    "# Function to convert a DataFrame of tables to Markdown format\n",
    "def convert_dataframe_to_markdown(df):\n",
    "    markdown_output = \"\"\n",
    "    for index, row in df.iterrows():\n",
    "        if row['type'] == 'Table':\n",
    "            markdown_output += convert_single_table_element_to_markdown(row['metadata']) + \"\\n\\n\" + str(row['metadata']['page_number']) +\"\\n\\n\"\n",
    "            \n",
    "    return markdown_output\n",
    "\n",
    "# Example usage with the DataFrame containing multiple elements\n",
    "markdown_tables = convert_dataframe_to_markdown(df)\n",
    "print(markdown_tables)\n"
   ]
  },
  {
   "cell_type": "code",
   "execution_count": 5,
   "metadata": {},
   "outputs": [],
   "source": [
    "import requests\n",
    "\n",
    "# Replace with your actual Modal Labs FastAPI endpoint URL\n",
    "url = \"https://jayshah5696--modalpdfprocessor-fastapi-app-dev.modal.run/process-pdf/\"\n",
    "\n",
    "# Path to the PDF file on your local machine\n",
    "pdf_file_path = \"2024_GADS_Wind_DRI.pdf\"\n",
    "\n",
    "# Open the PDF file in binary mode\n",
    "def upload_pdf(endpoint_url, file_path):\n",
    "    \"\"\"Uploads a PDF file to the specified endpoint URL.\"\"\"\n",
    "    files = {'file': open(file_path, 'rb')}\n",
    "    response = requests.post(endpoint_url, files=files,verify=False)\n",
    "    if response.status_code == 200:\n",
    "        print(\"PDF uploaded successfully!\")\n",
    "        return response.json()\n",
    "    else:\n",
    "        print(f\"Error uploading PDF: {response.status_code}\")\n",
    "        print(response.text)\n",
    "        return None\n",
    "\n"
   ]
  },
  {
   "cell_type": "code",
   "execution_count": 6,
   "metadata": {},
   "outputs": [
    {
     "name": "stderr",
     "output_type": "stream",
     "text": [
      "/Users/jshah/micromamba/envs/pytorch/lib/python3.11/site-packages/urllib3/connectionpool.py:1103: InsecureRequestWarning: Unverified HTTPS request is being made to host 'jayshah5696--modalpdfprocessor-fastapi-app-dev.modal.run'. Adding certificate verification is strongly advised. See: https://urllib3.readthedocs.io/en/latest/advanced-usage.html#tls-warnings\n",
      "  warnings.warn(\n",
      "/Users/jshah/micromamba/envs/pytorch/lib/python3.11/site-packages/urllib3/connectionpool.py:1103: InsecureRequestWarning: Unverified HTTPS request is being made to host 'jayshah5696--modalpdfprocessor-fastapi-app-dev.modal.run'. Adding certificate verification is strongly advised. See: https://urllib3.readthedocs.io/en/latest/advanced-usage.html#tls-warnings\n",
      "  warnings.warn(\n",
      "/Users/jshah/micromamba/envs/pytorch/lib/python3.11/site-packages/urllib3/connectionpool.py:1103: InsecureRequestWarning: Unverified HTTPS request is being made to host 'jayshah5696--modalpdfprocessor-fastapi-app-dev.modal.run'. Adding certificate verification is strongly advised. See: https://urllib3.readthedocs.io/en/latest/advanced-usage.html#tls-warnings\n",
      "  warnings.warn(\n"
     ]
    },
    {
     "name": "stdout",
     "output_type": "stream",
     "text": [
      "PDF uploaded successfully!\n"
     ]
    }
   ],
   "source": [
    "response = upload_pdf(url, pdf_file_path)"
   ]
  },
  {
   "cell_type": "code",
   "execution_count": 11,
   "metadata": {},
   "outputs": [],
   "source": [
    "import json\n",
    "# save this as json\n",
    "with open('response.json', 'w') as f:\n",
    "    json.dump(response, f)"
   ]
  },
  {
   "cell_type": "code",
   "execution_count": 1,
   "metadata": {},
   "outputs": [],
   "source": [
    "import json\n",
    "import pandas as pd\n",
    "response = json.load(open('response.json'))"
   ]
  },
  {
   "cell_type": "code",
   "execution_count": 2,
   "metadata": {},
   "outputs": [],
   "source": [
    "from pandas import json_normalize\n",
    "\n",
    "df = json_normalize(response)"
   ]
  },
  {
   "cell_type": "code",
   "execution_count": 3,
   "metadata": {},
   "outputs": [
    {
     "data": {
      "text/html": [
       "<div>\n",
       "<style scoped>\n",
       "    .dataframe tbody tr th:only-of-type {\n",
       "        vertical-align: middle;\n",
       "    }\n",
       "\n",
       "    .dataframe tbody tr th {\n",
       "        vertical-align: top;\n",
       "    }\n",
       "\n",
       "    .dataframe thead th {\n",
       "        text-align: right;\n",
       "    }\n",
       "</style>\n",
       "<table border=\"1\" class=\"dataframe\">\n",
       "  <thead>\n",
       "    <tr style=\"text-align: right;\">\n",
       "      <th></th>\n",
       "      <th>type</th>\n",
       "      <th>text</th>\n",
       "      <th>element_id</th>\n",
       "      <th>metadata.coordinates.points</th>\n",
       "      <th>metadata.coordinates.system</th>\n",
       "      <th>metadata.coordinates.layout_width</th>\n",
       "      <th>metadata.coordinates.layout_height</th>\n",
       "      <th>metadata.filetype</th>\n",
       "      <th>metadata.languages</th>\n",
       "      <th>metadata.page_number</th>\n",
       "      <th>metadata.image_path</th>\n",
       "      <th>metadata.detection_class_prob</th>\n",
       "      <th>metadata.text_as_html</th>\n",
       "      <th>metadata.parent_id</th>\n",
       "    </tr>\n",
       "  </thead>\n",
       "  <tbody>\n",
       "    <tr>\n",
       "      <th>0</th>\n",
       "      <td>Image</td>\n",
       "      <td>GADS  Wind...</td>\n",
       "      <td>6cefe70712d1f985da24f15644359efb</td>\n",
       "      <td>[[48.05555555555556, 53.6111111111113], [48.05...</td>\n",
       "      <td>PixelSpace</td>\n",
       "      <td>1700</td>\n",
       "      <td>2200</td>\n",
       "      <td>application/pdf</td>\n",
       "      <td>[eng]</td>\n",
       "      <td>1</td>\n",
       "      <td>/root/figures/figure-1-1.jpg</td>\n",
       "      <td>NaN</td>\n",
       "      <td>NaN</td>\n",
       "      <td>NaN</td>\n",
       "    </tr>\n",
       "    <tr>\n",
       "      <th>1</th>\n",
       "      <td>Title</td>\n",
       "      <td>GADS Wind Turbine Generation Data Reporting In...</td>\n",
       "      <td>5427b6f5e20491efb96a5503dd1b5488</td>\n",
       "      <td>[[150.0, 587.9888888888889], [150.0, 968.27222...</td>\n",
       "      <td>PixelSpace</td>\n",
       "      <td>1700</td>\n",
       "      <td>2200</td>\n",
       "      <td>application/pdf</td>\n",
       "      <td>[eng]</td>\n",
       "      <td>1</td>\n",
       "      <td>NaN</td>\n",
       "      <td>NaN</td>\n",
       "      <td>NaN</td>\n",
       "      <td>NaN</td>\n",
       "    </tr>\n",
       "    <tr>\n",
       "      <th>2</th>\n",
       "      <td>Title</td>\n",
       "      <td>Effective: January 1, 2024</td>\n",
       "      <td>8b22337286abf8536ed2c3daf0adb94b</td>\n",
       "      <td>[[150.0, 1054.6055555555556], [150.0, 1121.272...</td>\n",
       "      <td>PixelSpace</td>\n",
       "      <td>1700</td>\n",
       "      <td>2200</td>\n",
       "      <td>application/pdf</td>\n",
       "      <td>[eng]</td>\n",
       "      <td>1</td>\n",
       "      <td>NaN</td>\n",
       "      <td>NaN</td>\n",
       "      <td>NaN</td>\n",
       "      <td>NaN</td>\n",
       "    </tr>\n",
       "    <tr>\n",
       "      <th>3</th>\n",
       "      <td>Image</td>\n",
       "      <td>RELIABILITY | RESILIENCE | SECURITY</td>\n",
       "      <td>cc5f020eab26832b0efabe91565cd4db</td>\n",
       "      <td>[[806.6666666666666, 1565.2222222222222], [806...</td>\n",
       "      <td>PixelSpace</td>\n",
       "      <td>1700</td>\n",
       "      <td>2200</td>\n",
       "      <td>application/pdf</td>\n",
       "      <td>[eng]</td>\n",
       "      <td>1</td>\n",
       "      <td>/root/figures/figure-1-2.jpg</td>\n",
       "      <td>NaN</td>\n",
       "      <td>NaN</td>\n",
       "      <td>NaN</td>\n",
       "    </tr>\n",
       "    <tr>\n",
       "      <th>4</th>\n",
       "      <td>Image</td>\n",
       "      <td>ee q — s i, y</td>\n",
       "      <td>10b53442f27c9dae8fbb6e904629ed52</td>\n",
       "      <td>[[47.5, 1624.3055555555554], [47.5, 1926.38888...</td>\n",
       "      <td>PixelSpace</td>\n",
       "      <td>1700</td>\n",
       "      <td>2200</td>\n",
       "      <td>application/pdf</td>\n",
       "      <td>[eng]</td>\n",
       "      <td>1</td>\n",
       "      <td>/root/figures/figure-1-3.jpg</td>\n",
       "      <td>NaN</td>\n",
       "      <td>NaN</td>\n",
       "      <td>NaN</td>\n",
       "    </tr>\n",
       "  </tbody>\n",
       "</table>\n",
       "</div>"
      ],
      "text/plain": [
       "    type                                               text  \\\n",
       "0  Image                                      GADS  Wind...   \n",
       "1  Title  GADS Wind Turbine Generation Data Reporting In...   \n",
       "2  Title                         Effective: January 1, 2024   \n",
       "3  Image                RELIABILITY | RESILIENCE | SECURITY   \n",
       "4  Image                                      ee q — s i, y   \n",
       "\n",
       "                         element_id  \\\n",
       "0  6cefe70712d1f985da24f15644359efb   \n",
       "1  5427b6f5e20491efb96a5503dd1b5488   \n",
       "2  8b22337286abf8536ed2c3daf0adb94b   \n",
       "3  cc5f020eab26832b0efabe91565cd4db   \n",
       "4  10b53442f27c9dae8fbb6e904629ed52   \n",
       "\n",
       "                         metadata.coordinates.points  \\\n",
       "0  [[48.05555555555556, 53.6111111111113], [48.05...   \n",
       "1  [[150.0, 587.9888888888889], [150.0, 968.27222...   \n",
       "2  [[150.0, 1054.6055555555556], [150.0, 1121.272...   \n",
       "3  [[806.6666666666666, 1565.2222222222222], [806...   \n",
       "4  [[47.5, 1624.3055555555554], [47.5, 1926.38888...   \n",
       "\n",
       "  metadata.coordinates.system  metadata.coordinates.layout_width  \\\n",
       "0                  PixelSpace                               1700   \n",
       "1                  PixelSpace                               1700   \n",
       "2                  PixelSpace                               1700   \n",
       "3                  PixelSpace                               1700   \n",
       "4                  PixelSpace                               1700   \n",
       "\n",
       "   metadata.coordinates.layout_height metadata.filetype metadata.languages  \\\n",
       "0                                2200   application/pdf              [eng]   \n",
       "1                                2200   application/pdf              [eng]   \n",
       "2                                2200   application/pdf              [eng]   \n",
       "3                                2200   application/pdf              [eng]   \n",
       "4                                2200   application/pdf              [eng]   \n",
       "\n",
       "   metadata.page_number           metadata.image_path  \\\n",
       "0                     1  /root/figures/figure-1-1.jpg   \n",
       "1                     1                           NaN   \n",
       "2                     1                           NaN   \n",
       "3                     1  /root/figures/figure-1-2.jpg   \n",
       "4                     1  /root/figures/figure-1-3.jpg   \n",
       "\n",
       "   metadata.detection_class_prob metadata.text_as_html metadata.parent_id  \n",
       "0                            NaN                   NaN                NaN  \n",
       "1                            NaN                   NaN                NaN  \n",
       "2                            NaN                   NaN                NaN  \n",
       "3                            NaN                   NaN                NaN  \n",
       "4                            NaN                   NaN                NaN  "
      ]
     },
     "execution_count": 3,
     "metadata": {},
     "output_type": "execute_result"
    }
   ],
   "source": [
    "df.head()"
   ]
  },
  {
   "cell_type": "code",
   "execution_count": 4,
   "metadata": {},
   "outputs": [
    {
     "data": {
      "text/plain": [
       "Index(['type', 'text', 'element_id', 'metadata.coordinates.points',\n",
       "       'metadata.coordinates.system', 'metadata.coordinates.layout_width',\n",
       "       'metadata.coordinates.layout_height', 'metadata.filetype',\n",
       "       'metadata.languages', 'metadata.page_number', 'metadata.image_path',\n",
       "       'metadata.detection_class_prob', 'metadata.text_as_html',\n",
       "       'metadata.parent_id'],\n",
       "      dtype='object')"
      ]
     },
     "execution_count": 4,
     "metadata": {},
     "output_type": "execute_result"
    }
   ],
   "source": [
    "df.columns"
   ]
  },
  {
   "cell_type": "code",
   "execution_count": 5,
   "metadata": {},
   "outputs": [
    {
     "data": {
      "text/plain": [
       "0                                          GADS  Wind...\n",
       "1      GADS Wind Turbine Generation Data Reporting In...\n",
       "2                             Effective: January 1, 2024\n",
       "3                    RELIABILITY | RESILIENCE | SECURITY\n",
       "4                                          ee q — s i, y\n",
       "                             ...                        \n",
       "896    Outage delayed by pandemic loss of manpower Wo...\n",
       "897    Outage delayed by pandemic loss of manpower  W...\n",
       "898                                               Time  \n",
       "899                                                 Time\n",
       "900    NERC | GADS Wind Data Reporting Instructions |...\n",
       "Name: text, Length: 901, dtype: object"
      ]
     },
     "execution_count": 5,
     "metadata": {},
     "output_type": "execute_result"
    }
   ],
   "source": [
    "df['text']"
   ]
  },
  {
   "cell_type": "code",
   "execution_count": 6,
   "metadata": {},
   "outputs": [
    {
     "ename": "TypeError",
     "evalue": "argument 'tokens': Can't extract `str` to `Vec`",
     "output_type": "error",
     "traceback": [
      "\u001b[0;31m---------------------------------------------------------------------------\u001b[0m",
      "\u001b[0;31mTypeError\u001b[0m                                 Traceback (most recent call last)",
      "Cell \u001b[0;32mIn[6], line 4\u001b[0m\n\u001b[1;32m      1\u001b[0m \u001b[38;5;28;01mimport\u001b[39;00m \u001b[38;5;21;01mtiktoken\u001b[39;00m\n\u001b[1;32m      2\u001b[0m enc \u001b[38;5;241m=\u001b[39m tiktoken\u001b[38;5;241m.\u001b[39mget_encoding(\u001b[38;5;124m\"\u001b[39m\u001b[38;5;124mo200k_base\u001b[39m\u001b[38;5;124m\"\u001b[39m)\n\u001b[0;32m----> 4\u001b[0m df[\u001b[38;5;124m'\u001b[39m\u001b[38;5;124mtext_encoded\u001b[39m\u001b[38;5;124m'\u001b[39m] \u001b[38;5;241m=\u001b[39m \u001b[43mdf\u001b[49m\u001b[43m[\u001b[49m\u001b[38;5;124;43m'\u001b[39;49m\u001b[38;5;124;43mtext\u001b[39;49m\u001b[38;5;124;43m'\u001b[39;49m\u001b[43m]\u001b[49m\u001b[38;5;241;43m.\u001b[39;49m\u001b[43mapply\u001b[49m\u001b[43m(\u001b[49m\u001b[38;5;28;43;01mlambda\u001b[39;49;00m\u001b[43m \u001b[49m\u001b[43mx\u001b[49m\u001b[43m:\u001b[49m\u001b[43m \u001b[49m\u001b[43menc\u001b[49m\u001b[38;5;241;43m.\u001b[39;49m\u001b[43mdecode\u001b[49m\u001b[43m(\u001b[49m\u001b[43mx\u001b[49m\u001b[43m)\u001b[49m\u001b[43m)\u001b[49m\n",
      "File \u001b[0;32m~/micromamba/envs/pytorch/lib/python3.11/site-packages/pandas/core/series.py:4915\u001b[0m, in \u001b[0;36mSeries.apply\u001b[0;34m(self, func, convert_dtype, args, by_row, **kwargs)\u001b[0m\n\u001b[1;32m   4780\u001b[0m \u001b[38;5;28;01mdef\u001b[39;00m \u001b[38;5;21mapply\u001b[39m(\n\u001b[1;32m   4781\u001b[0m     \u001b[38;5;28mself\u001b[39m,\n\u001b[1;32m   4782\u001b[0m     func: AggFuncType,\n\u001b[0;32m   (...)\u001b[0m\n\u001b[1;32m   4787\u001b[0m     \u001b[38;5;241m*\u001b[39m\u001b[38;5;241m*\u001b[39mkwargs,\n\u001b[1;32m   4788\u001b[0m ) \u001b[38;5;241m-\u001b[39m\u001b[38;5;241m>\u001b[39m DataFrame \u001b[38;5;241m|\u001b[39m Series:\n\u001b[1;32m   4789\u001b[0m \u001b[38;5;250m    \u001b[39m\u001b[38;5;124;03m\"\"\"\u001b[39;00m\n\u001b[1;32m   4790\u001b[0m \u001b[38;5;124;03m    Invoke function on values of Series.\u001b[39;00m\n\u001b[1;32m   4791\u001b[0m \n\u001b[0;32m   (...)\u001b[0m\n\u001b[1;32m   4906\u001b[0m \u001b[38;5;124;03m    dtype: float64\u001b[39;00m\n\u001b[1;32m   4907\u001b[0m \u001b[38;5;124;03m    \"\"\"\u001b[39;00m\n\u001b[1;32m   4908\u001b[0m     \u001b[38;5;28;01mreturn\u001b[39;00m \u001b[43mSeriesApply\u001b[49m\u001b[43m(\u001b[49m\n\u001b[1;32m   4909\u001b[0m \u001b[43m        \u001b[49m\u001b[38;5;28;43mself\u001b[39;49m\u001b[43m,\u001b[49m\n\u001b[1;32m   4910\u001b[0m \u001b[43m        \u001b[49m\u001b[43mfunc\u001b[49m\u001b[43m,\u001b[49m\n\u001b[1;32m   4911\u001b[0m \u001b[43m        \u001b[49m\u001b[43mconvert_dtype\u001b[49m\u001b[38;5;241;43m=\u001b[39;49m\u001b[43mconvert_dtype\u001b[49m\u001b[43m,\u001b[49m\n\u001b[1;32m   4912\u001b[0m \u001b[43m        \u001b[49m\u001b[43mby_row\u001b[49m\u001b[38;5;241;43m=\u001b[39;49m\u001b[43mby_row\u001b[49m\u001b[43m,\u001b[49m\n\u001b[1;32m   4913\u001b[0m \u001b[43m        \u001b[49m\u001b[43margs\u001b[49m\u001b[38;5;241;43m=\u001b[39;49m\u001b[43margs\u001b[49m\u001b[43m,\u001b[49m\n\u001b[1;32m   4914\u001b[0m \u001b[43m        \u001b[49m\u001b[43mkwargs\u001b[49m\u001b[38;5;241;43m=\u001b[39;49m\u001b[43mkwargs\u001b[49m\u001b[43m,\u001b[49m\n\u001b[0;32m-> 4915\u001b[0m \u001b[43m    \u001b[49m\u001b[43m)\u001b[49m\u001b[38;5;241;43m.\u001b[39;49m\u001b[43mapply\u001b[49m\u001b[43m(\u001b[49m\u001b[43m)\u001b[49m\n",
      "File \u001b[0;32m~/micromamba/envs/pytorch/lib/python3.11/site-packages/pandas/core/apply.py:1427\u001b[0m, in \u001b[0;36mSeriesApply.apply\u001b[0;34m(self)\u001b[0m\n\u001b[1;32m   1424\u001b[0m     \u001b[38;5;28;01mreturn\u001b[39;00m \u001b[38;5;28mself\u001b[39m\u001b[38;5;241m.\u001b[39mapply_compat()\n\u001b[1;32m   1426\u001b[0m \u001b[38;5;66;03m# self.func is Callable\u001b[39;00m\n\u001b[0;32m-> 1427\u001b[0m \u001b[38;5;28;01mreturn\u001b[39;00m \u001b[38;5;28;43mself\u001b[39;49m\u001b[38;5;241;43m.\u001b[39;49m\u001b[43mapply_standard\u001b[49m\u001b[43m(\u001b[49m\u001b[43m)\u001b[49m\n",
      "File \u001b[0;32m~/micromamba/envs/pytorch/lib/python3.11/site-packages/pandas/core/apply.py:1507\u001b[0m, in \u001b[0;36mSeriesApply.apply_standard\u001b[0;34m(self)\u001b[0m\n\u001b[1;32m   1501\u001b[0m \u001b[38;5;66;03m# row-wise access\u001b[39;00m\n\u001b[1;32m   1502\u001b[0m \u001b[38;5;66;03m# apply doesn't have a `na_action` keyword and for backward compat reasons\u001b[39;00m\n\u001b[1;32m   1503\u001b[0m \u001b[38;5;66;03m# we need to give `na_action=\"ignore\"` for categorical data.\u001b[39;00m\n\u001b[1;32m   1504\u001b[0m \u001b[38;5;66;03m# TODO: remove the `na_action=\"ignore\"` when that default has been changed in\u001b[39;00m\n\u001b[1;32m   1505\u001b[0m \u001b[38;5;66;03m#  Categorical (GH51645).\u001b[39;00m\n\u001b[1;32m   1506\u001b[0m action \u001b[38;5;241m=\u001b[39m \u001b[38;5;124m\"\u001b[39m\u001b[38;5;124mignore\u001b[39m\u001b[38;5;124m\"\u001b[39m \u001b[38;5;28;01mif\u001b[39;00m \u001b[38;5;28misinstance\u001b[39m(obj\u001b[38;5;241m.\u001b[39mdtype, CategoricalDtype) \u001b[38;5;28;01melse\u001b[39;00m \u001b[38;5;28;01mNone\u001b[39;00m\n\u001b[0;32m-> 1507\u001b[0m mapped \u001b[38;5;241m=\u001b[39m \u001b[43mobj\u001b[49m\u001b[38;5;241;43m.\u001b[39;49m\u001b[43m_map_values\u001b[49m\u001b[43m(\u001b[49m\n\u001b[1;32m   1508\u001b[0m \u001b[43m    \u001b[49m\u001b[43mmapper\u001b[49m\u001b[38;5;241;43m=\u001b[39;49m\u001b[43mcurried\u001b[49m\u001b[43m,\u001b[49m\u001b[43m \u001b[49m\u001b[43mna_action\u001b[49m\u001b[38;5;241;43m=\u001b[39;49m\u001b[43maction\u001b[49m\u001b[43m,\u001b[49m\u001b[43m \u001b[49m\u001b[43mconvert\u001b[49m\u001b[38;5;241;43m=\u001b[39;49m\u001b[38;5;28;43mself\u001b[39;49m\u001b[38;5;241;43m.\u001b[39;49m\u001b[43mconvert_dtype\u001b[49m\n\u001b[1;32m   1509\u001b[0m \u001b[43m\u001b[49m\u001b[43m)\u001b[49m\n\u001b[1;32m   1511\u001b[0m \u001b[38;5;28;01mif\u001b[39;00m \u001b[38;5;28mlen\u001b[39m(mapped) \u001b[38;5;129;01mand\u001b[39;00m \u001b[38;5;28misinstance\u001b[39m(mapped[\u001b[38;5;241m0\u001b[39m], ABCSeries):\n\u001b[1;32m   1512\u001b[0m     \u001b[38;5;66;03m# GH#43986 Need to do list(mapped) in order to get treated as nested\u001b[39;00m\n\u001b[1;32m   1513\u001b[0m     \u001b[38;5;66;03m#  See also GH#25959 regarding EA support\u001b[39;00m\n\u001b[1;32m   1514\u001b[0m     \u001b[38;5;28;01mreturn\u001b[39;00m obj\u001b[38;5;241m.\u001b[39m_constructor_expanddim(\u001b[38;5;28mlist\u001b[39m(mapped), index\u001b[38;5;241m=\u001b[39mobj\u001b[38;5;241m.\u001b[39mindex)\n",
      "File \u001b[0;32m~/micromamba/envs/pytorch/lib/python3.11/site-packages/pandas/core/base.py:921\u001b[0m, in \u001b[0;36mIndexOpsMixin._map_values\u001b[0;34m(self, mapper, na_action, convert)\u001b[0m\n\u001b[1;32m    918\u001b[0m \u001b[38;5;28;01mif\u001b[39;00m \u001b[38;5;28misinstance\u001b[39m(arr, ExtensionArray):\n\u001b[1;32m    919\u001b[0m     \u001b[38;5;28;01mreturn\u001b[39;00m arr\u001b[38;5;241m.\u001b[39mmap(mapper, na_action\u001b[38;5;241m=\u001b[39mna_action)\n\u001b[0;32m--> 921\u001b[0m \u001b[38;5;28;01mreturn\u001b[39;00m \u001b[43malgorithms\u001b[49m\u001b[38;5;241;43m.\u001b[39;49m\u001b[43mmap_array\u001b[49m\u001b[43m(\u001b[49m\u001b[43marr\u001b[49m\u001b[43m,\u001b[49m\u001b[43m \u001b[49m\u001b[43mmapper\u001b[49m\u001b[43m,\u001b[49m\u001b[43m \u001b[49m\u001b[43mna_action\u001b[49m\u001b[38;5;241;43m=\u001b[39;49m\u001b[43mna_action\u001b[49m\u001b[43m,\u001b[49m\u001b[43m \u001b[49m\u001b[43mconvert\u001b[49m\u001b[38;5;241;43m=\u001b[39;49m\u001b[43mconvert\u001b[49m\u001b[43m)\u001b[49m\n",
      "File \u001b[0;32m~/micromamba/envs/pytorch/lib/python3.11/site-packages/pandas/core/algorithms.py:1743\u001b[0m, in \u001b[0;36mmap_array\u001b[0;34m(arr, mapper, na_action, convert)\u001b[0m\n\u001b[1;32m   1741\u001b[0m values \u001b[38;5;241m=\u001b[39m arr\u001b[38;5;241m.\u001b[39mastype(\u001b[38;5;28mobject\u001b[39m, copy\u001b[38;5;241m=\u001b[39m\u001b[38;5;28;01mFalse\u001b[39;00m)\n\u001b[1;32m   1742\u001b[0m \u001b[38;5;28;01mif\u001b[39;00m na_action \u001b[38;5;129;01mis\u001b[39;00m \u001b[38;5;28;01mNone\u001b[39;00m:\n\u001b[0;32m-> 1743\u001b[0m     \u001b[38;5;28;01mreturn\u001b[39;00m \u001b[43mlib\u001b[49m\u001b[38;5;241;43m.\u001b[39;49m\u001b[43mmap_infer\u001b[49m\u001b[43m(\u001b[49m\u001b[43mvalues\u001b[49m\u001b[43m,\u001b[49m\u001b[43m \u001b[49m\u001b[43mmapper\u001b[49m\u001b[43m,\u001b[49m\u001b[43m \u001b[49m\u001b[43mconvert\u001b[49m\u001b[38;5;241;43m=\u001b[39;49m\u001b[43mconvert\u001b[49m\u001b[43m)\u001b[49m\n\u001b[1;32m   1744\u001b[0m \u001b[38;5;28;01melse\u001b[39;00m:\n\u001b[1;32m   1745\u001b[0m     \u001b[38;5;28;01mreturn\u001b[39;00m lib\u001b[38;5;241m.\u001b[39mmap_infer_mask(\n\u001b[1;32m   1746\u001b[0m         values, mapper, mask\u001b[38;5;241m=\u001b[39misna(values)\u001b[38;5;241m.\u001b[39mview(np\u001b[38;5;241m.\u001b[39muint8), convert\u001b[38;5;241m=\u001b[39mconvert\n\u001b[1;32m   1747\u001b[0m     )\n",
      "File \u001b[0;32mlib.pyx:2972\u001b[0m, in \u001b[0;36mpandas._libs.lib.map_infer\u001b[0;34m()\u001b[0m\n",
      "Cell \u001b[0;32mIn[6], line 4\u001b[0m, in \u001b[0;36m<lambda>\u001b[0;34m(x)\u001b[0m\n\u001b[1;32m      1\u001b[0m \u001b[38;5;28;01mimport\u001b[39;00m \u001b[38;5;21;01mtiktoken\u001b[39;00m\n\u001b[1;32m      2\u001b[0m enc \u001b[38;5;241m=\u001b[39m tiktoken\u001b[38;5;241m.\u001b[39mget_encoding(\u001b[38;5;124m\"\u001b[39m\u001b[38;5;124mo200k_base\u001b[39m\u001b[38;5;124m\"\u001b[39m)\n\u001b[0;32m----> 4\u001b[0m df[\u001b[38;5;124m'\u001b[39m\u001b[38;5;124mtext_encoded\u001b[39m\u001b[38;5;124m'\u001b[39m] \u001b[38;5;241m=\u001b[39m df[\u001b[38;5;124m'\u001b[39m\u001b[38;5;124mtext\u001b[39m\u001b[38;5;124m'\u001b[39m]\u001b[38;5;241m.\u001b[39mapply(\u001b[38;5;28;01mlambda\u001b[39;00m x: \u001b[43menc\u001b[49m\u001b[38;5;241;43m.\u001b[39;49m\u001b[43mdecode\u001b[49m\u001b[43m(\u001b[49m\u001b[43mx\u001b[49m\u001b[43m)\u001b[49m)\n",
      "File \u001b[0;32m~/micromamba/envs/pytorch/lib/python3.11/site-packages/tiktoken/core.py:258\u001b[0m, in \u001b[0;36mEncoding.decode\u001b[0;34m(self, tokens, errors)\u001b[0m\n\u001b[1;32m    246\u001b[0m \u001b[38;5;28;01mdef\u001b[39;00m \u001b[38;5;21mdecode\u001b[39m(\u001b[38;5;28mself\u001b[39m, tokens: \u001b[38;5;28mlist\u001b[39m[\u001b[38;5;28mint\u001b[39m], errors: \u001b[38;5;28mstr\u001b[39m \u001b[38;5;241m=\u001b[39m \u001b[38;5;124m\"\u001b[39m\u001b[38;5;124mreplace\u001b[39m\u001b[38;5;124m\"\u001b[39m) \u001b[38;5;241m-\u001b[39m\u001b[38;5;241m>\u001b[39m \u001b[38;5;28mstr\u001b[39m:\n\u001b[1;32m    247\u001b[0m \u001b[38;5;250m    \u001b[39m\u001b[38;5;124;03m\"\"\"Decodes a list of tokens into a string.\u001b[39;00m\n\u001b[1;32m    248\u001b[0m \n\u001b[1;32m    249\u001b[0m \u001b[38;5;124;03m    WARNING: the default behaviour of this function is lossy, since decoded bytes are not\u001b[39;00m\n\u001b[0;32m   (...)\u001b[0m\n\u001b[1;32m    256\u001b[0m \u001b[38;5;124;03m    ```\u001b[39;00m\n\u001b[1;32m    257\u001b[0m \u001b[38;5;124;03m    \"\"\"\u001b[39;00m\n\u001b[0;32m--> 258\u001b[0m     \u001b[38;5;28;01mreturn\u001b[39;00m \u001b[38;5;28;43mself\u001b[39;49m\u001b[38;5;241;43m.\u001b[39;49m\u001b[43m_core_bpe\u001b[49m\u001b[38;5;241;43m.\u001b[39;49m\u001b[43mdecode_bytes\u001b[49m\u001b[43m(\u001b[49m\u001b[43mtokens\u001b[49m\u001b[43m)\u001b[49m\u001b[38;5;241m.\u001b[39mdecode(\u001b[38;5;124m\"\u001b[39m\u001b[38;5;124mutf-8\u001b[39m\u001b[38;5;124m\"\u001b[39m, errors\u001b[38;5;241m=\u001b[39merrors)\n",
      "\u001b[0;31mTypeError\u001b[0m: argument 'tokens': Can't extract `str` to `Vec`"
     ]
    }
   ],
   "source": [
    "import tiktoken\n",
    "enc = tiktoken.get_encoding(\"o200k_base\")\n",
    "\n",
    "df['text_encoded'] = df['text'].apply(lambda x: enc.decode(x,disallowed_special=()))"
   ]
  },
  {
   "cell_type": "code",
   "execution_count": null,
   "metadata": {},
   "outputs": [],
   "source": []
  }
 ],
 "metadata": {
  "kernelspec": {
   "display_name": "Python 3",
   "language": "python",
   "name": "python3"
  },
  "language_info": {
   "codemirror_mode": {
    "name": "ipython",
    "version": 3
   },
   "file_extension": ".py",
   "mimetype": "text/x-python",
   "name": "python",
   "nbconvert_exporter": "python",
   "pygments_lexer": "ipython3",
   "version": "3.11.8"
  }
 },
 "nbformat": 4,
 "nbformat_minor": 2
}
