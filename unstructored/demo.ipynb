{
 "cells": [
  {
   "cell_type": "code",
   "execution_count": 2,
   "metadata": {},
   "outputs": [
    {
     "name": "stderr",
     "output_type": "stream",
     "text": [
      "/Users/jshah/micromamba/envs/pytorch/lib/python3.11/site-packages/tqdm/auto.py:21: TqdmWarning: IProgress not found. Please update jupyter and ipywidgets. See https://ipywidgets.readthedocs.io/en/stable/user_install.html\n",
      "  from .autonotebook import tqdm as notebook_tqdm\n"
     ]
    }
   ],
   "source": [
    "from unstructured.partition.pdf import partition_pdf"
   ]
  },
  {
   "cell_type": "code",
   "execution_count": 4,
   "metadata": {},
   "outputs": [
    {
     "name": "stderr",
     "output_type": "stream",
     "text": [
      "Some weights of the model checkpoint at microsoft/table-transformer-structure-recognition were not used when initializing TableTransformerForObjectDetection: ['model.backbone.conv_encoder.model.layer2.0.downsample.1.num_batches_tracked', 'model.backbone.conv_encoder.model.layer3.0.downsample.1.num_batches_tracked', 'model.backbone.conv_encoder.model.layer4.0.downsample.1.num_batches_tracked']\n",
      "- This IS expected if you are initializing TableTransformerForObjectDetection from the checkpoint of a model trained on another task or with another architecture (e.g. initializing a BertForSequenceClassification model from a BertForPreTraining model).\n",
      "- This IS NOT expected if you are initializing TableTransformerForObjectDetection from the checkpoint of a model that you expect to be exactly identical (initializing a BertForSequenceClassification model from a BertForSequenceClassification model).\n"
     ]
    }
   ],
   "source": [
    "# pdf https://www.nerc.com/pa/RAPA/PA/Section1600DataRequestsDL/2024_GADS_Wind_DRI.pdf\n",
    "\n",
    "pdf_path = \"2024_GADS_Wind_DRI.pdf\"\n",
    "elements = partition_pdf(pdf_path, \n",
    "                strategy=\"hi_res\",\n",
    "                infer_table_structure=True,\n",
    "                extract_images_in_pdf=True,\n",
    "                max_partition=None)"
   ]
  },
  {
   "cell_type": "code",
   "execution_count": 5,
   "metadata": {},
   "outputs": [
    {
     "data": {
      "text/plain": [
       "903"
      ]
     },
     "execution_count": 5,
     "metadata": {},
     "output_type": "execute_result"
    }
   ],
   "source": [
    "len(elements)"
   ]
  },
  {
   "cell_type": "code",
   "execution_count": 6,
   "metadata": {},
   "outputs": [
    {
     "data": {
      "text/html": [
       "<div>\n",
       "<style scoped>\n",
       "    .dataframe tbody tr th:only-of-type {\n",
       "        vertical-align: middle;\n",
       "    }\n",
       "\n",
       "    .dataframe tbody tr th {\n",
       "        vertical-align: top;\n",
       "    }\n",
       "\n",
       "    .dataframe thead th {\n",
       "        text-align: right;\n",
       "    }\n",
       "</style>\n",
       "<table border=\"1\" class=\"dataframe\">\n",
       "  <thead>\n",
       "    <tr style=\"text-align: right;\">\n",
       "      <th></th>\n",
       "      <th>type</th>\n",
       "      <th>element_id</th>\n",
       "      <th>text</th>\n",
       "      <th>metadata</th>\n",
       "    </tr>\n",
       "  </thead>\n",
       "  <tbody>\n",
       "    <tr>\n",
       "      <th>0</th>\n",
       "      <td>Image</td>\n",
       "      <td>389c6ad1643f9f82c5c623f784f06f46</td>\n",
       "      <td>GADS  Wind...</td>\n",
       "      <td>{'coordinates': {'points': ((48.05555555555556...</td>\n",
       "    </tr>\n",
       "    <tr>\n",
       "      <th>1</th>\n",
       "      <td>Title</td>\n",
       "      <td>bdbfccd772321c20f8d1ac72b2f09c15</td>\n",
       "      <td>GADS Wind Turbine Generation Data Reporting In...</td>\n",
       "      <td>{'coordinates': {'points': ((150.0, 587.988888...</td>\n",
       "    </tr>\n",
       "    <tr>\n",
       "      <th>2</th>\n",
       "      <td>Title</td>\n",
       "      <td>18de5682df61164c41ade86197ea52c8</td>\n",
       "      <td>Effective: January 1, 2024</td>\n",
       "      <td>{'coordinates': {'points': ((150.0, 1054.60555...</td>\n",
       "    </tr>\n",
       "    <tr>\n",
       "      <th>3</th>\n",
       "      <td>Image</td>\n",
       "      <td>1d4789feb7bd6d90a4655dcf196facd4</td>\n",
       "      <td>RELIABILITY | RESILIENCE | SECURITY</td>\n",
       "      <td>{'coordinates': {'points': ((806.6666666666666...</td>\n",
       "    </tr>\n",
       "    <tr>\n",
       "      <th>4</th>\n",
       "      <td>Image</td>\n",
       "      <td>5f3ee18bb03cd212a1527e27eb064181</td>\n",
       "      <td>— ' — . i, y \\</td>\n",
       "      <td>{'coordinates': {'points': ((47.5, 1624.305555...</td>\n",
       "    </tr>\n",
       "  </tbody>\n",
       "</table>\n",
       "</div>"
      ],
      "text/plain": [
       "    type                        element_id  \\\n",
       "0  Image  389c6ad1643f9f82c5c623f784f06f46   \n",
       "1  Title  bdbfccd772321c20f8d1ac72b2f09c15   \n",
       "2  Title  18de5682df61164c41ade86197ea52c8   \n",
       "3  Image  1d4789feb7bd6d90a4655dcf196facd4   \n",
       "4  Image  5f3ee18bb03cd212a1527e27eb064181   \n",
       "\n",
       "                                                text  \\\n",
       "0                                      GADS  Wind...   \n",
       "1  GADS Wind Turbine Generation Data Reporting In...   \n",
       "2                         Effective: January 1, 2024   \n",
       "3                RELIABILITY | RESILIENCE | SECURITY   \n",
       "4                                     — ' — . i, y \\   \n",
       "\n",
       "                                            metadata  \n",
       "0  {'coordinates': {'points': ((48.05555555555556...  \n",
       "1  {'coordinates': {'points': ((150.0, 587.988888...  \n",
       "2  {'coordinates': {'points': ((150.0, 1054.60555...  \n",
       "3  {'coordinates': {'points': ((806.6666666666666...  \n",
       "4  {'coordinates': {'points': ((47.5, 1624.305555...  "
      ]
     },
     "execution_count": 6,
     "metadata": {},
     "output_type": "execute_result"
    }
   ],
   "source": [
    "import json\n",
    "import pandas as pd\n",
    "\n",
    "elements_dict = [e.to_dict() for e in elements]\n",
    "df = pd.DataFrame(elements_dict)\n",
    "df.head()"
   ]
  },
  {
   "cell_type": "code",
   "execution_count": 8,
   "metadata": {},
   "outputs": [
    {
     "data": {
      "text/plain": [
       "type\n",
       "NarrativeText        270\n",
       "ListItem             202\n",
       "Title                191\n",
       "Table                 61\n",
       "UncategorizedText     60\n",
       "Header                55\n",
       "Formula               34\n",
       "Image                 22\n",
       "FigureCaption          8\n",
       "Name: count, dtype: int64"
      ]
     },
     "execution_count": 8,
     "metadata": {},
     "output_type": "execute_result"
    }
   ],
   "source": [
    "df['type'].value_counts()"
   ]
  },
  {
   "cell_type": "code",
   "execution_count": 9,
   "metadata": {},
   "outputs": [
    {
     "data": {
      "text/plain": [
       "{'detection_class_prob': 0.9014275074005127,\n",
       " 'coordinates': {'points': ((147.2567901611328, 208.85279846191406),\n",
       "   (147.2567901611328, 1696.571044921875),\n",
       "   (1564.552490234375, 1696.571044921875),\n",
       "   (1564.552490234375, 208.85279846191406)),\n",
       "  'system': 'PixelSpace',\n",
       "  'layout_width': 1700,\n",
       "  'layout_height': 2200},\n",
       " 'last_modified': '2024-08-28T21:02:27',\n",
       " 'text_as_html': '<table><tbody><tr><td colspan=\"2\">EVISION HiStOLY...... ce ceceseseceseeseeseesseeeeesecsecseeesecsesseseaeeseecaecsecesecsasseeesseaeessecsecsuecseceseeecadsesesseseseaesaeeeaeseesesesseaseeeeaeesgee iv</td></tr><tr><td colspan=\"2\">FOFACE oo. eececeeecesceceseescsecseeaeseeseacsecsecsseacsecseacsecsesaesacsesaesasseeaseassesaesaesaeseeaeseseesaesassecaeaeseeseeaeeeseesaeeessesaeeaseeeaeeaeeeeaeeatee \\\\</td></tr><tr><td colspan=\"2\">‘troduction ....</td></tr><tr><td>WhO MUSt REPOFt.....cccccscesecsscsscesccsecssecsecseceseesesessesecesesecseceseseceesesecsecessesecseseseceesesseaeeesseseceeseeeseeseseaeseeseseseesesesaeeees</td><td>vi</td></tr><tr><td colspan=\"2\">hapter 1: Date Record Types and Forimat.........cccecsscescssesseseeeesseeeeecseesceecseeaeseeseeaeeecsesaeaeseeseeaeseseesaeeessesaeeasesaeeeseeeaeeaees 1</td></tr><tr><td colspan=\"2\">Data RECOrd Type@s.......eessssscessscsscesceeseeseseesesecsecseesesecseaesessesaeacsecaesacsecseaeseeseeecsecsesaesaesaeseeaesesaesaseessesseeasesseeeseesaeeaeee 1</td></tr><tr><td colspan=\"2\">FOrMat ....c cee ccccceesecsescsecessceessessceecsecscsecsessesecsessessceecsecsssecssseassssessesessessusesseseessasessessasessessseeeseseeseaseseessssessueausessesensanes 1</td></tr><tr><td>hapter 2 : Plants, Groups, and Sub-Groups and Energy Storage</td><td>........:cssesseccesseeeeceeeseeseeceseeeeeecseseeeecsesseeesesaeeaeeeeeeeaeee 3</td></tr><tr><td colspan=\"2\">hapter 3 : Configuration Data....</td></tr><tr><td>When to Report Configuration</td><td>Data.........cececessssesecseeseeecseeseesesesseeecsesseeecsecseeasessesaesessessecaeseeaeeaseesaesaeeaesesaeeaseeaeees 5</td></tr><tr><td>Plant Configuration Data..........cssessesseccssssseseeecseeseeecseeseeesessesecsecsecaeseeseeaeecsesaesecsesseeaeseeseeaeeesaesaeeessesaeeaeeeeaeeeseesaeeaees</td><td>5</td></tr><tr><td>Subgroup Configuration Data.........cccescscseesseecesssesseeecseescecseeseeeseseesaesesseaeseeseeaesessesaesessesseaesesaeeasseseeseeeessesaeeaseeeneeees</td><td>7</td></tr><tr><td>Energy Storage Configuration Data</td><td>.........cccecsscesceccseeseesesseseesesecseescsecseeaeseesesaeecsesseaeseeseeasseseesessessesaeeassesseeeseesaeeatees 10</td></tr><tr><td>hapter 4 : Performance Reporting</td><td>..........sesessesseceeeseeseeeceeseeecseeseeeesecsessesecseeaeacseseeeacsecseaeeaeseeaseesseseeeaseesseeaseesseeeseetes 12</td></tr><tr><td>When to Report Performance Data....</td><td></td></tr><tr><td colspan=\"2\">Subgroup Performance ReCOI.........ssccsccssesessesseseeeeseesceecseesesceseeaesecsecsesaeseeseeaseesneseeeesesaesaeseeaeeaseesaeeaseesaeeaseeeaeeateeees 12</td></tr><tr><td>Energy Storage Group Performance</td><td>RECOIG........:csccsessesessesseseeeeseeseeeesceseeeeseceeeecsecsesaeseeseeaseeseeeeesecsesaesaeseeaeeesesaetatees 14</td></tr><tr><td>hapter 5 : Event REPOrting..........ceceeccscessecesseseeeeeeeseeseeecsecaeeacseeseeecsecsesaesaeseeaeecseseesessecsecaeceseeaseecseseeeesesaeeaseesaeeeseeees</td><td>16</td></tr><tr><td>When to Report Event Data... eccccsceseeseeecseesceeeseeseeecsecseseesecaeeecsecseaeseeseeaseeseeseesessesaesaeseeaseassesaeeasesaeeaseeeaeeateeees</td><td>16</td></tr><tr><td colspan=\"2\">Event Criteria... cece csecccscsecsesscsecsesecsessseessecsesecsecsessesessusscsessesscsecsecessecseseasecsessesessecessessessessscessessesessecssseseeseasenees 16</td></tr><tr><td colspan=\"2\">Plant Event RECOrd....... ccc cece ce ceseceeesecnececessceceeesscseeeeeseesececeseeseseeeseeseseeessesseeceseesseesessesseesessesseesessseaeesenaaeaeeses 16</td></tr><tr><td colspan=\"2\">Event Cause Codes....</td></tr><tr><td colspan=\"2\">Contributing Operating CONMdition 0.0... cee eseeesseeeeeseeseeeceeseeceseeaeeecsecseeecsecseeaseesaesaesecsesseaeseeaseassessesaseessetaeeesaeeaseeees 17</td></tr><tr><td colspan=\"2\">Potential Production MWH LOSS... cece seseeeeeseesecscesseseceeesseseeseesseeeesessesseesesseeeesessesseesesseeeesesseeeeseneeeaeeses 21</td></tr><tr><td>ppendix A : GADS Wind Reporting Application Data Release Guidelines.</td><td>.........eceeceesessseceteeseeeceeeeeeeeetseeaseeeseeneeeeee 23</td></tr><tr><td>ppendix B : Entity and Subgroup Identification 0... ee</td><td>eeseeeeseseecceeeseeseeeeseeseeeceeseeeecsecseaeseeseeasecsesaeeessesseeaseeeaeeaseeeee 24</td></tr></tbody></table>',\n",
       " 'filetype': 'application/pdf',\n",
       " 'languages': ['eng'],\n",
       " 'page_number': 2,\n",
       " 'parent_id': '6d3e432b19c08c47ac20631160cac9be',\n",
       " 'filename': '2024_GADS_Wind_DRI.pdf'}"
      ]
     },
     "execution_count": 9,
     "metadata": {},
     "output_type": "execute_result"
    }
   ],
   "source": [
    "df[df['type'] == 'Table']['metadata'].iloc[0]"
   ]
  },
  {
   "cell_type": "code",
   "execution_count": 10,
   "metadata": {},
   "outputs": [],
   "source": [
    "# Convert a single extracted element of type 'Table' to a Markdown table format using 'text_as_html'\n",
    "def convert_single_table_element_to_markdown(element):\n",
    "    # Check if the element has 'text_as_html' in its metadata\n",
    "    if 'text_as_html' not in element:\n",
    "        raise ValueError(\"Provided element does not contain 'text_as_html'.\")\n",
    "\n",
    "    # Extract the HTML table from the element\n",
    "    html_table = element['text_as_html']\n",
    "\n",
    "    # Use BeautifulSoup to parse the HTML and convert it to Markdown\n",
    "    from bs4 import BeautifulSoup\n",
    "\n",
    "    # Parse the HTML\n",
    "    soup = BeautifulSoup(html_table, 'html.parser')\n",
    "    markdown_table = \"\"\n",
    "\n",
    "    # Extract table headers\n",
    "    headers = [th.get_text() for th in soup.find_all('th')]\n",
    "    if headers:\n",
    "        markdown_table += \"| \" + \" | \".join(headers) + \" |\\n\"\n",
    "        markdown_table += \"| \" + \" | \".join(['---'] * len(headers)) + \" |\\n\"\n",
    "\n",
    "    # Extract table rows\n",
    "    for row in soup.find_all('tr'):\n",
    "        cells = row.find_all(['td', 'th'])\n",
    "        if cells:\n",
    "            markdown_table += \"| \" + \" | \".join(cell.get_text() for cell in cells) + \" |\\n\"\n",
    "\n",
    "    return markdown_table\n",
    "\n",
    "# Example usage with a single table element\n",
    "# markdown_output = convert_single_table_element_to_markdown(single_table_element)\n",
    "# print(markdown_output)\n",
    "\n",
    "\n",
    "\n"
   ]
  },
  {
   "cell_type": "code",
   "execution_count": 11,
   "metadata": {},
   "outputs": [
    {
     "data": {
      "text/plain": [
       "'| EVISION HiStOLY...... ce ceceseseceseeseeseesseeeeesecsecseeesecsesseseaeeseecaecsecesecsasseeesseaeessecsecsuecseceseeecadsesesseseseaesaeeeaeseesesesseaseeeeaeesgee iv |\\n| FOFACE oo. eececeeecesceceseescsecseeaeseeseacsecsecsseacsecseacsecsesaesacsesaesasseeaseassesaesaesaeseeaeseseesaesassecaeaeseeseeaeeeseesaeeessesaeeaseeeaeeaeeeeaeeatee \\\\ |\\n| ‘troduction .... |\\n| WhO MUSt REPOFt.....cccccscesecsscsscesccsecssecsecseceseesesessesecesesecseceseseceesesecsecessesecseseseceesesseaeeesseseceeseeeseeseseaeseeseseseesesesaeeees | vi |\\n| hapter 1: Date Record Types and Forimat.........cccecsscescssesseseeeesseeeeecseesceecseeaeseeseeaeeecsesaeaeseeseeaeseseesaeeessesaeeasesaeeeseeeaeeaees 1 |\\n| Data RECOrd Type@s.......eessssscessscsscesceeseeseseesesecsecseesesecseaesessesaeacsecaesacsecseaeseeseeecsecsesaesaesaeseeaesesaesaseessesseeasesseeeseesaeeaeee 1 |\\n| FOrMat ....c cee ccccceesecsescsecessceessessceecsecscsecsessesecsessessceecsecsssecssseassssessesessessusesseseessasessessasessessseeeseseeseaseseessssessueausessesensanes 1 |\\n| hapter 2 : Plants, Groups, and Sub-Groups and Energy Storage | ........:cssesseccesseeeeceeeseeseeceseeeeeecseseeeecsesseeesesaeeaeeeeeeeaeee 3 |\\n| hapter 3 : Configuration Data.... |\\n| When to Report Configuration | Data.........cececessssesecseeseeecseeseesesesseeecsesseeecsecseeasessesaesessessecaeseeaeeaseesaesaeeaesesaeeaseeaeees 5 |\\n| Plant Configuration Data..........cssessesseccssssseseeecseeseeecseeseeesessesecsecsecaeseeseeaeecsesaesecsesseeaeseeseeaeeesaesaeeessesaeeaeeeeaeeeseesaeeaees | 5 |\\n| Subgroup Configuration Data.........cccescscseesseecesssesseeecseescecseeseeeseseesaesesseaeseeseeaesessesaesessesseaesesaeeasseseeseeeessesaeeaseeeneeees | 7 |\\n| Energy Storage Configuration Data | .........cccecsscesceccseeseesesseseesesecseescsecseeaeseesesaeecsesseaeseeseeasseseesessessesaeeassesseeeseesaeeatees 10 |\\n| hapter 4 : Performance Reporting | ..........sesessesseceeeseeseeeceeseeecseeseeeesecsessesecseeaeacseseeeacsecseaeeaeseeaseesseseeeaseesseeaseesseeeseetes 12 |\\n| When to Report Performance Data.... |  |\\n| Subgroup Performance ReCOI.........ssccsccssesessesseseeeeseesceecseesesceseeaesecsecsesaeseeseeaseesneseeeesesaesaeseeaeeaseesaeeaseesaeeaseeeaeeateeees 12 |\\n| Energy Storage Group Performance | RECOIG........:csccsessesessesseseeeeseeseeeesceseeeeseceeeecsecsesaeseeseeaseeseeeeesecsesaesaeseeaeeesesaetatees 14 |\\n| hapter 5 : Event REPOrting..........ceceeccscessecesseseeeeeeeseeseeecsecaeeacseeseeecsecsesaesaeseeaeecseseesessecsecaeceseeaseecseseeeesesaeeaseesaeeeseeees | 16 |\\n| When to Report Event Data... eccccsceseeseeecseesceeeseeseeecsecseseesecaeeecsecseaeseeseeaseeseeseesessesaesaeseeaseassesaeeasesaeeaseeeaeeateeees | 16 |\\n| Event Criteria... cece csecccscsecsesscsecsesecsessseessecsesecsecsessesessusscsessesscsecsecessecseseasecsessesessecessessessessscessessesessecssseseeseasenees 16 |\\n| Plant Event RECOrd....... ccc cece ce ceseceeesecnececessceceeesscseeeeeseesececeseeseseeeseeseseeessesseeceseesseesessesseesessesseesessseaeesenaaeaeeses 16 |\\n| Event Cause Codes.... |\\n| Contributing Operating CONMdition 0.0... cee eseeesseeeeeseeseeeceeseeceseeaeeecsecseeecsecseeaseesaesaesecsesseaeseeaseassessesaseessetaeeesaeeaseeees 17 |\\n| Potential Production MWH LOSS... cece seseeeeeseesecscesseseceeesseseeseesseeeesessesseesesseeeesessesseesesseeeesesseeeeseneeeaeeses 21 |\\n| ppendix A : GADS Wind Reporting Application Data Release Guidelines. | .........eceeceesessseceteeseeeceeeeeeeeetseeaseeeseeneeeeee 23 |\\n| ppendix B : Entity and Subgroup Identification 0... ee | eeseeeeseseecceeeseeseeeeseeseeeceeseeeecsecseaeseeseeasecsesaeeessesseeaseeeaeeaseeeee 24 |\\n'"
      ]
     },
     "execution_count": 11,
     "metadata": {},
     "output_type": "execute_result"
    }
   ],
   "source": [
    "convert_single_table_element_to_markdown(df[df['type'] == 'Table']['metadata'].iloc[0])"
   ]
  },
  {
   "cell_type": "code",
   "execution_count": null,
   "metadata": {},
   "outputs": [],
   "source": [
    "# Function to convert a DataFrame of tables to Markdown format\n",
    "def convert_dataframe_to_markdown(df):\n",
    "    markdown_output = \"\"\n",
    "    for index, row in df.iterrows():\n",
    "        if row['type'] == 'Table':\n",
    "            markdown_output += convert_single_table_element_to_markdown(row['metadata']) + \"\\n\\n\" + str(row['metadata']['page_number']) +\"\\n\\n\"\n",
    "            \n",
    "    return markdown_output\n",
    "\n",
    "# Example usage with the DataFrame containing multiple elements\n",
    "markdown_tables = convert_dataframe_to_markdown(df)\n",
    "print(markdown_tables)\n"
   ]
  },
  {
   "cell_type": "code",
   "execution_count": 5,
   "metadata": {},
   "outputs": [],
   "source": [
    "import requests\n",
    "\n",
    "# Replace with your actual Modal Labs FastAPI endpoint URL\n",
    "url = \"https://jayshah5696--modalpdfprocessor-fastapi-app-dev.modal.run/process-pdf/\"\n",
    "\n",
    "# Path to the PDF file on your local machine\n",
    "pdf_file_path = \"2024_GADS_Wind_DRI.pdf\"\n",
    "\n",
    "# Open the PDF file in binary mode\n",
    "def upload_pdf(endpoint_url, file_path):\n",
    "    \"\"\"Uploads a PDF file to the specified endpoint URL.\"\"\"\n",
    "    files = {'file': open(file_path, 'rb')}\n",
    "    response = requests.post(endpoint_url, files=files,verify=False)\n",
    "    if response.status_code == 200:\n",
    "        print(\"PDF uploaded successfully!\")\n",
    "        return response.json()\n",
    "    else:\n",
    "        print(f\"Error uploading PDF: {response.status_code}\")\n",
    "        print(response.text)\n",
    "        return None\n",
    "\n"
   ]
  },
  {
   "cell_type": "code",
   "execution_count": 6,
   "metadata": {},
   "outputs": [
    {
     "name": "stderr",
     "output_type": "stream",
     "text": [
      "/Users/jshah/micromamba/envs/pytorch/lib/python3.11/site-packages/urllib3/connectionpool.py:1103: InsecureRequestWarning: Unverified HTTPS request is being made to host 'jayshah5696--modalpdfprocessor-fastapi-app-dev.modal.run'. Adding certificate verification is strongly advised. See: https://urllib3.readthedocs.io/en/latest/advanced-usage.html#tls-warnings\n",
      "  warnings.warn(\n",
      "/Users/jshah/micromamba/envs/pytorch/lib/python3.11/site-packages/urllib3/connectionpool.py:1103: InsecureRequestWarning: Unverified HTTPS request is being made to host 'jayshah5696--modalpdfprocessor-fastapi-app-dev.modal.run'. Adding certificate verification is strongly advised. See: https://urllib3.readthedocs.io/en/latest/advanced-usage.html#tls-warnings\n",
      "  warnings.warn(\n",
      "/Users/jshah/micromamba/envs/pytorch/lib/python3.11/site-packages/urllib3/connectionpool.py:1103: InsecureRequestWarning: Unverified HTTPS request is being made to host 'jayshah5696--modalpdfprocessor-fastapi-app-dev.modal.run'. Adding certificate verification is strongly advised. See: https://urllib3.readthedocs.io/en/latest/advanced-usage.html#tls-warnings\n",
      "  warnings.warn(\n"
     ]
    },
    {
     "name": "stdout",
     "output_type": "stream",
     "text": [
      "PDF uploaded successfully!\n"
     ]
    }
   ],
   "source": [
    "response = upload_pdf(url, pdf_file_path)"
   ]
  },
  {
   "cell_type": "code",
   "execution_count": 11,
   "metadata": {},
   "outputs": [],
   "source": [
    "import json\n",
    "# save this as json\n",
    "with open('response.json', 'w') as f:\n",
    "    json.dump(response, f)"
   ]
  },
  {
   "cell_type": "code",
   "execution_count": 1,
   "metadata": {},
   "outputs": [],
   "source": [
    "import json\n",
    "import pandas as pd\n",
    "response = json.load(open('response.json'))"
   ]
  },
  {
   "cell_type": "code",
   "execution_count": 2,
   "metadata": {},
   "outputs": [],
   "source": [
    "from pandas import json_normalize\n",
    "\n",
    "df = json_normalize(response)"
   ]
  },
  {
   "cell_type": "code",
   "execution_count": 3,
   "metadata": {},
   "outputs": [
    {
     "data": {
      "text/html": [
       "<div>\n",
       "<style scoped>\n",
       "    .dataframe tbody tr th:only-of-type {\n",
       "        vertical-align: middle;\n",
       "    }\n",
       "\n",
       "    .dataframe tbody tr th {\n",
       "        vertical-align: top;\n",
       "    }\n",
       "\n",
       "    .dataframe thead th {\n",
       "        text-align: right;\n",
       "    }\n",
       "</style>\n",
       "<table border=\"1\" class=\"dataframe\">\n",
       "  <thead>\n",
       "    <tr style=\"text-align: right;\">\n",
       "      <th></th>\n",
       "      <th>type</th>\n",
       "      <th>text</th>\n",
       "      <th>element_id</th>\n",
       "      <th>metadata.coordinates.points</th>\n",
       "      <th>metadata.coordinates.system</th>\n",
       "      <th>metadata.coordinates.layout_width</th>\n",
       "      <th>metadata.coordinates.layout_height</th>\n",
       "      <th>metadata.filetype</th>\n",
       "      <th>metadata.languages</th>\n",
       "      <th>metadata.page_number</th>\n",
       "      <th>metadata.image_path</th>\n",
       "      <th>metadata.detection_class_prob</th>\n",
       "      <th>metadata.text_as_html</th>\n",
       "      <th>metadata.parent_id</th>\n",
       "    </tr>\n",
       "  </thead>\n",
       "  <tbody>\n",
       "    <tr>\n",
       "      <th>0</th>\n",
       "      <td>Image</td>\n",
       "      <td>GADS  Wind...</td>\n",
       "      <td>6cefe70712d1f985da24f15644359efb</td>\n",
       "      <td>[[48.05555555555556, 53.6111111111113], [48.05...</td>\n",
       "      <td>PixelSpace</td>\n",
       "      <td>1700</td>\n",
       "      <td>2200</td>\n",
       "      <td>application/pdf</td>\n",
       "      <td>[eng]</td>\n",
       "      <td>1</td>\n",
       "      <td>/root/figures/figure-1-1.jpg</td>\n",
       "      <td>NaN</td>\n",
       "      <td>NaN</td>\n",
       "      <td>NaN</td>\n",
       "    </tr>\n",
       "    <tr>\n",
       "      <th>1</th>\n",
       "      <td>Title</td>\n",
       "      <td>GADS Wind Turbine Generation Data Reporting In...</td>\n",
       "      <td>5427b6f5e20491efb96a5503dd1b5488</td>\n",
       "      <td>[[150.0, 587.9888888888889], [150.0, 968.27222...</td>\n",
       "      <td>PixelSpace</td>\n",
       "      <td>1700</td>\n",
       "      <td>2200</td>\n",
       "      <td>application/pdf</td>\n",
       "      <td>[eng]</td>\n",
       "      <td>1</td>\n",
       "      <td>NaN</td>\n",
       "      <td>NaN</td>\n",
       "      <td>NaN</td>\n",
       "      <td>NaN</td>\n",
       "    </tr>\n",
       "    <tr>\n",
       "      <th>2</th>\n",
       "      <td>Title</td>\n",
       "      <td>Effective: January 1, 2024</td>\n",
       "      <td>8b22337286abf8536ed2c3daf0adb94b</td>\n",
       "      <td>[[150.0, 1054.6055555555556], [150.0, 1121.272...</td>\n",
       "      <td>PixelSpace</td>\n",
       "      <td>1700</td>\n",
       "      <td>2200</td>\n",
       "      <td>application/pdf</td>\n",
       "      <td>[eng]</td>\n",
       "      <td>1</td>\n",
       "      <td>NaN</td>\n",
       "      <td>NaN</td>\n",
       "      <td>NaN</td>\n",
       "      <td>NaN</td>\n",
       "    </tr>\n",
       "    <tr>\n",
       "      <th>3</th>\n",
       "      <td>Image</td>\n",
       "      <td>RELIABILITY | RESILIENCE | SECURITY</td>\n",
       "      <td>cc5f020eab26832b0efabe91565cd4db</td>\n",
       "      <td>[[806.6666666666666, 1565.2222222222222], [806...</td>\n",
       "      <td>PixelSpace</td>\n",
       "      <td>1700</td>\n",
       "      <td>2200</td>\n",
       "      <td>application/pdf</td>\n",
       "      <td>[eng]</td>\n",
       "      <td>1</td>\n",
       "      <td>/root/figures/figure-1-2.jpg</td>\n",
       "      <td>NaN</td>\n",
       "      <td>NaN</td>\n",
       "      <td>NaN</td>\n",
       "    </tr>\n",
       "    <tr>\n",
       "      <th>4</th>\n",
       "      <td>Image</td>\n",
       "      <td>ee q — s i, y</td>\n",
       "      <td>10b53442f27c9dae8fbb6e904629ed52</td>\n",
       "      <td>[[47.5, 1624.3055555555554], [47.5, 1926.38888...</td>\n",
       "      <td>PixelSpace</td>\n",
       "      <td>1700</td>\n",
       "      <td>2200</td>\n",
       "      <td>application/pdf</td>\n",
       "      <td>[eng]</td>\n",
       "      <td>1</td>\n",
       "      <td>/root/figures/figure-1-3.jpg</td>\n",
       "      <td>NaN</td>\n",
       "      <td>NaN</td>\n",
       "      <td>NaN</td>\n",
       "    </tr>\n",
       "  </tbody>\n",
       "</table>\n",
       "</div>"
      ],
      "text/plain": [
       "    type                                               text  \\\n",
       "0  Image                                      GADS  Wind...   \n",
       "1  Title  GADS Wind Turbine Generation Data Reporting In...   \n",
       "2  Title                         Effective: January 1, 2024   \n",
       "3  Image                RELIABILITY | RESILIENCE | SECURITY   \n",
       "4  Image                                      ee q — s i, y   \n",
       "\n",
       "                         element_id  \\\n",
       "0  6cefe70712d1f985da24f15644359efb   \n",
       "1  5427b6f5e20491efb96a5503dd1b5488   \n",
       "2  8b22337286abf8536ed2c3daf0adb94b   \n",
       "3  cc5f020eab26832b0efabe91565cd4db   \n",
       "4  10b53442f27c9dae8fbb6e904629ed52   \n",
       "\n",
       "                         metadata.coordinates.points  \\\n",
       "0  [[48.05555555555556, 53.6111111111113], [48.05...   \n",
       "1  [[150.0, 587.9888888888889], [150.0, 968.27222...   \n",
       "2  [[150.0, 1054.6055555555556], [150.0, 1121.272...   \n",
       "3  [[806.6666666666666, 1565.2222222222222], [806...   \n",
       "4  [[47.5, 1624.3055555555554], [47.5, 1926.38888...   \n",
       "\n",
       "  metadata.coordinates.system  metadata.coordinates.layout_width  \\\n",
       "0                  PixelSpace                               1700   \n",
       "1                  PixelSpace                               1700   \n",
       "2                  PixelSpace                               1700   \n",
       "3                  PixelSpace                               1700   \n",
       "4                  PixelSpace                               1700   \n",
       "\n",
       "   metadata.coordinates.layout_height metadata.filetype metadata.languages  \\\n",
       "0                                2200   application/pdf              [eng]   \n",
       "1                                2200   application/pdf              [eng]   \n",
       "2                                2200   application/pdf              [eng]   \n",
       "3                                2200   application/pdf              [eng]   \n",
       "4                                2200   application/pdf              [eng]   \n",
       "\n",
       "   metadata.page_number           metadata.image_path  \\\n",
       "0                     1  /root/figures/figure-1-1.jpg   \n",
       "1                     1                           NaN   \n",
       "2                     1                           NaN   \n",
       "3                     1  /root/figures/figure-1-2.jpg   \n",
       "4                     1  /root/figures/figure-1-3.jpg   \n",
       "\n",
       "   metadata.detection_class_prob metadata.text_as_html metadata.parent_id  \n",
       "0                            NaN                   NaN                NaN  \n",
       "1                            NaN                   NaN                NaN  \n",
       "2                            NaN                   NaN                NaN  \n",
       "3                            NaN                   NaN                NaN  \n",
       "4                            NaN                   NaN                NaN  "
      ]
     },
     "execution_count": 3,
     "metadata": {},
     "output_type": "execute_result"
    }
   ],
   "source": [
    "df.head()"
   ]
  },
  {
   "cell_type": "code",
   "execution_count": 4,
   "metadata": {},
   "outputs": [
    {
     "data": {
      "text/plain": [
       "Index(['type', 'text', 'element_id', 'metadata.coordinates.points',\n",
       "       'metadata.coordinates.system', 'metadata.coordinates.layout_width',\n",
       "       'metadata.coordinates.layout_height', 'metadata.filetype',\n",
       "       'metadata.languages', 'metadata.page_number', 'metadata.image_path',\n",
       "       'metadata.detection_class_prob', 'metadata.text_as_html',\n",
       "       'metadata.parent_id'],\n",
       "      dtype='object')"
      ]
     },
     "execution_count": 4,
     "metadata": {},
     "output_type": "execute_result"
    }
   ],
   "source": [
    "df.columns"
   ]
  },
  {
   "cell_type": "code",
   "execution_count": 5,
   "metadata": {},
   "outputs": [
    {
     "data": {
      "text/plain": [
       "0                                          GADS  Wind...\n",
       "1      GADS Wind Turbine Generation Data Reporting In...\n",
       "2                             Effective: January 1, 2024\n",
       "3                    RELIABILITY | RESILIENCE | SECURITY\n",
       "4                                          ee q — s i, y\n",
       "                             ...                        \n",
       "896    Outage delayed by pandemic loss of manpower Wo...\n",
       "897    Outage delayed by pandemic loss of manpower  W...\n",
       "898                                               Time  \n",
       "899                                                 Time\n",
       "900    NERC | GADS Wind Data Reporting Instructions |...\n",
       "Name: text, Length: 901, dtype: object"
      ]
     },
     "execution_count": 5,
     "metadata": {},
     "output_type": "execute_result"
    }
   ],
   "source": [
    "df['text']"
   ]
  },
  {
   "cell_type": "code",
   "execution_count": 9,
   "metadata": {},
   "outputs": [],
   "source": [
    "import tiktoken\n",
    "enc = tiktoken.get_encoding(\"o200k_base\")\n",
    "\n",
    "df['text_encoded'] = df['text'].apply(lambda x: enc.encode(x,disallowed_special=()))"
   ]
  },
  {
   "cell_type": "code",
   "execution_count": 10,
   "metadata": {},
   "outputs": [],
   "source": [
    "df['len_of_text_encoded'] = df['text_encoded'].apply(lambda x: len(x))"
   ]
  },
  {
   "cell_type": "code",
   "execution_count": 11,
   "metadata": {},
   "outputs": [
    {
     "data": {
      "text/plain": [
       "count    901.000000\n",
       "mean      39.906770\n",
       "std       53.883147\n",
       "min        0.000000\n",
       "25%       11.000000\n",
       "50%       21.000000\n",
       "75%       48.000000\n",
       "max      471.000000\n",
       "Name: len_of_text_encoded, dtype: float64"
      ]
     },
     "execution_count": 11,
     "metadata": {},
     "output_type": "execute_result"
    }
   ],
   "source": [
    "df['len_of_text_encoded'].describe()"
   ]
  },
  {
   "cell_type": "code",
   "execution_count": 12,
   "metadata": {},
   "outputs": [
    {
     "data": {
      "text/plain": [
       "metadata.page_number\n",
       "64    28\n",
       "26    25\n",
       "25    25\n",
       "71    24\n",
       "72    23\n",
       "      ..\n",
       "69     4\n",
       "63     4\n",
       "28     3\n",
       "3      3\n",
       "29     3\n",
       "Name: count, Length: 77, dtype: int64"
      ]
     },
     "execution_count": 12,
     "metadata": {},
     "output_type": "execute_result"
    }
   ],
   "source": [
    "df['metadata.page_number'].value_counts()"
   ]
  },
  {
   "cell_type": "code",
   "execution_count": 14,
   "metadata": {},
   "outputs": [
    {
     "data": {
      "text/plain": [
       "array([ 79, 365,  99, 567, 209, 326, 363, 206, 455, 413, 578, 568, 609,\n",
       "       645, 629, 611, 507, 675, 739, 689, 236, 495, 617, 553, 497, 528,\n",
       "       370,  76,  84, 430, 302, 238, 223, 591, 426, 218, 159, 436, 462,\n",
       "       160, 526, 576, 756, 525, 486, 899, 673, 403, 397, 644, 722, 217,\n",
       "       543, 778, 872, 781, 447, 372, 238, 310, 377, 296, 331, 667, 751,\n",
       "       351, 800, 580,  79, 618, 600, 742, 642, 663, 313, 471,  77])"
      ]
     },
     "execution_count": 14,
     "metadata": {},
     "output_type": "execute_result"
    }
   ],
   "source": [
    "df.groupby('metadata.page_number')['len_of_text_encoded'].sum().values"
   ]
  },
  {
   "cell_type": "code",
   "execution_count": 15,
   "metadata": {},
   "outputs": [
    {
     "data": {
      "text/plain": [
       "array([ 7, 20,  3,  9,  7, 17, 19,  6,  9, 10,  9,  9,  7, 10, 14,  9,  6,\n",
       "       15, 12, 11,  5, 12, 10, 13, 25, 25, 11,  3,  3, 13,  8,  8,  5, 12,\n",
       "       12,  8,  7, 15, 17,  6, 16, 16, 13, 15,  8,  7,  5,  5, 12, 13, 12,\n",
       "        7, 14, 15, 12, 14, 11, 11,  5,  8, 11,  9,  4, 28, 16, 12, 13, 12,\n",
       "        4, 20, 24, 23, 23, 23, 16, 11,  6])"
      ]
     },
     "execution_count": 15,
     "metadata": {},
     "output_type": "execute_result"
    }
   ],
   "source": [
    "df.groupby('metadata.page_number')['type'].count().values"
   ]
  },
  {
   "cell_type": "code",
   "execution_count": 17,
   "metadata": {},
   "outputs": [
    {
     "data": {
      "text/plain": [
       "array(['Appendix N: Examples',\n",
       "       'Outage delayed by pandemic loss of manpower Work delayed Code: Ext>Pandemic (9015) Outage repair resumes Code: Original cause and type',\n",
       "       'Outage delayed by pandemic loss of manpower  Work delayed  Code: Ext>Pandemic (9015)  ',\n",
       "       'Time  ', 'Time',\n",
       "       'NERC | GADS Wind Data Reporting Instructions | January 2024 71'],\n",
       "      dtype=object)"
      ]
     },
     "execution_count": 17,
     "metadata": {},
     "output_type": "execute_result"
    }
   ],
   "source": [
    "df[df['metadata.page_number']==77]['text'].values"
   ]
  },
  {
   "cell_type": "code",
   "execution_count": 18,
   "metadata": {},
   "outputs": [
    {
     "data": {
      "text/plain": [
       "type\n",
       "NarrativeText        270\n",
       "ListItem             202\n",
       "Title                191\n",
       "Table                 61\n",
       "UncategorizedText     58\n",
       "Header                55\n",
       "Formula               34\n",
       "Image                 22\n",
       "FigureCaption          8\n",
       "Name: count, dtype: int64"
      ]
     },
     "execution_count": 18,
     "metadata": {},
     "output_type": "execute_result"
    }
   ],
   "source": [
    "df['type'].value_counts()"
   ]
  },
  {
   "cell_type": "code",
   "execution_count": 21,
   "metadata": {},
   "outputs": [
    {
     "data": {
      "text/html": [
       "<div>\n",
       "<style scoped>\n",
       "    .dataframe tbody tr th:only-of-type {\n",
       "        vertical-align: middle;\n",
       "    }\n",
       "\n",
       "    .dataframe tbody tr th {\n",
       "        vertical-align: top;\n",
       "    }\n",
       "\n",
       "    .dataframe thead th {\n",
       "        text-align: right;\n",
       "    }\n",
       "</style>\n",
       "<table border=\"1\" class=\"dataframe\">\n",
       "  <thead>\n",
       "    <tr style=\"text-align: right;\">\n",
       "      <th></th>\n",
       "      <th>type</th>\n",
       "      <th>text</th>\n",
       "      <th>element_id</th>\n",
       "      <th>metadata.coordinates.points</th>\n",
       "      <th>metadata.coordinates.system</th>\n",
       "      <th>metadata.coordinates.layout_width</th>\n",
       "      <th>metadata.coordinates.layout_height</th>\n",
       "      <th>metadata.filetype</th>\n",
       "      <th>metadata.languages</th>\n",
       "      <th>metadata.page_number</th>\n",
       "      <th>metadata.image_path</th>\n",
       "      <th>metadata.detection_class_prob</th>\n",
       "      <th>metadata.text_as_html</th>\n",
       "      <th>metadata.parent_id</th>\n",
       "      <th>text_encoded</th>\n",
       "      <th>len_of_text_encoded</th>\n",
       "    </tr>\n",
       "  </thead>\n",
       "  <tbody>\n",
       "    <tr>\n",
       "      <th>51</th>\n",
       "      <td>ListItem</td>\n",
       "      <td>1. Configuration Data:</td>\n",
       "      <td>5370f86a49f42ff7121c63decab7517a</td>\n",
       "      <td>[[180.06666666666666, 948.19775390625], [180.0...</td>\n",
       "      <td>PixelSpace</td>\n",
       "      <td>1700</td>\n",
       "      <td>2200</td>\n",
       "      <td>application/pdf</td>\n",
       "      <td>[eng]</td>\n",
       "      <td>6</td>\n",
       "      <td>NaN</td>\n",
       "      <td>0.794155</td>\n",
       "      <td>NaN</td>\n",
       "      <td>a5bab31813f16c2a7db10bcdabdbdf5e</td>\n",
       "      <td>[16, 13, 24316, 4833, 25]</td>\n",
       "      <td>5</td>\n",
       "    </tr>\n",
       "    <tr>\n",
       "      <th>52</th>\n",
       "      <td>ListItem</td>\n",
       "      <td>a. Plant</td>\n",
       "      <td>30025e5b1de028ce183fcd441773824f</td>\n",
       "      <td>[[228.9783477783203, 1002.4854125976562], [228...</td>\n",
       "      <td>PixelSpace</td>\n",
       "      <td>1700</td>\n",
       "      <td>2200</td>\n",
       "      <td>application/pdf</td>\n",
       "      <td>[eng]</td>\n",
       "      <td>6</td>\n",
       "      <td>NaN</td>\n",
       "      <td>0.793668</td>\n",
       "      <td>NaN</td>\n",
       "      <td>a5bab31813f16c2a7db10bcdabdbdf5e</td>\n",
       "      <td>[64, 13, 23279]</td>\n",
       "      <td>3</td>\n",
       "    </tr>\n",
       "    <tr>\n",
       "      <th>53</th>\n",
       "      <td>ListItem</td>\n",
       "      <td>b. Subgroup</td>\n",
       "      <td>9d2a2566e6dfe03bee424c7e7d8e1baa</td>\n",
       "      <td>[[227.9361572265625, 1056.080322265625], [227....</td>\n",
       "      <td>PixelSpace</td>\n",
       "      <td>1700</td>\n",
       "      <td>2200</td>\n",
       "      <td>application/pdf</td>\n",
       "      <td>[eng]</td>\n",
       "      <td>6</td>\n",
       "      <td>NaN</td>\n",
       "      <td>0.818837</td>\n",
       "      <td>NaN</td>\n",
       "      <td>a5bab31813f16c2a7db10bcdabdbdf5e</td>\n",
       "      <td>[65, 13, 5934, 4323]</td>\n",
       "      <td>4</td>\n",
       "    </tr>\n",
       "    <tr>\n",
       "      <th>54</th>\n",
       "      <td>ListItem</td>\n",
       "      <td>c. Energy Storage</td>\n",
       "      <td>8cf7a8613f99faa5dcb96160d096ad03</td>\n",
       "      <td>[[223.06924438476562, 1110.7158203125], [223.0...</td>\n",
       "      <td>PixelSpace</td>\n",
       "      <td>1700</td>\n",
       "      <td>2200</td>\n",
       "      <td>application/pdf</td>\n",
       "      <td>[eng]</td>\n",
       "      <td>6</td>\n",
       "      <td>NaN</td>\n",
       "      <td>0.805270</td>\n",
       "      <td>NaN</td>\n",
       "      <td>a5bab31813f16c2a7db10bcdabdbdf5e</td>\n",
       "      <td>[66, 13, 16394, 22702]</td>\n",
       "      <td>4</td>\n",
       "    </tr>\n",
       "    <tr>\n",
       "      <th>55</th>\n",
       "      <td>ListItem</td>\n",
       "      <td>2. Monthly Performance Data</td>\n",
       "      <td>865ebaaf44205b25ad7ef239d2feb567</td>\n",
       "      <td>[[178.70672607421875, 1164.1678466796875], [17...</td>\n",
       "      <td>PixelSpace</td>\n",
       "      <td>1700</td>\n",
       "      <td>2200</td>\n",
       "      <td>application/pdf</td>\n",
       "      <td>[eng]</td>\n",
       "      <td>6</td>\n",
       "      <td>NaN</td>\n",
       "      <td>0.799403</td>\n",
       "      <td>NaN</td>\n",
       "      <td>a5bab31813f16c2a7db10bcdabdbdf5e</td>\n",
       "      <td>[17, 13, 62722, 27136, 4833]</td>\n",
       "      <td>5</td>\n",
       "    </tr>\n",
       "    <tr>\n",
       "      <th>...</th>\n",
       "      <td>...</td>\n",
       "      <td>...</td>\n",
       "      <td>...</td>\n",
       "      <td>...</td>\n",
       "      <td>...</td>\n",
       "      <td>...</td>\n",
       "      <td>...</td>\n",
       "      <td>...</td>\n",
       "      <td>...</td>\n",
       "      <td>...</td>\n",
       "      <td>...</td>\n",
       "      <td>...</td>\n",
       "      <td>...</td>\n",
       "      <td>...</td>\n",
       "      <td>...</td>\n",
       "      <td>...</td>\n",
       "    </tr>\n",
       "    <tr>\n",
       "      <th>866</th>\n",
       "      <td>ListItem</td>\n",
       "      <td>Net Maximum Capacity: NMC (Reported in Monthly...</td>\n",
       "      <td>42b56c4df88b8c1f19446389485dbee1</td>\n",
       "      <td>[[180.06666666666666, 1828.9947509765625], [18...</td>\n",
       "      <td>PixelSpace</td>\n",
       "      <td>1700</td>\n",
       "      <td>2200</td>\n",
       "      <td>application/pdf</td>\n",
       "      <td>[eng]</td>\n",
       "      <td>74</td>\n",
       "      <td>NaN</td>\n",
       "      <td>0.828872</td>\n",
       "      <td>NaN</td>\n",
       "      <td>NaN</td>\n",
       "      <td>[9944, 49848, 63139, 25, 478, 15190, 350, 1448...</td>\n",
       "      <td>12</td>\n",
       "    </tr>\n",
       "    <tr>\n",
       "      <th>870</th>\n",
       "      <td>ListItem</td>\n",
       "      <td>2.A.1. Unit Performance Index (PI)</td>\n",
       "      <td>1cc5a30774ad4cfd2c8ee7ba6f56ff12</td>\n",
       "      <td>[[130.0, 248.72222222222243], [130.0, 279.3888...</td>\n",
       "      <td>PixelSpace</td>\n",
       "      <td>1700</td>\n",
       "      <td>2200</td>\n",
       "      <td>application/pdf</td>\n",
       "      <td>[eng]</td>\n",
       "      <td>75</td>\n",
       "      <td>NaN</td>\n",
       "      <td>0.409683</td>\n",
       "      <td>NaN</td>\n",
       "      <td>fea47f68673698f5c57d986ef499688d</td>\n",
       "      <td>[17, 1336, 13, 16, 13, 14856, 27136, 14580, 35...</td>\n",
       "      <td>11</td>\n",
       "    </tr>\n",
       "    <tr>\n",
       "      <th>880</th>\n",
       "      <td>ListItem</td>\n",
       "      <td>2.A.3. Net Capacity Factor (NCF)</td>\n",
       "      <td>cd96901bbe619f0f8508368cf8d8a073</td>\n",
       "      <td>[[130.0, 1046.4722222222222], [130.0, 1077.138...</td>\n",
       "      <td>PixelSpace</td>\n",
       "      <td>1700</td>\n",
       "      <td>2200</td>\n",
       "      <td>application/pdf</td>\n",
       "      <td>[eng]</td>\n",
       "      <td>75</td>\n",
       "      <td>NaN</td>\n",
       "      <td>0.479516</td>\n",
       "      <td>NaN</td>\n",
       "      <td>NaN</td>\n",
       "      <td>[17, 1336, 13, 18, 13, 9352, 63139, 63743, 350...</td>\n",
       "      <td>12</td>\n",
       "    </tr>\n",
       "    <tr>\n",
       "      <th>892</th>\n",
       "      <td>ListItem</td>\n",
       "      <td>1. The initial delayed period is classified as...</td>\n",
       "      <td>8ffef4f17c54a4ff64733bae2dfe1581</td>\n",
       "      <td>[[180.06666666666666, 1890.3844444444444], [18...</td>\n",
       "      <td>PixelSpace</td>\n",
       "      <td>1700</td>\n",
       "      <td>2200</td>\n",
       "      <td>application/pdf</td>\n",
       "      <td>[eng]</td>\n",
       "      <td>76</td>\n",
       "      <td>NaN</td>\n",
       "      <td>0.878653</td>\n",
       "      <td>NaN</td>\n",
       "      <td>NaN</td>\n",
       "      <td>[16, 13, 623, 4871, 40480, 5265, 382, 37340, 4...</td>\n",
       "      <td>22</td>\n",
       "    </tr>\n",
       "    <tr>\n",
       "      <th>893</th>\n",
       "      <td>ListItem</td>\n",
       "      <td>2. When work begins the downtime for the unit ...</td>\n",
       "      <td>a8da356d646d3369ea46fd2c5cddcc02</td>\n",
       "      <td>[[180.06666666666666, 1944.9333333333334], [18...</td>\n",
       "      <td>PixelSpace</td>\n",
       "      <td>1700</td>\n",
       "      <td>2200</td>\n",
       "      <td>application/pdf</td>\n",
       "      <td>[eng]</td>\n",
       "      <td>76</td>\n",
       "      <td>NaN</td>\n",
       "      <td>NaN</td>\n",
       "      <td>NaN</td>\n",
       "      <td>NaN</td>\n",
       "      <td>[17, 13, 4296, 1101, 18015, 290, 99981, 395, 2...</td>\n",
       "      <td>18</td>\n",
       "    </tr>\n",
       "  </tbody>\n",
       "</table>\n",
       "<p>202 rows × 16 columns</p>\n",
       "</div>"
      ],
      "text/plain": [
       "         type                                               text  \\\n",
       "51   ListItem                             1. Configuration Data:   \n",
       "52   ListItem                                           a. Plant   \n",
       "53   ListItem                                        b. Subgroup   \n",
       "54   ListItem                                  c. Energy Storage   \n",
       "55   ListItem                        2. Monthly Performance Data   \n",
       "..        ...                                                ...   \n",
       "866  ListItem  Net Maximum Capacity: NMC (Reported in Monthly...   \n",
       "870  ListItem                 2.A.1. Unit Performance Index (PI)   \n",
       "880  ListItem                   2.A.3. Net Capacity Factor (NCF)   \n",
       "892  ListItem  1. The initial delayed period is classified as...   \n",
       "893  ListItem  2. When work begins the downtime for the unit ...   \n",
       "\n",
       "                           element_id  \\\n",
       "51   5370f86a49f42ff7121c63decab7517a   \n",
       "52   30025e5b1de028ce183fcd441773824f   \n",
       "53   9d2a2566e6dfe03bee424c7e7d8e1baa   \n",
       "54   8cf7a8613f99faa5dcb96160d096ad03   \n",
       "55   865ebaaf44205b25ad7ef239d2feb567   \n",
       "..                                ...   \n",
       "866  42b56c4df88b8c1f19446389485dbee1   \n",
       "870  1cc5a30774ad4cfd2c8ee7ba6f56ff12   \n",
       "880  cd96901bbe619f0f8508368cf8d8a073   \n",
       "892  8ffef4f17c54a4ff64733bae2dfe1581   \n",
       "893  a8da356d646d3369ea46fd2c5cddcc02   \n",
       "\n",
       "                           metadata.coordinates.points  \\\n",
       "51   [[180.06666666666666, 948.19775390625], [180.0...   \n",
       "52   [[228.9783477783203, 1002.4854125976562], [228...   \n",
       "53   [[227.9361572265625, 1056.080322265625], [227....   \n",
       "54   [[223.06924438476562, 1110.7158203125], [223.0...   \n",
       "55   [[178.70672607421875, 1164.1678466796875], [17...   \n",
       "..                                                 ...   \n",
       "866  [[180.06666666666666, 1828.9947509765625], [18...   \n",
       "870  [[130.0, 248.72222222222243], [130.0, 279.3888...   \n",
       "880  [[130.0, 1046.4722222222222], [130.0, 1077.138...   \n",
       "892  [[180.06666666666666, 1890.3844444444444], [18...   \n",
       "893  [[180.06666666666666, 1944.9333333333334], [18...   \n",
       "\n",
       "    metadata.coordinates.system  metadata.coordinates.layout_width  \\\n",
       "51                   PixelSpace                               1700   \n",
       "52                   PixelSpace                               1700   \n",
       "53                   PixelSpace                               1700   \n",
       "54                   PixelSpace                               1700   \n",
       "55                   PixelSpace                               1700   \n",
       "..                          ...                                ...   \n",
       "866                  PixelSpace                               1700   \n",
       "870                  PixelSpace                               1700   \n",
       "880                  PixelSpace                               1700   \n",
       "892                  PixelSpace                               1700   \n",
       "893                  PixelSpace                               1700   \n",
       "\n",
       "     metadata.coordinates.layout_height metadata.filetype metadata.languages  \\\n",
       "51                                 2200   application/pdf              [eng]   \n",
       "52                                 2200   application/pdf              [eng]   \n",
       "53                                 2200   application/pdf              [eng]   \n",
       "54                                 2200   application/pdf              [eng]   \n",
       "55                                 2200   application/pdf              [eng]   \n",
       "..                                  ...               ...                ...   \n",
       "866                                2200   application/pdf              [eng]   \n",
       "870                                2200   application/pdf              [eng]   \n",
       "880                                2200   application/pdf              [eng]   \n",
       "892                                2200   application/pdf              [eng]   \n",
       "893                                2200   application/pdf              [eng]   \n",
       "\n",
       "     metadata.page_number metadata.image_path  metadata.detection_class_prob  \\\n",
       "51                      6                 NaN                       0.794155   \n",
       "52                      6                 NaN                       0.793668   \n",
       "53                      6                 NaN                       0.818837   \n",
       "54                      6                 NaN                       0.805270   \n",
       "55                      6                 NaN                       0.799403   \n",
       "..                    ...                 ...                            ...   \n",
       "866                    74                 NaN                       0.828872   \n",
       "870                    75                 NaN                       0.409683   \n",
       "880                    75                 NaN                       0.479516   \n",
       "892                    76                 NaN                       0.878653   \n",
       "893                    76                 NaN                            NaN   \n",
       "\n",
       "    metadata.text_as_html                metadata.parent_id  \\\n",
       "51                    NaN  a5bab31813f16c2a7db10bcdabdbdf5e   \n",
       "52                    NaN  a5bab31813f16c2a7db10bcdabdbdf5e   \n",
       "53                    NaN  a5bab31813f16c2a7db10bcdabdbdf5e   \n",
       "54                    NaN  a5bab31813f16c2a7db10bcdabdbdf5e   \n",
       "55                    NaN  a5bab31813f16c2a7db10bcdabdbdf5e   \n",
       "..                    ...                               ...   \n",
       "866                   NaN                               NaN   \n",
       "870                   NaN  fea47f68673698f5c57d986ef499688d   \n",
       "880                   NaN                               NaN   \n",
       "892                   NaN                               NaN   \n",
       "893                   NaN                               NaN   \n",
       "\n",
       "                                          text_encoded  len_of_text_encoded  \n",
       "51                           [16, 13, 24316, 4833, 25]                    5  \n",
       "52                                     [64, 13, 23279]                    3  \n",
       "53                                [65, 13, 5934, 4323]                    4  \n",
       "54                              [66, 13, 16394, 22702]                    4  \n",
       "55                        [17, 13, 62722, 27136, 4833]                    5  \n",
       "..                                                 ...                  ...  \n",
       "866  [9944, 49848, 63139, 25, 478, 15190, 350, 1448...                   12  \n",
       "870  [17, 1336, 13, 16, 13, 14856, 27136, 14580, 35...                   11  \n",
       "880  [17, 1336, 13, 18, 13, 9352, 63139, 63743, 350...                   12  \n",
       "892  [16, 13, 623, 4871, 40480, 5265, 382, 37340, 4...                   22  \n",
       "893  [17, 13, 4296, 1101, 18015, 290, 99981, 395, 2...                   18  \n",
       "\n",
       "[202 rows x 16 columns]"
      ]
     },
     "execution_count": 21,
     "metadata": {},
     "output_type": "execute_result"
    }
   ],
   "source": [
    "df[df['type']=='ListItem']"
   ]
  },
  {
   "cell_type": "code",
   "execution_count": 32,
   "metadata": {},
   "outputs": [
    {
     "data": {
      "text/plain": [
       "'<table border=\"1\" class=\"dataframe\">\\n  <thead>\\n    <tr style=\"text-align: right;\">\\n      <th></th>\\n      <th>text</th>\\n      <th>type</th>\\n      <th>metadata.text_as_html</th>\\n    </tr>\\n  </thead>\\n  <tbody>\\n    <tr>\\n      <th>7</th>\\n      <td>Table of Contents</td>\\n      <td>Title</td>\\n      <td>NaN</td>\\n    </tr>\\n    <tr>\\n      <th>8</th>\\n      <td>Who Must Report ....................................................................................................................................................... vi Data Record Types ....................................................................................................................................................... 1 Format ......................................................................................................................................................................... 1 When to Report Configuration Data ............................................................................................................................ 5 Plant Configuration Data .............................................................................................................................................. 5 Subgroup Configuration Data....................................................................................................................................... 7 Energy Storage Configuration Data ........................................................................................................................... 10 When to Report Performance Data ........................................................................................................................... 12 Subgroup Performance Record.................................................................................................................................. 12 Energy Storage Group Performance Record .............................................................................................................. 14 When to Report Event Data ....................................................................................................................................... 16 Event Criteria ............................................................................................................................................................. 16 Plant Event Record ..................................................................................................................................................... 16 Event Cause Codes ..................................................................................................................................................... 17 Contributing Operating Condition ............................................................................................................................. 17 Potential Production MWH Loss ................................................................................................................................ 21</td>\\n      <td>Table</td>\\n      <td>&lt;table&gt;&lt;tbody&gt;&lt;tr&gt;&lt;td colspan=\"2\"&gt;EVISION HiStOFY....... cc eeeesesceseeseeseesseeeeesecsecesessecsesseesseeseecsecsecesecsaseeesseaseescsecaecsesseseeacaeseeseasesdeesecsaseaesaeseseaseasesaeeaeseaee iv&lt;/td&gt;&lt;/tr&gt;&lt;tr&gt;&lt;td colspan=\"2\"&gt;FOFACE oes eeeeeceececeseescecseeseseeseeaesecscsacsecscaeeassecseeacsacsesaeuecsecaesaeseeaesassecaesaesaeseeaseasaesaeeecsesaesaesaeseeaseaseesaeeessesaeeaseeeateaseesaesatee \\\\&lt;/td&gt;&lt;/tr&gt;&lt;tr&gt;&lt;td colspan=\"2\"&gt;‘troduction ....&lt;/td&gt;&lt;/tr&gt;&lt;tr&gt;&lt;td&gt;WhO MUSt REPOFt.....cceccccesecsecsscssecsecsscesecsecssseseseescsecsssesecsecesesscsesessenesesecsecsesesecsesessessesseseseseeesseseeseasceseseseeesesaesnes&lt;/td&gt;&lt;td&gt;vi&lt;/td&gt;&lt;/tr&gt;&lt;tr&gt;&lt;td colspan=\"2\"&gt;hapter 1 : Date Record Types and Forimat..........ccecsscesescesseseeseeseeeecseeeceecseeaeeecseeaeeecsessesaeseeseeaeessesaeeesesaeeaseesaeeeseeeaesatee 1&lt;/td&gt;&lt;/tr&gt;&lt;tr&gt;&lt;td colspan=\"2\"&gt;Data RECOrd Types... eesesssecsscescescseeseescseesesecsecseecsecseeaeseeseeaesecsesacacsecseaeseeseeaesassecseaesaeseeaseeseesaeeessesseeasesaeeeseesaeeates 1&lt;/td&gt;&lt;/tr&gt;&lt;tr&gt;&lt;td colspan=\"2\"&gt;FOrMat oo... cececcccccescseceescsecsesseeessessesecsecsseecsessesecsessesscsecsecsssecssssucscsessesessecsscsssesseseaseceessecesessssessesseseseeseasiasesessseesesensenes 1&lt;/td&gt;&lt;/tr&gt;&lt;tr&gt;&lt;td&gt;hapter 2 : Plants, Groups, and Sub-Groups and Energy Storage&lt;/td&gt;&lt;td&gt;........:ssssesseceseseeseeeeseeseeeeseeeeeceesaeeecsesaeeasesaeeeseeeeeeatee 3&lt;/td&gt;&lt;/tr&gt;&lt;tr&gt;&lt;td colspan=\"2\"&gt;hapter 3 : Configuration Data....&lt;/td&gt;&lt;/tr&gt;&lt;tr&gt;&lt;td&gt;When to Report Configuration&lt;/td&gt;&lt;td&gt;Data........ceeecesseseeesseeseeecseeseeeesesseeecsecsececsecseeaeessesaeecsesseeaesesaeeaseesaesaesaserseeaseeaeeas 5&lt;/td&gt;&lt;/tr&gt;&lt;tr&gt;&lt;td&gt;Plant Configuration Data..........ccsscesessseccsscseesceeeseeseeecseeseeecseeseecsecseeaesaeseeaesacsesaesessesseaseasaeeaseesaesaseessesseeaseeaeeeseeseeeaeee&lt;/td&gt;&lt;td&gt;5&lt;/td&gt;&lt;/tr&gt;&lt;tr&gt;&lt;td&gt;Subgroup Configuration Data...&lt;/td&gt;&lt;td&gt;ccscesesescesseceessseeseeecseeseeeeseeseeeeseseeseesecsesacseeseeaseassesaeacsesseaeeesseeaseesaesaeeesaesaeeeseeneeaes 7&lt;/td&gt;&lt;/tr&gt;&lt;tr&gt;&lt;td&gt;Energy Storage Configuration Data 0...&lt;/td&gt;&lt;td&gt;cccccsseesceceseeeeseeeeseescsecseeeesecseeacseeseeaesecsesaeeaeseeaeeassesaesesessesaeeassesaseesesaeeatees 10&lt;/td&gt;&lt;/tr&gt;&lt;tr&gt;&lt;td&gt;hapter 4 : Performance Reporting&lt;/td&gt;&lt;td&gt;..........seeceeseeceeeseeseeeceeseeeeseeseeeesecaeeacsecsecaeeeesecaeeessecseaesaeseeasessesaeeaseetseeaseeeaeeaseesee 12&lt;/td&gt;&lt;/tr&gt;&lt;tr&gt;&lt;td&gt;When to Report Performance Data....&lt;/td&gt;&lt;td&gt;&lt;/td&gt;&lt;/tr&gt;&lt;tr&gt;&lt;td colspan=\"2\"&gt;Subgroup Performance ReCOI.........scsscsccssesesseseeseeecseeseeeeseeseecseeaeecsecsesaeseeseeaceeseeseesessesaesaeseeaseasseseesessesseeaseesseeaseeee 12&lt;/td&gt;&lt;/tr&gt;&lt;tr&gt;&lt;td&gt;Energy Storage Group Performance&lt;/td&gt;&lt;td&gt;RECOIG........:.cccsesseseeseseeseeeeseeseecesceseecseseeecsessesaeseeaeeacsesaesessesaesaeaeseeaseesaesaeeatees 14&lt;/td&gt;&lt;/tr&gt;&lt;tr&gt;&lt;td&gt;hapter 5 : Event REPOrting..........ceesceccseesseecsesseescsecseesceecseeseeeseeaeeecsecsecaeseesceaeeessesaeeessecseaeeaeseeaseeseeseeeesesaesaseeeseeaseesee&lt;/td&gt;&lt;td&gt;16&lt;/td&gt;&lt;/tr&gt;&lt;tr&gt;&lt;td&gt;When to Report Event Data... ceccesceseescsecsesseeecseeseeecsecseecsesaeeecsecsesaeseeseeaeeeseesaeseseesaeeaeseeaseasseseesesesaeeaseesaeeaseese&lt;/td&gt;&lt;td&gt;16&lt;/td&gt;&lt;/tr&gt;&lt;tr&gt;&lt;td colspan=\"2\"&gt;EVeNt Criteria... cece ccceecsesecseeecsecsesecsssscesssessscecsecsesecseseasscseseasessecsecsssesseseasecsessesessessusesseseeseasessassssessessaseseesensenegs 16&lt;/td&gt;&lt;/tr&gt;&lt;tr&gt;&lt;td colspan=\"2\"&gt;Plant Event RECOrd...... cece ese ce ee rereceeeseenececeseeeceeessesesesesesseceeeseeseseeesseseeeeeseesseeseseeseeseseesseeseseesseeseseseeesensaeneeses 16&lt;/td&gt;&lt;/tr&gt;&lt;tr&gt;&lt;td colspan=\"2\"&gt;Event Cause Codes....&lt;/td&gt;&lt;/tr&gt;&lt;tr&gt;&lt;td colspan=\"2\"&gt;Contributing Operating CONMAItION 0.2.0... ce eseeeseseeeeeeseeecseeseecseeseecsecsesacsecseeacseseesaesessesaesaeseesseasseseesaeesseeaeeesaeeeseete 17&lt;/td&gt;&lt;/tr&gt;&lt;tr&gt;&lt;td colspan=\"2\"&gt;Potential Production MWH LOSS.......ccceceescese eee eeseeseeseesececesseseceeeseesecesesseseesesseseesesseeeesessesseesesssseeesesseeeeseseaeaeeses 21&lt;/td&gt;&lt;/tr&gt;&lt;tr&gt;&lt;td&gt;ppendix A : GADS Wind Reporting Application Data Release Guidelines.&lt;/td&gt;&lt;td&gt;........esesceessesseeseteeseeeceeeeeeeeeetseeaeeeeeeaseeee 23&lt;/td&gt;&lt;/tr&gt;&lt;tr&gt;&lt;td&gt;ppendix B : Entity and Subgroup Identification 0... ec&lt;/td&gt;&lt;td&gt;eeseeeeseseeeeeeeseeseeeeseeseeecsecaeeecsecsecaeseeseeaeeesseceeeesesaeeaseeeaeeateeeee 24&lt;/td&gt;&lt;/tr&gt;&lt;/tbody&gt;&lt;/table&gt;</td>\\n    </tr>\\n    <tr>\\n      <th>9</th>\\n      <td>Revision History .............................................................................................................................................................. iv</td>\\n      <td>UncategorizedText</td>\\n      <td>NaN</td>\\n    </tr>\\n    <tr>\\n      <th>10</th>\\n      <td>Preface ............................................................................................................................................................................ v</td>\\n      <td>UncategorizedText</td>\\n      <td>NaN</td>\\n    </tr>\\n    <tr>\\n      <th>11</th>\\n      <td>Introduction ................................................................................................................................................................... vi</td>\\n      <td>UncategorizedText</td>\\n      <td>NaN</td>\\n    </tr>\\n    <tr>\\n      <th>12</th>\\n      <td>Chapter 1 : Date Record Types and Format .................................................................................................................... 1</td>\\n      <td>UncategorizedText</td>\\n      <td>NaN</td>\\n    </tr>\\n    <tr>\\n      <th>13</th>\\n      <td>Chapter 2 : Plants, Groups, and Sub-Groups and Energy Storage .................................................................................. 3</td>\\n      <td>UncategorizedText</td>\\n      <td>NaN</td>\\n    </tr>\\n    <tr>\\n      <th>14</th>\\n      <td>Chapter 3 : Configuration Data ....................................................................................................................................... 5</td>\\n      <td>UncategorizedText</td>\\n      <td>NaN</td>\\n    </tr>\\n    <tr>\\n      <th>15</th>\\n      <td>Chapter 4 : Performance Reporting .............................................................................................................................. 12</td>\\n      <td>UncategorizedText</td>\\n      <td>NaN</td>\\n    </tr>\\n    <tr>\\n      <th>16</th>\\n      <td>Chapter 5 : Event Reporting .......................................................................................................................................... 16</td>\\n      <td>UncategorizedText</td>\\n      <td>NaN</td>\\n    </tr>\\n    <tr>\\n      <th>17</th>\\n      <td>Appendix A : GADS Wind Reporting Application Data Release Guidelines................................................................... 23</td>\\n      <td>UncategorizedText</td>\\n      <td>NaN</td>\\n    </tr>\\n    <tr>\\n      <th>18</th>\\n      <td>Appendix B : Entity and Subgroup Identification .......................................................................................................... 24</td>\\n      <td>UncategorizedText</td>\\n      <td>NaN</td>\\n    </tr>\\n    <tr>\\n      <th>19</th>\\n      <td>Appendix C : Reference Tables ...................................................................................................................................... 25</td>\\n      <td>UncategorizedText</td>\\n      <td>NaN</td>\\n    </tr>\\n    <tr>\\n      <th>20</th>\\n      <td>Appendix D : Ownership Status .................................................................................................................................... 32</td>\\n      <td>UncategorizedText</td>\\n      <td>NaN</td>\\n    </tr>\\n    <tr>\\n      <th>21</th>\\n      <td>Appendix E : Glossary .................................................................................................................................................... 35</td>\\n      <td>UncategorizedText</td>\\n      <td>NaN</td>\\n    </tr>\\n    <tr>\\n      <th>22</th>\\n      <td>Appendix F : Abbreviations ........................................................................................................................................... 40</td>\\n      <td>UncategorizedText</td>\\n      <td>NaN</td>\\n    </tr>\\n    <tr>\\n      <th>23</th>\\n      <td>Appendix G : Turbine States and Hours ........................................................................................................................ 43</td>\\n      <td>UncategorizedText</td>\\n      <td>NaN</td>\\n    </tr>\\n    <tr>\\n      <th>24</th>\\n      <td>Subgroup Availability States ...................................................................................................................................... 44</td>\\n      <td>UncategorizedText</td>\\n      <td>NaN</td>\\n    </tr>\\n    <tr>\\n      <th>25</th>\\n      <td>Subgroup Hours ......................................................................................................................................................... 45</td>\\n      <td>UncategorizedText</td>\\n      <td>NaN</td>\\n    </tr>\\n    <tr>\\n      <th>26</th>\\n      <td>NERC | GADS Wind Data Reporting Instructions | January 2024 ii</td>\\n      <td>Title</td>\\n      <td>NaN</td>\\n    </tr>\\n  </tbody>\\n</table>'"
      ]
     },
     "execution_count": 32,
     "metadata": {},
     "output_type": "execute_result"
    }
   ],
   "source": [
    "df[df['metadata.page_number']==2][['text','type','metadata.text_as_html']].to_html()"
   ]
  },
  {
   "cell_type": "code",
   "execution_count": 34,
   "metadata": {},
   "outputs": [],
   "source": [
    "from bs4 import BeautifulSoup\n",
    "def html_table_to_markdown(html):\n",
    "    soup = BeautifulSoup(html, 'html.parser')\n",
    "    table = soup.find('table')\n",
    "    markdown = \"\"\n",
    "    \n",
    "    if table:\n",
    "        headers = [th.get_text(strip=True) for th in table.find_all('th')]\n",
    "        rows = [[td.get_text(strip=True) for td in tr.find_all('td')] for tr in table.find_all('tr')]\n",
    "        \n",
    "        # Add headers\n",
    "        markdown += \"| \" + \" | \".join(headers) + \" |\\n\"\n",
    "        markdown += \"| \" + \" | \".join([\"---\"] * len(headers)) + \" |\\n\"\n",
    "        \n",
    "        # Add rows\n",
    "        for row in rows:\n",
    "            markdown += \"| \" + \" | \".join(row) + \" |\\n\"\n",
    "    \n",
    "    return markdown\n",
    "\n",
    "def df_to_markdown(df):\n",
    "    markdown = \"\"\n",
    "    \n",
    "    for index, row in df.iterrows():\n",
    "        text = row['text']\n",
    "        text_type = row['type']\n",
    "        html_content = row['metadata.text_as_html']\n",
    "        \n",
    "        if text_type == 'Title':\n",
    "            markdown += f\"# {text}\\n\\n\"\n",
    "        elif text_type == 'NarrativeText':\n",
    "            markdown += f\"{text}\\n\\n\"\n",
    "        elif text_type == 'UncategorizedText':\n",
    "            markdown += f\"**{text}**\\n\\n\"\n",
    "        elif text_type == 'ListItem':\n",
    "            markdown += f\"- {text}\\n\"\n",
    "        elif text_type == 'Image':\n",
    "            markdown += f\"![Image]({text})\\n\\n\"\n",
    "        elif text_type == 'Table' and pd.notna(html_content):\n",
    "            markdown += html_table_to_markdown(html_content) + \"\\n\\n\"\n",
    "        else:\n",
    "            markdown += f\"{text}\\n\\n\"\n",
    "    \n",
    "    return markdown"
   ]
  },
  {
   "cell_type": "code",
   "execution_count": 39,
   "metadata": {},
   "outputs": [],
   "source": [
    "markdown_formated = df_to_markdown(df[df['metadata.page_number']==77])"
   ]
  },
  {
   "cell_type": "code",
   "execution_count": 40,
   "metadata": {},
   "outputs": [
    {
     "data": {
      "text/html": [
       "<pre style=\"white-space:pre;overflow-x:auto;line-height:normal;font-family:Menlo,'DejaVu Sans Mono',consolas,'Courier New',monospace\"><span style=\"color: #008000; text-decoration-color: #008000\">'Appendix N: Examples\\n\\n|  |\\n|  |\\n| Outage delayed by Work Code: | pandemic loss of manpower delayed Ext&gt;Pandemic (9015) | Outage repair resumes Code: Original cause and type |\\n\\n\\n![Image](Outage delayed by pandemic loss of manpower  Work delayed  Code: Ext&gt;Pandemic (9015)  )\\n\\n![Image](Time  )\\n\\n# Time\\n\\n# NERC | GADS Wind Data Reporting Instructions | January 2024 71\\n\\n'</span>\n",
       "</pre>\n"
      ],
      "text/plain": [
       "\u001b[32m'Appendix N: Examples\\n\\n|  |\\n|  |\\n| Outage delayed by Work Code: | pandemic loss of manpower delayed Ext>Pandemic \u001b[0m\u001b[32m(\u001b[0m\u001b[32m9015\u001b[0m\u001b[32m)\u001b[0m\u001b[32m | Outage repair resumes Code: Original cause and type |\\n\\n\\n!\u001b[0m\u001b[32m[\u001b[0m\u001b[32mImage\u001b[0m\u001b[32m]\u001b[0m\u001b[32m(\u001b[0m\u001b[32mOutage delayed by pandemic loss of manpower  Work delayed  Code: Ext>Pandemic \u001b[0m\u001b[32m(\u001b[0m\u001b[32m9015\u001b[0m\u001b[32m)\u001b[0m\u001b[32m  \u001b[0m\u001b[32m)\u001b[0m\u001b[32m\\n\\n!\u001b[0m\u001b[32m[\u001b[0m\u001b[32mImage\u001b[0m\u001b[32m]\u001b[0m\u001b[32m(\u001b[0m\u001b[32mTime  \u001b[0m\u001b[32m)\u001b[0m\u001b[32m\\n\\n# Time\\n\\n# NERC | GADS Wind Data Reporting Instructions | January 2024 71\\n\\n'\u001b[0m\n"
      ]
     },
     "metadata": {},
     "output_type": "display_data"
    }
   ],
   "source": [
    "# from rich.pretty import pprint\n",
    "# pprint(markdown_formated)"
   ]
  },
  {
   "cell_type": "code",
   "execution_count": 41,
   "metadata": {},
   "outputs": [
    {
     "data": {
      "text/html": [
       "<pre style=\"white-space:pre;overflow-x:auto;line-height:normal;font-family:Menlo,'DejaVu Sans Mono',consolas,'Courier New',monospace\">╭─────────────────────────────────────────────────────────────────────────────────────────────────────────────────╮\n",
       "│ Appendix N: Examples                                                                                            │\n",
       "│                                                                                                                 │\n",
       "│ |  |                                                                                                            │\n",
       "│ |  |                                                                                                            │\n",
       "│ | Outage delayed by Work Code: | pandemic loss of manpower delayed Ext&gt;Pandemic (9015) | Outage repair resumes  │\n",
       "│ Code: Original cause and type |                                                                                 │\n",
       "│                                                                                                                 │\n",
       "│                                                                                                                 │\n",
       "│ ![Image](Outage delayed by pandemic loss of manpower  Work delayed  Code: Ext&gt;Pandemic (9015)  )                │\n",
       "│                                                                                                                 │\n",
       "│ ![Image](Time  )                                                                                                │\n",
       "│                                                                                                                 │\n",
       "│ # Time                                                                                                          │\n",
       "│                                                                                                                 │\n",
       "│ # NERC | GADS Wind Data Reporting Instructions | January 2024 71                                                │\n",
       "│                                                                                                                 │\n",
       "│                                                                                                                 │\n",
       "╰─────────────────────────────────────────────────────────────────────────────────────────────────────────────────╯\n",
       "</pre>\n"
      ],
      "text/plain": [
       "╭─────────────────────────────────────────────────────────────────────────────────────────────────────────────────╮\n",
       "│ Appendix N: Examples                                                                                            │\n",
       "│                                                                                                                 │\n",
       "│ |  |                                                                                                            │\n",
       "│ |  |                                                                                                            │\n",
       "│ | Outage delayed by Work Code: | pandemic loss of manpower delayed Ext>Pandemic (9015) | Outage repair resumes  │\n",
       "│ Code: Original cause and type |                                                                                 │\n",
       "│                                                                                                                 │\n",
       "│                                                                                                                 │\n",
       "│ ![Image](Outage delayed by pandemic loss of manpower  Work delayed  Code: Ext>Pandemic (9015)  )                │\n",
       "│                                                                                                                 │\n",
       "│ ![Image](Time  )                                                                                                │\n",
       "│                                                                                                                 │\n",
       "│ # Time                                                                                                          │\n",
       "│                                                                                                                 │\n",
       "│ # NERC | GADS Wind Data Reporting Instructions | January 2024 71                                                │\n",
       "│                                                                                                                 │\n",
       "│                                                                                                                 │\n",
       "╰─────────────────────────────────────────────────────────────────────────────────────────────────────────────────╯\n"
      ]
     },
     "metadata": {},
     "output_type": "display_data"
    }
   ],
   "source": [
    "from rich.console import Console\n",
    "from rich.panel import Panel\n",
    "console = Console()\n",
    "console.print(Panel(markdown_formated))"
   ]
  },
  {
   "cell_type": "code",
   "execution_count": 50,
   "metadata": {},
   "outputs": [
    {
     "data": {
      "text/html": [
       "<pre style=\"white-space:pre;overflow-x:auto;line-height:normal;font-family:Menlo,'DejaVu Sans Mono',consolas,'Courier New',monospace\">╭─────────────────────────────────────────────────────────────────────────────────────────────────────────────────╮\n",
       "│ Appendix L: Frequently Asked Questions                                                                          │\n",
       "│                                                                                                                 │\n",
       "│ When the value in the denominator is similar between the two equations, the results will be similar. When large │\n",
       "│ numbers aren’t included in the denominator, the result can be surprising. An example of this is: Plant A has    │\n",
       "│ 100 turbines, and there are 744 hours in the month. Therefore ACTH = 74,400 hrs. The plant will be down the     │\n",
       "│ entire month for a planned substation outage. Going into the outage, there is one turbine on FO (Gearbox). The  │\n",
       "│ gearbox is not repaired during the outage.                                                                      │\n",
       "│                                                                                                                 │\n",
       "│ What are equivalent hours? At times, turbines or systems are not out of service but their capacity is reduced.  │\n",
       "│ During this time, the turbine or system is still accumulating contactor hours. The reduced capacity is          │\n",
       "│ calculated as equivalent hours and added to the hours in the numerator only. For example, a wind turbine is     │\n",
       "│ derated 25% for five days. The equivalent hours = 5 days x 24 hrs. /day x 25% = 30 hrs.                         │\n",
       "│                                                                                                                 │\n",
       "│ What roll-up method should be used for multiple technologies? Roll‐up calculations for metrics that have        │\n",
       "│ physical characteristics are straightforward. Simply sum the metric and divide by the number of sites. A metric │\n",
       "│ with physical characteristics would be dollars, kilowatts, etc. Time metrics represent the length of time in    │\n",
       "│ which an event occurs. An example of this would be comparing one hour of run time for a 2,000 MW nuclear plant  │\n",
       "│ to a 1 MW wind turbine. Clearly, one hour of EFOR at the nuclear plant has greater consequences then one hour   │\n",
       "│ of EFOR at the wind turbine. Another way of looking at this is to compare a 2,000 MW nuclear plant with a wind  │\n",
       "│ plant with 2,000 1MW wind turbines.                                                                             │\n",
       "│                                                                                                                 │\n",
       "│ The pooling equations previously listed work reasonably well when rolling up hourly metrics with turbines of    │\n",
       "│ the same installed capacity, but errors can be introduced when plant net capacity factors (NCF) vary widely.    │\n",
       "│ Wind is different from conventional generation in several aspects, such as dealing with large numbers of        │\n",
       "│ smaller units, variable fuel sources, and temperature constraints. The impact to the wind turbine is no         │\n",
       "│ different than adjusting a conventional plant’s capacity based upon inlet water temperature cooling capacity.   │\n",
       "│ The site dependable capacity varies, depending upon the current environment, therefore, there can be a large    │\n",
       "│ difference between the installed capacity and dependable capacity.                                              │\n",
       "│                                                                                                                 │\n",
       "│ Some of the methods for rolling up data into a portfolio metric are:                                            │\n",
       "│                                                                                                                 │\n",
       "│ - 1. Averaging: Averaging percentages will only work in certain situations, such as when averaging monthly data │\n",
       "│ for a single site. In this situation, the pooling equations would be a better choice than averaging             │\n",
       "│ - 2. Pooling: Pooling equations only work when rolling up plants with similar turbine capacities. When          │\n",
       "│ selecting the pool, plants with similar resource characteristics should be selected.                            │\n",
       "│ - 3. Generation: Generation weighting will work when EFOR is low. When EFOR goes above 10%, significant errors  │\n",
       "│ occur. At 100% EFOR, there is no generation and therefore no weight (See Figure L.3). This method should be     │\n",
       "│ avoided.                                                                                                        │\n",
       "│ - Installed Capacity: Installed capacity weighting will work but does not take into account the differences in  │\n",
       "│ turbine efficiency and plant capability based on resources.                                                     │\n",
       "│ - 5. Net Dependable Energy: Net dependable energy is the maximum amount of energy that could be produced based  │\n",
       "│ on the resource available. This could also be called the entitlement for the project for the specified period   │\n",
       "│ of time. This method works in all cases. (See Figure L.3)                                                       │\n",
       "│ - 6. Net Dependable Capacity (NDC): This gives the same result as Net dependable energy. NDC is the amount of   │\n",
       "│ generation that a plant is capable of producing for that month. The installed capacity may be much higher, but  │\n",
       "│ over a period of time, a wind plant will never achieve 100% of its installed capacity when compared to a        │\n",
       "│ conventional plant that can easily achieve 100% of its rated capacity.                                          │\n",
       "│ # NERC | GADS Wind Data Reporting Instructions | January 2024 61                                                │\n",
       "│                                                                                                                 │\n",
       "│                                                                                                                 │\n",
       "╰─────────────────────────────────────────────────────────────────────────────────────────────────────────────────╯\n",
       "</pre>\n"
      ],
      "text/plain": [
       "╭─────────────────────────────────────────────────────────────────────────────────────────────────────────────────╮\n",
       "│ Appendix L: Frequently Asked Questions                                                                          │\n",
       "│                                                                                                                 │\n",
       "│ When the value in the denominator is similar between the two equations, the results will be similar. When large │\n",
       "│ numbers aren’t included in the denominator, the result can be surprising. An example of this is: Plant A has    │\n",
       "│ 100 turbines, and there are 744 hours in the month. Therefore ACTH = 74,400 hrs. The plant will be down the     │\n",
       "│ entire month for a planned substation outage. Going into the outage, there is one turbine on FO (Gearbox). The  │\n",
       "│ gearbox is not repaired during the outage.                                                                      │\n",
       "│                                                                                                                 │\n",
       "│ What are equivalent hours? At times, turbines or systems are not out of service but their capacity is reduced.  │\n",
       "│ During this time, the turbine or system is still accumulating contactor hours. The reduced capacity is          │\n",
       "│ calculated as equivalent hours and added to the hours in the numerator only. For example, a wind turbine is     │\n",
       "│ derated 25% for five days. The equivalent hours = 5 days x 24 hrs. /day x 25% = 30 hrs.                         │\n",
       "│                                                                                                                 │\n",
       "│ What roll-up method should be used for multiple technologies? Roll‐up calculations for metrics that have        │\n",
       "│ physical characteristics are straightforward. Simply sum the metric and divide by the number of sites. A metric │\n",
       "│ with physical characteristics would be dollars, kilowatts, etc. Time metrics represent the length of time in    │\n",
       "│ which an event occurs. An example of this would be comparing one hour of run time for a 2,000 MW nuclear plant  │\n",
       "│ to a 1 MW wind turbine. Clearly, one hour of EFOR at the nuclear plant has greater consequences then one hour   │\n",
       "│ of EFOR at the wind turbine. Another way of looking at this is to compare a 2,000 MW nuclear plant with a wind  │\n",
       "│ plant with 2,000 1MW wind turbines.                                                                             │\n",
       "│                                                                                                                 │\n",
       "│ The pooling equations previously listed work reasonably well when rolling up hourly metrics with turbines of    │\n",
       "│ the same installed capacity, but errors can be introduced when plant net capacity factors (NCF) vary widely.    │\n",
       "│ Wind is different from conventional generation in several aspects, such as dealing with large numbers of        │\n",
       "│ smaller units, variable fuel sources, and temperature constraints. The impact to the wind turbine is no         │\n",
       "│ different than adjusting a conventional plant’s capacity based upon inlet water temperature cooling capacity.   │\n",
       "│ The site dependable capacity varies, depending upon the current environment, therefore, there can be a large    │\n",
       "│ difference between the installed capacity and dependable capacity.                                              │\n",
       "│                                                                                                                 │\n",
       "│ Some of the methods for rolling up data into a portfolio metric are:                                            │\n",
       "│                                                                                                                 │\n",
       "│ - 1. Averaging: Averaging percentages will only work in certain situations, such as when averaging monthly data │\n",
       "│ for a single site. In this situation, the pooling equations would be a better choice than averaging             │\n",
       "│ - 2. Pooling: Pooling equations only work when rolling up plants with similar turbine capacities. When          │\n",
       "│ selecting the pool, plants with similar resource characteristics should be selected.                            │\n",
       "│ - 3. Generation: Generation weighting will work when EFOR is low. When EFOR goes above 10%, significant errors  │\n",
       "│ occur. At 100% EFOR, there is no generation and therefore no weight (See Figure L.3). This method should be     │\n",
       "│ avoided.                                                                                                        │\n",
       "│ - Installed Capacity: Installed capacity weighting will work but does not take into account the differences in  │\n",
       "│ turbine efficiency and plant capability based on resources.                                                     │\n",
       "│ - 5. Net Dependable Energy: Net dependable energy is the maximum amount of energy that could be produced based  │\n",
       "│ on the resource available. This could also be called the entitlement for the project for the specified period   │\n",
       "│ of time. This method works in all cases. (See Figure L.3)                                                       │\n",
       "│ - 6. Net Dependable Capacity (NDC): This gives the same result as Net dependable energy. NDC is the amount of   │\n",
       "│ generation that a plant is capable of producing for that month. The installed capacity may be much higher, but  │\n",
       "│ over a period of time, a wind plant will never achieve 100% of its installed capacity when compared to a        │\n",
       "│ conventional plant that can easily achieve 100% of its rated capacity.                                          │\n",
       "│ # NERC | GADS Wind Data Reporting Instructions | January 2024 61                                                │\n",
       "│                                                                                                                 │\n",
       "│                                                                                                                 │\n",
       "╰─────────────────────────────────────────────────────────────────────────────────────────────────────────────────╯\n"
      ]
     },
     "metadata": {},
     "output_type": "display_data"
    }
   ],
   "source": [
    "markdown_formated = df_to_markdown(df[df['metadata.page_number']==67])\n",
    "console = Console()\n",
    "console.print(Panel(markdown_formated))"
   ]
  },
  {
   "cell_type": "code",
   "execution_count": 51,
   "metadata": {},
   "outputs": [],
   "source": [
    "def json_to_markdown_by_page(json_data):\n",
    "    markdown_by_page = {}\n",
    "    for item in json_data:\n",
    "        page_number = item['metadata']['page_number']\n",
    "        text = item['text']\n",
    "        text_type = item['type']\n",
    "        html_content = item['metadata'].get('text_as_html')  # Use get() to handle missing keys\n",
    "\n",
    "        if page_number not in markdown_by_page:\n",
    "            markdown_by_page[page_number] = \"\"\n",
    "\n",
    "        if text_type == 'Title':\n",
    "            markdown_by_page[page_number] += f\"# {text}\\n\\n\"\n",
    "        elif text_type == 'NarrativeText':\n",
    "            markdown_by_page[page_number] += f\"{text}\\n\\n\"\n",
    "        elif text_type == 'UncategorizedText':\n",
    "            markdown_by_page[page_number] += f\"**{text}**\\n\\n\"\n",
    "        elif text_type == 'ListItem':\n",
    "            markdown_by_page[page_number] += f\"- {text}\\n\"\n",
    "        elif text_type == 'Image':\n",
    "            markdown_by_page[page_number] += f\"![Image]({text})\\n\\n\"\n",
    "        elif text_type == 'Table' and pd.notna(html_content):\n",
    "            markdown_by_page[page_number] += html_table_to_markdown(html_content) + \"\\n\\n\"\n",
    "        else:\n",
    "            markdown_by_page[page_number] += f\"{text}\\n\\n\"\n",
    "\n",
    "    return markdown_by_page"
   ]
  },
  {
   "cell_type": "code",
   "execution_count": 52,
   "metadata": {},
   "outputs": [],
   "source": [
    "makrkdown_by_page = json_to_markdown_by_page(response)"
   ]
  },
  {
   "cell_type": "code",
   "execution_count": 55,
   "metadata": {},
   "outputs": [
    {
     "data": {
      "text/html": [
       "<pre style=\"white-space:pre;overflow-x:auto;line-height:normal;font-family:Menlo,'DejaVu Sans Mono',consolas,'Courier New',monospace\">╭─────────────────────────────────────────────────────────────────────────────────────────────────────────────────╮\n",
       "│ Appendix M: Equations                                                                                           │\n",
       "│                                                                                                                 │\n",
       "│ - 1.A.4. Resource Equivalent Maintenance Outage Factor (REMOF) % of period that the plant was in maintenance    │\n",
       "│ downtime.                                                                                                       │\n",
       "│ 𝑅𝐸𝑀𝑂𝐹 = (𝑀𝑇𝐻) 𝐴𝐶𝑇𝐻 × 100                                                                                        │\n",
       "│                                                                                                                 │\n",
       "│ - 1.A.5. Resource Equivalent Forced Outage Factor (REFOF)                                                       │\n",
       "│ % of period that the plant was forced off line. Including low and high winds.                                   │\n",
       "│                                                                                                                 │\n",
       "│ 𝑅𝐸𝐹𝑂𝐹 = (𝐹𝑇𝐻 + 𝑅𝑈𝑇𝐻) 𝐴𝐶𝑇𝐻 × 100                                                                                 │\n",
       "│                                                                                                                 │\n",
       "│ - 1.A.6. Resource Equivalent Unplanned Outage Factor (REUOF) % of period that the plant was unavailable due to  │\n",
       "│ forced and maintenance downtime. For generation resource planning.                                              │\n",
       "│ |  |                                                                                                            │\n",
       "│ |  |                                                                                                            │\n",
       "│ |  | REUOF | (FTH = | ACTH | RUTH) -—————_—__— | x | 100 |                                                      │\n",
       "│                                                                                                                 │\n",
       "│                                                                                                                 │\n",
       "│ **× 100**                                                                                                       │\n",
       "│                                                                                                                 │\n",
       "│ - 1.A.7. Resource Equivalent Scheduled Outage Factor (RESOF)                                                    │\n",
       "│ - % of period that the plant was unavailable due to maintenance and planned downtime.                           │\n",
       "│ 𝑅𝐸𝑆𝑂𝐹 = (𝑀𝑇𝐻 + 𝑃𝑇𝐻) 𝐴𝐶𝑇𝐻 × 100                                                                                  │\n",
       "│                                                                                                                 │\n",
       "│ - 1.A.8. Resource Generating Factor (RGF)                                                                       │\n",
       "│ % of period that the plant was online and in a generating state.                                                │\n",
       "│                                                                                                                 │\n",
       "│ 𝑅𝐺𝐹 = (𝐶𝑇𝐻) 𝐴𝐶𝑇𝐻 × 100                                                                                          │\n",
       "│                                                                                                                 │\n",
       "│ - 1.A.9. Resource Net Capacity Factor (RNCF) % of actual plant generation.                                      │\n",
       "│ 𝑅𝑁𝐶𝐹 = 𝑁𝐴𝐺 (𝐴𝐶𝑇𝐻 × 𝑇𝑁𝑀𝐶) × 100                                                                                  │\n",
       "│                                                                                                                 │\n",
       "│ # 1.A.10. Net Output Factor (NOF)                                                                               │\n",
       "│                                                                                                                 │\n",
       "│ % of actual plant loading when on-line.                                                                         │\n",
       "│                                                                                                                 │\n",
       "│ 𝑁𝑂𝐹 = 𝑁𝐴𝐺 [(𝐶𝑇𝐻) × 𝑇𝑁𝑀𝐶] × 100                                                                                  │\n",
       "│                                                                                                                 │\n",
       "│ 1.A.11. Resource Equivalent Planned Outage Rate (REPOR)                                                         │\n",
       "│                                                                                                                 │\n",
       "│ Probability of planned plant downtime when needed for load.                                                     │\n",
       "│                                                                                                                 │\n",
       "│ 𝑅𝐸𝑃𝑂𝑅 = (𝑃𝑇𝐻) [(𝐶𝑇𝐻) + 𝑃𝑇𝐻] × 100                                                                               │\n",
       "│                                                                                                                 │\n",
       "│ # NERC | GADS Wind Data Reporting Instructions | January 2024 65                                                │\n",
       "│                                                                                                                 │\n",
       "│                                                                                                                 │\n",
       "╰─────────────────────────────────────────────────────────────────────────────────────────────────────────────────╯\n",
       "</pre>\n"
      ],
      "text/plain": [
       "╭─────────────────────────────────────────────────────────────────────────────────────────────────────────────────╮\n",
       "│ Appendix M: Equations                                                                                           │\n",
       "│                                                                                                                 │\n",
       "│ - 1.A.4. Resource Equivalent Maintenance Outage Factor (REMOF) % of period that the plant was in maintenance    │\n",
       "│ downtime.                                                                                                       │\n",
       "│ 𝑅𝐸𝑀𝑂𝐹 = (𝑀𝑇𝐻) 𝐴𝐶𝑇𝐻 × 100                                                                                        │\n",
       "│                                                                                                                 │\n",
       "│ - 1.A.5. Resource Equivalent Forced Outage Factor (REFOF)                                                       │\n",
       "│ % of period that the plant was forced off line. Including low and high winds.                                   │\n",
       "│                                                                                                                 │\n",
       "│ 𝑅𝐸𝐹𝑂𝐹 = (𝐹𝑇𝐻 + 𝑅𝑈𝑇𝐻) 𝐴𝐶𝑇𝐻 × 100                                                                                 │\n",
       "│                                                                                                                 │\n",
       "│ - 1.A.6. Resource Equivalent Unplanned Outage Factor (REUOF) % of period that the plant was unavailable due to  │\n",
       "│ forced and maintenance downtime. For generation resource planning.                                              │\n",
       "│ |  |                                                                                                            │\n",
       "│ |  |                                                                                                            │\n",
       "│ |  | REUOF | (FTH = | ACTH | RUTH) -—————_—__— | x | 100 |                                                      │\n",
       "│                                                                                                                 │\n",
       "│                                                                                                                 │\n",
       "│ **× 100**                                                                                                       │\n",
       "│                                                                                                                 │\n",
       "│ - 1.A.7. Resource Equivalent Scheduled Outage Factor (RESOF)                                                    │\n",
       "│ - % of period that the plant was unavailable due to maintenance and planned downtime.                           │\n",
       "│ 𝑅𝐸𝑆𝑂𝐹 = (𝑀𝑇𝐻 + 𝑃𝑇𝐻) 𝐴𝐶𝑇𝐻 × 100                                                                                  │\n",
       "│                                                                                                                 │\n",
       "│ - 1.A.8. Resource Generating Factor (RGF)                                                                       │\n",
       "│ % of period that the plant was online and in a generating state.                                                │\n",
       "│                                                                                                                 │\n",
       "│ 𝑅𝐺𝐹 = (𝐶𝑇𝐻) 𝐴𝐶𝑇𝐻 × 100                                                                                          │\n",
       "│                                                                                                                 │\n",
       "│ - 1.A.9. Resource Net Capacity Factor (RNCF) % of actual plant generation.                                      │\n",
       "│ 𝑅𝑁𝐶𝐹 = 𝑁𝐴𝐺 (𝐴𝐶𝑇𝐻 × 𝑇𝑁𝑀𝐶) × 100                                                                                  │\n",
       "│                                                                                                                 │\n",
       "│ # 1.A.10. Net Output Factor (NOF)                                                                               │\n",
       "│                                                                                                                 │\n",
       "│ % of actual plant loading when on-line.                                                                         │\n",
       "│                                                                                                                 │\n",
       "│ 𝑁𝑂𝐹 = 𝑁𝐴𝐺 [(𝐶𝑇𝐻) × 𝑇𝑁𝑀𝐶] × 100                                                                                  │\n",
       "│                                                                                                                 │\n",
       "│ 1.A.11. Resource Equivalent Planned Outage Rate (REPOR)                                                         │\n",
       "│                                                                                                                 │\n",
       "│ Probability of planned plant downtime when needed for load.                                                     │\n",
       "│                                                                                                                 │\n",
       "│ 𝑅𝐸𝑃𝑂𝑅 = (𝑃𝑇𝐻) [(𝐶𝑇𝐻) + 𝑃𝑇𝐻] × 100                                                                               │\n",
       "│                                                                                                                 │\n",
       "│ # NERC | GADS Wind Data Reporting Instructions | January 2024 65                                                │\n",
       "│                                                                                                                 │\n",
       "│                                                                                                                 │\n",
       "╰─────────────────────────────────────────────────────────────────────────────────────────────────────────────────╯\n"
      ]
     },
     "metadata": {},
     "output_type": "display_data"
    }
   ],
   "source": [
    "console = Console()\n",
    "console.print(Panel(makrkdown_by_page[71]))"
   ]
  },
  {
   "cell_type": "code",
   "execution_count": null,
   "metadata": {},
   "outputs": [],
   "source": []
  }
 ],
 "metadata": {
  "kernelspec": {
   "display_name": "Python 3",
   "language": "python",
   "name": "python3"
  },
  "language_info": {
   "codemirror_mode": {
    "name": "ipython",
    "version": 3
   },
   "file_extension": ".py",
   "mimetype": "text/x-python",
   "name": "python",
   "nbconvert_exporter": "python",
   "pygments_lexer": "ipython3",
   "version": "3.11.8"
  }
 },
 "nbformat": 4,
 "nbformat_minor": 2
}
