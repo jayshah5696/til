{
 "cells": [
  {
   "cell_type": "code",
   "execution_count": 1,
   "metadata": {},
   "outputs": [
    {
     "name": "stdout",
     "output_type": "stream",
     "text": [
      "name='Jason' age=30\n"
     ]
    }
   ],
   "source": [
    "from openai import OpenAI\n",
    "from pydantic import BaseModel\n",
    "import instructor\n",
    "\n",
    "\n",
    "class UserDetail(BaseModel):\n",
    "    name: str\n",
    "    age: int\n",
    "\n",
    "\n",
    "# enables `response_model` in create call\n",
    "client = instructor.patch(\n",
    "    OpenAI(\n",
    "        base_url=\"http://localhost:11434/v1\",\n",
    "        api_key=\"ollama\",  # required, but unused\n",
    "    ),\n",
    "    mode=instructor.Mode.JSON,\n",
    ")\n",
    "\n",
    "user = client.chat.completions.create(\n",
    "    model=\"adrienbrault/nous-hermes2pro:Q8_0\",\n",
    "    messages=[\n",
    "        {\n",
    "            \"role\": \"user\",\n",
    "            \"content\": \"Jason is 30 years old\",\n",
    "        }\n",
    "    ],\n",
    "    response_model=UserDetail,\n",
    ")\n",
    "\n",
    "print(user)\n",
    "#> name='Jason' age=30"
   ]
  },
  {
   "cell_type": "code",
   "execution_count": 2,
   "metadata": {},
   "outputs": [
    {
     "name": "stdout",
     "output_type": "stream",
     "text": [
      "name='John Doe' age=32\n",
      "name='Jane Smith' age=27\n",
      "name='Alexander Brown' age=45\n",
      "name='Alice Johnson' age=30\n",
      "name='Tom Green' age=19\n"
     ]
    }
   ],
   "source": [
    "from typing import Iterable\n",
    "\n",
    "def generate_fake_users(count: int) -> Iterable[UserDetail]:\n",
    "    return client.chat.completions.create(\n",
    "        model=\"adrienbrault/nous-hermes2pro:Q8_0\",\n",
    "        response_model=Iterable[UserDetail],\n",
    "        messages=[\n",
    "            {\"role\": \"user\", \"content\": f\"Generate a {count} synthetic users\"},\n",
    "        ],\n",
    "    )\n",
    "\n",
    "\n",
    "for user in generate_fake_users(5):\n",
    "    print(user)"
   ]
  },
  {
   "cell_type": "code",
   "execution_count": 4,
   "metadata": {},
   "outputs": [],
   "source": [
    "from pydantic import Field, BaseModel, model_validator, ValidationInfo\n",
    "from typing import List\n",
    "import re\n",
    "\n",
    "\n",
    "class Fact(BaseModel):\n",
    "    fact: str = Field(...)\n",
    "    substring_quote: List[str] = Field(...)\n",
    "\n",
    "    @model_validator(mode=\"after\")\n",
    "    def validate_sources(self, info: ValidationInfo) -> \"Fact\":\n",
    "        text_chunks = info.context.get(\"text_chunk\", None)\n",
    "        spans = list(self.get_spans(text_chunks))\n",
    "        self.substring_quote = [text_chunks[span[0] : span[1]] for span in spans]\n",
    "        return self\n",
    "\n",
    "    def get_spans(self, context):\n",
    "        for quote in self.substring_quote:\n",
    "            yield from self._get_span(quote, context)\n",
    "\n",
    "    def _get_span(self, quote, context):\n",
    "        for match in re.finditer(re.escape(quote), context):\n",
    "            yield match.span()"
   ]
  },
  {
   "cell_type": "code",
   "execution_count": 5,
   "metadata": {},
   "outputs": [],
   "source": [
    "class QuestionAnswer(BaseModel):\n",
    "    question: str = Field(...)\n",
    "    answer: List[Fact] = Field(...)\n",
    "\n",
    "    @model_validator(mode=\"after\")\n",
    "    def validate_sources(self) -> \"QuestionAnswer\":\n",
    "        self.answer = [fact for fact in self.answer if len(fact.substring_quote) > 0]\n",
    "        return self"
   ]
  },
  {
   "cell_type": "code",
   "execution_count": 10,
   "metadata": {},
   "outputs": [
    {
     "data": {
      "text/plain": [
       "{'$defs': {'Fact': {'properties': {'fact': {'title': 'Fact', 'type': 'string'},\n",
       "    'substring_quote': {'items': {'type': 'string'},\n",
       "     'title': 'Substring Quote',\n",
       "     'type': 'array'}},\n",
       "   'required': ['fact', 'substring_quote'],\n",
       "   'title': 'Fact',\n",
       "   'type': 'object'}},\n",
       " 'properties': {'question': {'title': 'Question', 'type': 'string'},\n",
       "  'answer': {'items': {'$ref': '#/$defs/Fact'},\n",
       "   'title': 'Answer',\n",
       "   'type': 'array'}},\n",
       " 'required': ['question', 'answer'],\n",
       " 'title': 'QuestionAnswer',\n",
       " 'type': 'object'}"
      ]
     },
     "execution_count": 10,
     "metadata": {},
     "output_type": "execute_result"
    }
   ],
   "source": [
    "QuestionAnswer.model_json_schema()"
   ]
  },
  {
   "cell_type": "markdown",
   "metadata": {},
   "source": [
    "### Looks like complicated cases are not handled well\n",
    "\n",
    "why? openai models are really good in handling the cases with the complicated JSON structure\n"
   ]
  },
  {
   "cell_type": "code",
   "execution_count": 11,
   "metadata": {},
   "outputs": [],
   "source": [
    "class QuestionAnswer(BaseModel):\n",
    "    question: str\n",
    "    answer: str\n",
    "    citations: List[str]\n"
   ]
  },
  {
   "cell_type": "code",
   "execution_count": 15,
   "metadata": {},
   "outputs": [
    {
     "data": {
      "text/plain": [
       "{'properties': {'question': {'title': 'Question', 'type': 'string'},\n",
       "  'answer': {'title': 'Answer', 'type': 'string'},\n",
       "  'citations': {'items': {'type': 'string'},\n",
       "   'title': 'Citations',\n",
       "   'type': 'array'}},\n",
       " 'required': ['question', 'answer', 'citations'],\n",
       " 'title': 'QuestionAnswer',\n",
       " 'type': 'object'}"
      ]
     },
     "execution_count": 15,
     "metadata": {},
     "output_type": "execute_result"
    }
   ],
   "source": [
    "QuestionAnswer.model_json_schema()"
   ]
  },
  {
   "cell_type": "code",
   "execution_count": 12,
   "metadata": {},
   "outputs": [],
   "source": [
    "\n",
    "def ask_ai(question: str, context: str) -> QuestionAnswer:\n",
    "    return client.chat.completions.create(\n",
    "        model=\"adrienbrault/nous-hermes2pro:Q8_0\",\n",
    "        temperature=0.1,\n",
    "        response_model=QuestionAnswer,\n",
    "        messages=[\n",
    "            {\n",
    "                \"role\": \"system\",\n",
    "                \"content\": \"You are a world class algorithm to answer questions with correct and exact citations.\",\n",
    "            },\n",
    "            {\"role\": \"user\", \"content\": f\"{context}\"},\n",
    "            {\"role\": \"user\", \"content\": f\"Question: {question}\"},\n",
    "        ],\n",
    "        validation_context={\"text_chunk\": context},\n",
    "    )"
   ]
  },
  {
   "cell_type": "code",
   "execution_count": 14,
   "metadata": {},
   "outputs": [],
   "source": [
    "question = \"What did the author do during college?\"\n",
    "context = \"\"\"\n",
    "My name is Jason Liu, and I grew up in Toronto Canada but I was born in China.\n",
    "I went to an arts high school but in university I studied Computational Mathematics and physics.\n",
    "As part of coop I worked at many companies including Stitchfix, Facebook.\n",
    "I also started the Data Science club at the University of Waterloo and I was the president of the club for 2 years.\n",
    "\"\"\"\n",
    "\n",
    "response = ask_ai(question, context)"
   ]
  },
  {
   "cell_type": "code",
   "execution_count": 16,
   "metadata": {},
   "outputs": [
    {
     "data": {
      "text/plain": [
       "'What did the author do during college?'"
      ]
     },
     "execution_count": 16,
     "metadata": {},
     "output_type": "execute_result"
    }
   ],
   "source": [
    "response.question"
   ]
  },
  {
   "cell_type": "code",
   "execution_count": 18,
   "metadata": {},
   "outputs": [
    {
     "data": {
      "text/plain": [
       "'During college, the author studied Computational Mathematics and physics and worked at many companies including Stitchfix and Facebook. They also started the Data Science club at the University of Waterloo and served as its president for 2 years.'"
      ]
     },
     "metadata": {},
     "output_type": "display_data"
    }
   ],
   "source": [
    "from IPython.display import display\n",
    "display(response.answer)\n"
   ]
  },
  {
   "cell_type": "code",
   "execution_count": 19,
   "metadata": {},
   "outputs": [
    {
     "data": {
      "text/plain": [
       "['My name is Jason Liu, and I grew up in Toronto Canada but I was born in China.',\n",
       " 'I went to an arts high school but in university I studied Computational Mathematics and physics.',\n",
       " 'As part of coop I worked at many companies including Stitchfix, Facebook.',\n",
       " 'I also started the Data Science club at the University of Waterloo and I was the president of the club for 2 years.']"
      ]
     },
     "metadata": {},
     "output_type": "display_data"
    }
   ],
   "source": [
    "from IPython.display import display\n",
    "display(response.citations)"
   ]
  },
  {
   "cell_type": "code",
   "execution_count": 20,
   "metadata": {},
   "outputs": [],
   "source": [
    "question1 = \"Where was John born?\"\n",
    "context1 = \"\"\"\n",
    "John Doe is a software engineer who was born in New York, USA. \n",
    "He studied Computer Science at the Massachusetts Institute of Technology. \n",
    "During his studies, he interned at Google and Microsoft. \n",
    "He also founded the Artificial Intelligence club at his university and served as its president for three years.\n",
    "\"\"\"\n",
    "\n",
    "\n",
    "question2 = \"What did Emily study in university?\"\n",
    "context2 = \"\"\"\n",
    "Emily Smith is a data scientist from London, England. \n",
    "She attended the University of Cambridge where she studied Statistics and Machine Learning. \n",
    "She interned at IBM and Amazon during her summer breaks. \n",
    "Emily was also the head of the Women in Tech society at her university.\n",
    "\"\"\"\n",
    "\n",
    "question3 = \"Which companies did Robert intern at?\"\n",
    "context3 = \"\"\"\n",
    "Robert Johnson, originally from Sydney, Australia, is a renowned cybersecurity expert. \n",
    "He studied Information Systems at the University of Melbourne. \n",
    "Robert interned at several cybersecurity firms including NortonLifeLock and McAfee. \n",
    "He was also the leader of the Cybersecurity club at his university.\n",
    "\"\"\"\n",
    "\n",
    "\n",
    "question4 = \"What club did Alice start at her university?\"\n",
    "context4 = \"\"\"\n",
    "Alice Williams, a native of Dublin, Ireland, is a successful web developer. \n",
    "She studied Software Engineering at Trinity College Dublin. \n",
    "Alice interned at several tech companies including Shopify and Squarespace. \n",
    "She started the Web Development club at her university and was its president for two years.\n",
    "\"\"\"\n",
    "\n",
    "\n",
    "question5 = \"What did Michael study in high school?\"\n",
    "context5 = \"\"\"\n",
    "Michael Brown is a game developer from Tokyo, Japan. \n",
    "He attended a specialized high school where he studied Game Design. \n",
    "He later attended the University of Tokyo where he studied Computer Science. \n",
    "Michael interned at Sony and Nintendo during his university years. \n",
    "He also started the Game Developers club at his university.\n",
    "\"\"\""
   ]
  },
  {
   "cell_type": "code",
   "execution_count": 21,
   "metadata": {},
   "outputs": [],
   "source": [
    "class QuestionAnswer(BaseModel):\n",
    "    question: str = Field(...)\n",
    "    answer: str = Field(\"Formated answer with citations in proper markdown format.\")\n",
    "    citations: List[str] = Field(\"List of citations for the answer.\")\n"
   ]
  },
  {
   "cell_type": "code",
   "execution_count": 22,
   "metadata": {},
   "outputs": [],
   "source": [
    "\n",
    "def ask_ai(question: str, context: str) -> QuestionAnswer:\n",
    "    return client.chat.completions.create(\n",
    "        model=\"adrienbrault/nous-hermes2pro:Q8_0\",\n",
    "        temperature=0.1,\n",
    "        response_model=QuestionAnswer,\n",
    "        messages=[\n",
    "            {\n",
    "                \"role\": \"system\",\n",
    "                \"content\": \"You are a world class algorithm to answer questions with correct and exact citations\",\n",
    "            },\n",
    "            {\"role\": \"user\", \"content\": f\"{context}\"},\n",
    "            {\"role\": \"user\", \"content\": f\"Question: {question}\"},\n",
    "        ],\n",
    "        validation_context={\"text_chunk\": context},\n",
    "    )"
   ]
  },
  {
   "cell_type": "code",
   "execution_count": 23,
   "metadata": {},
   "outputs": [
    {
     "data": {
      "text/html": [
       "<pre style=\"white-space:pre;overflow-x:auto;line-height:normal;font-family:Menlo,'DejaVu Sans Mono',consolas,'Courier New',monospace\"><span style=\"font-weight: bold\">{</span>\n",
       "<span style=\"color: #7fbf7f; text-decoration-color: #7fbf7f\">│   </span><span style=\"color: #008000; text-decoration-color: #008000\">'question'</span>: <span style=\"color: #008000; text-decoration-color: #008000\">'Where was John born?'</span>,\n",
       "<span style=\"color: #7fbf7f; text-decoration-color: #7fbf7f\">│   </span><span style=\"color: #008000; text-decoration-color: #008000\">'answer'</span>: <span style=\"color: #008000; text-decoration-color: #008000\">'John Doe was born in New York, USA.'</span>,\n",
       "<span style=\"color: #7fbf7f; text-decoration-color: #7fbf7f\">│   </span><span style=\"color: #008000; text-decoration-color: #008000\">'citations'</span>: <span style=\"font-weight: bold\">[</span><span style=\"color: #008000; text-decoration-color: #008000\">'John Doe is a software engineer who was born in New York, USA.'</span><span style=\"font-weight: bold\">]</span>\n",
       "<span style=\"font-weight: bold\">}</span>\n",
       "</pre>\n"
      ],
      "text/plain": [
       "\u001b[1m{\u001b[0m\n",
       "\u001b[2;32m│   \u001b[0m\u001b[32m'question'\u001b[0m: \u001b[32m'Where was John born?'\u001b[0m,\n",
       "\u001b[2;32m│   \u001b[0m\u001b[32m'answer'\u001b[0m: \u001b[32m'John Doe was born in New York, USA.'\u001b[0m,\n",
       "\u001b[2;32m│   \u001b[0m\u001b[32m'citations'\u001b[0m: \u001b[1m[\u001b[0m\u001b[32m'John Doe is a software engineer who was born in New York, USA.'\u001b[0m\u001b[1m]\u001b[0m\n",
       "\u001b[1m}\u001b[0m\n"
      ]
     },
     "metadata": {},
     "output_type": "display_data"
    }
   ],
   "source": [
    "from rich.pretty import pprint\n",
    "response = ask_ai(question1, context1)\n",
    "\n",
    "pprint(response.model_dump())"
   ]
  },
  {
   "cell_type": "code",
   "execution_count": 24,
   "metadata": {},
   "outputs": [
    {
     "data": {
      "text/html": [
       "<pre style=\"white-space:pre;overflow-x:auto;line-height:normal;font-family:Menlo,'DejaVu Sans Mono',consolas,'Courier New',monospace\"><span style=\"font-weight: bold\">{</span>\n",
       "<span style=\"color: #7fbf7f; text-decoration-color: #7fbf7f\">│   </span><span style=\"color: #008000; text-decoration-color: #008000\">'question'</span>: <span style=\"color: #008000; text-decoration-color: #008000\">'What did Emily study in university?'</span>,\n",
       "<span style=\"color: #7fbf7f; text-decoration-color: #7fbf7f\">│   </span><span style=\"color: #008000; text-decoration-color: #008000\">'answer'</span>: <span style=\"color: #008000; text-decoration-color: #008000\">'Emily studied Statistics and Machine Learning at the University of Cambridge.'</span>,\n",
       "<span style=\"color: #7fbf7f; text-decoration-color: #7fbf7f\">│   </span><span style=\"color: #008000; text-decoration-color: #008000\">'citations'</span>: <span style=\"font-weight: bold\">[</span>\n",
       "<span style=\"color: #7fbf7f; text-decoration-color: #7fbf7f\">│   │   </span><span style=\"color: #008000; text-decoration-color: #008000\">'Emily Smith is a data scientist from London, England. She attended the University of Cambridge where she studied Statistics and Machine Learning.'</span>\n",
       "<span style=\"color: #7fbf7f; text-decoration-color: #7fbf7f\">│   </span><span style=\"font-weight: bold\">]</span>\n",
       "<span style=\"font-weight: bold\">}</span>\n",
       "</pre>\n"
      ],
      "text/plain": [
       "\u001b[1m{\u001b[0m\n",
       "\u001b[2;32m│   \u001b[0m\u001b[32m'question'\u001b[0m: \u001b[32m'What did Emily study in university?'\u001b[0m,\n",
       "\u001b[2;32m│   \u001b[0m\u001b[32m'answer'\u001b[0m: \u001b[32m'Emily studied Statistics and Machine Learning at the University of Cambridge.'\u001b[0m,\n",
       "\u001b[2;32m│   \u001b[0m\u001b[32m'citations'\u001b[0m: \u001b[1m[\u001b[0m\n",
       "\u001b[2;32m│   │   \u001b[0m\u001b[32m'Emily Smith is a data scientist from London, England. She attended the University of Cambridge where she studied Statistics and Machine Learning.'\u001b[0m\n",
       "\u001b[2;32m│   \u001b[0m\u001b[1m]\u001b[0m\n",
       "\u001b[1m}\u001b[0m\n"
      ]
     },
     "metadata": {},
     "output_type": "display_data"
    }
   ],
   "source": [
    "from rich.pretty import pprint\n",
    "response = ask_ai(question2, context2)\n",
    "\n",
    "pprint(response.model_dump())"
   ]
  },
  {
   "cell_type": "code",
   "execution_count": 25,
   "metadata": {},
   "outputs": [
    {
     "data": {
      "text/html": [
       "<pre style=\"white-space:pre;overflow-x:auto;line-height:normal;font-family:Menlo,'DejaVu Sans Mono',consolas,'Courier New',monospace\"><span style=\"font-weight: bold\">{</span>\n",
       "<span style=\"color: #7fbf7f; text-decoration-color: #7fbf7f\">│   </span><span style=\"color: #008000; text-decoration-color: #008000\">'question'</span>: <span style=\"color: #008000; text-decoration-color: #008000\">'Which companies did Robert intern at?'</span>,\n",
       "<span style=\"color: #7fbf7f; text-decoration-color: #7fbf7f\">│   </span><span style=\"color: #008000; text-decoration-color: #008000\">'answer'</span>: <span style=\"color: #008000; text-decoration-color: #008000\">'Robert interned at several cybersecurity firms including NortonLifeLock and McAfee.'</span>,\n",
       "<span style=\"color: #7fbf7f; text-decoration-color: #7fbf7f\">│   </span><span style=\"color: #008000; text-decoration-color: #008000\">'citations'</span>: <span style=\"font-weight: bold\">[</span>\n",
       "<span style=\"color: #7fbf7f; text-decoration-color: #7fbf7f\">│   │   </span><span style=\"color: #008000; text-decoration-color: #008000\">'Original text: Robert Johnson, originally from Sydney, Australia, is a renowned cybersecurity expert. He studied Information Systems at the University of Melbourne. Robert interned at several cybersecurity firms including NortonLifeLock and McAfee. He was also the leader of the Cybersecurity club at his university.'</span>\n",
       "<span style=\"color: #7fbf7f; text-decoration-color: #7fbf7f\">│   </span><span style=\"font-weight: bold\">]</span>\n",
       "<span style=\"font-weight: bold\">}</span>\n",
       "</pre>\n"
      ],
      "text/plain": [
       "\u001b[1m{\u001b[0m\n",
       "\u001b[2;32m│   \u001b[0m\u001b[32m'question'\u001b[0m: \u001b[32m'Which companies did Robert intern at?'\u001b[0m,\n",
       "\u001b[2;32m│   \u001b[0m\u001b[32m'answer'\u001b[0m: \u001b[32m'Robert interned at several cybersecurity firms including NortonLifeLock and McAfee.'\u001b[0m,\n",
       "\u001b[2;32m│   \u001b[0m\u001b[32m'citations'\u001b[0m: \u001b[1m[\u001b[0m\n",
       "\u001b[2;32m│   │   \u001b[0m\u001b[32m'Original text: Robert Johnson, originally from Sydney, Australia, is a renowned cybersecurity expert. He studied Information Systems at the University of Melbourne. Robert interned at several cybersecurity firms including NortonLifeLock and McAfee. He was also the leader of the Cybersecurity club at his university.'\u001b[0m\n",
       "\u001b[2;32m│   \u001b[0m\u001b[1m]\u001b[0m\n",
       "\u001b[1m}\u001b[0m\n"
      ]
     },
     "metadata": {},
     "output_type": "display_data"
    }
   ],
   "source": [
    "\n",
    "response = ask_ai(question3, context3)\n",
    "\n",
    "pprint(response.model_dump())"
   ]
  },
  {
   "cell_type": "code",
   "execution_count": 26,
   "metadata": {},
   "outputs": [
    {
     "data": {
      "text/html": [
       "<pre style=\"white-space:pre;overflow-x:auto;line-height:normal;font-family:Menlo,'DejaVu Sans Mono',consolas,'Courier New',monospace\"><span style=\"font-weight: bold\">{</span>\n",
       "<span style=\"color: #7fbf7f; text-decoration-color: #7fbf7f\">│   </span><span style=\"color: #008000; text-decoration-color: #008000\">'question'</span>: <span style=\"color: #008000; text-decoration-color: #008000\">'What club did Alice start at her university?'</span>,\n",
       "<span style=\"color: #7fbf7f; text-decoration-color: #7fbf7f\">│   </span><span style=\"color: #008000; text-decoration-color: #008000\">'answer'</span>: <span style=\"color: #008000; text-decoration-color: #008000\">'Alice started the Web Development club at her university.'</span>,\n",
       "<span style=\"color: #7fbf7f; text-decoration-color: #7fbf7f\">│   </span><span style=\"color: #008000; text-decoration-color: #008000\">'citations'</span>: <span style=\"font-weight: bold\">[</span>\n",
       "<span style=\"color: #7fbf7f; text-decoration-color: #7fbf7f\">│   │   </span><span style=\"color: #008000; text-decoration-color: #008000\">'Alice Williams, a native of Dublin, Ireland, is a successful web developer. She studied Software Engineering at Trinity College Dublin. Alice interned at several tech companies including Shopify and Squarespace. She started the Web Development club at her university and was its president for two years.'</span>\n",
       "<span style=\"color: #7fbf7f; text-decoration-color: #7fbf7f\">│   </span><span style=\"font-weight: bold\">]</span>\n",
       "<span style=\"font-weight: bold\">}</span>\n",
       "</pre>\n"
      ],
      "text/plain": [
       "\u001b[1m{\u001b[0m\n",
       "\u001b[2;32m│   \u001b[0m\u001b[32m'question'\u001b[0m: \u001b[32m'What club did Alice start at her university?'\u001b[0m,\n",
       "\u001b[2;32m│   \u001b[0m\u001b[32m'answer'\u001b[0m: \u001b[32m'Alice started the Web Development club at her university.'\u001b[0m,\n",
       "\u001b[2;32m│   \u001b[0m\u001b[32m'citations'\u001b[0m: \u001b[1m[\u001b[0m\n",
       "\u001b[2;32m│   │   \u001b[0m\u001b[32m'Alice Williams, a native of Dublin, Ireland, is a successful web developer. She studied Software Engineering at Trinity College Dublin. Alice interned at several tech companies including Shopify and Squarespace. She started the Web Development club at her university and was its president for two years.'\u001b[0m\n",
       "\u001b[2;32m│   \u001b[0m\u001b[1m]\u001b[0m\n",
       "\u001b[1m}\u001b[0m\n"
      ]
     },
     "metadata": {},
     "output_type": "display_data"
    }
   ],
   "source": [
    "\n",
    "response = ask_ai(question4, context4)\n",
    "\n",
    "pprint(response.model_dump())"
   ]
  },
  {
   "cell_type": "code",
   "execution_count": 27,
   "metadata": {},
   "outputs": [
    {
     "data": {
      "text/html": [
       "<pre style=\"white-space:pre;overflow-x:auto;line-height:normal;font-family:Menlo,'DejaVu Sans Mono',consolas,'Courier New',monospace\"><span style=\"font-weight: bold\">{</span>\n",
       "<span style=\"color: #7fbf7f; text-decoration-color: #7fbf7f\">│   </span><span style=\"color: #008000; text-decoration-color: #008000\">'question'</span>: <span style=\"color: #008000; text-decoration-color: #008000\">'What did Michael study in high school?'</span>,\n",
       "<span style=\"color: #7fbf7f; text-decoration-color: #7fbf7f\">│   </span><span style=\"color: #008000; text-decoration-color: #008000\">'answer'</span>: <span style=\"color: #008000; text-decoration-color: #008000\">'Michael Brown studied Game Design in a specialized high school.'</span>,\n",
       "<span style=\"color: #7fbf7f; text-decoration-color: #7fbf7f\">│   </span><span style=\"color: #008000; text-decoration-color: #008000\">'citations'</span>: <span style=\"font-weight: bold\">[</span>\n",
       "<span style=\"color: #7fbf7f; text-decoration-color: #7fbf7f\">│   │   </span><span style=\"color: #008000; text-decoration-color: #008000\">'Michael Brown is a game developer from Tokyo, Japan. He attended a specialized high school where he studied Game Design.'</span>\n",
       "<span style=\"color: #7fbf7f; text-decoration-color: #7fbf7f\">│   </span><span style=\"font-weight: bold\">]</span>\n",
       "<span style=\"font-weight: bold\">}</span>\n",
       "</pre>\n"
      ],
      "text/plain": [
       "\u001b[1m{\u001b[0m\n",
       "\u001b[2;32m│   \u001b[0m\u001b[32m'question'\u001b[0m: \u001b[32m'What did Michael study in high school?'\u001b[0m,\n",
       "\u001b[2;32m│   \u001b[0m\u001b[32m'answer'\u001b[0m: \u001b[32m'Michael Brown studied Game Design in a specialized high school.'\u001b[0m,\n",
       "\u001b[2;32m│   \u001b[0m\u001b[32m'citations'\u001b[0m: \u001b[1m[\u001b[0m\n",
       "\u001b[2;32m│   │   \u001b[0m\u001b[32m'Michael Brown is a game developer from Tokyo, Japan. He attended a specialized high school where he studied Game Design.'\u001b[0m\n",
       "\u001b[2;32m│   \u001b[0m\u001b[1m]\u001b[0m\n",
       "\u001b[1m}\u001b[0m\n"
      ]
     },
     "metadata": {},
     "output_type": "display_data"
    }
   ],
   "source": [
    "\n",
    "response = ask_ai(question5, context5)\n",
    "\n",
    "pprint(response.model_dump())"
   ]
  },
  {
   "cell_type": "code",
   "execution_count": null,
   "metadata": {},
   "outputs": [],
   "source": []
  }
 ],
 "metadata": {
  "kernelspec": {
   "display_name": "hf",
   "language": "python",
   "name": "python3"
  },
  "language_info": {
   "codemirror_mode": {
    "name": "ipython",
    "version": 3
   },
   "file_extension": ".py",
   "mimetype": "text/x-python",
   "name": "python",
   "nbconvert_exporter": "python",
   "pygments_lexer": "ipython3",
   "version": "3.10.13"
  }
 },
 "nbformat": 4,
 "nbformat_minor": 2
}
