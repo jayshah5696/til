{
 "cells": [
  {
   "cell_type": "code",
   "execution_count": 5,
   "metadata": {},
   "outputs": [],
   "source": [
    "import getpass\n",
    "import os\n",
    "os.environ['OPENAI_API_KEY'] = getpass.getpass(\"Enter your OpenAI API key: \")\n",
    "\n"
   ]
  },
  {
   "cell_type": "markdown",
   "metadata": {},
   "source": [
    "# basic usage"
   ]
  },
  {
   "cell_type": "code",
   "execution_count": 12,
   "metadata": {},
   "outputs": [],
   "source": [
    "import openai\n",
    "import instructor\n",
    "\n",
    "\n",
    "from pydantic import BaseModel, Field\n",
    "from typing import Literal\n",
    "\n",
    "class SearchQuery(BaseModel):\n",
    "    query: str\n",
    "    query_type: Literal[\"web\", \"image\", \"video\"]\n",
    "\n",
    "    def execute(self):\n",
    "        print(f\"Searching for {self.query} of type {self.query_type}\")\n",
    "        return \"Results for \" + self.query\n",
    "    \n",
    "\n",
    "client = instructor.patch(openai.OpenAI())\n",
    "\n",
    "class InstructorQueryCompletion(BaseModel):\n",
    "    query: str = Field(description=\"The query to be completed by the instructor.\")\n",
    "    query_type: Literal[\"web\", \"image\", \"video\"] = Field(description=\"The type of the query.\")\n",
    "\n",
    "    def execute(self):\n",
    "        print(f\"Executing query for {self.query} of type {self.query_type}\")\n",
    "        completion = client.chat.completions.create(\n",
    "            model=\"gpt-3.5-turbo-0125\",\n",
    "            messages=[{\"role\": \"user\", \"content\": self.query}],\n",
    "            response_model=SearchQuery,\n",
    "            temperature=0.1\n",
    "        )\n",
    "        results = completion.execute()\n",
    "        print(results)\n",
    "        return results\n",
    "\n",
    "\n"
   ]
  },
  {
   "cell_type": "code",
   "execution_count": 13,
   "metadata": {},
   "outputs": [
    {
     "name": "stdout",
     "output_type": "stream",
     "text": [
      "Executing query for What is the capital of France? of type web\n",
      "Searching for capital of France of type web\n",
      "Results for capital of France\n"
     ]
    },
    {
     "data": {
      "text/plain": [
       "'Results for capital of France'"
      ]
     },
     "execution_count": 13,
     "metadata": {},
     "output_type": "execute_result"
    }
   ],
   "source": [
    "InstructorQueryCompletion(query=\"What is the capital of France?\", query_type=\"web\").execute()\n",
    "\n"
   ]
  },
  {
   "cell_type": "code",
   "execution_count": 14,
   "metadata": {},
   "outputs": [
    {
     "name": "stdout",
     "output_type": "stream",
     "text": [
      "Executing query for How to finetune LLM? of type web\n",
      "Searching for How to finetune LLM of type web\n",
      "Results for How to finetune LLM\n"
     ]
    },
    {
     "data": {
      "text/plain": [
       "'Results for How to finetune LLM'"
      ]
     },
     "execution_count": 14,
     "metadata": {},
     "output_type": "execute_result"
    }
   ],
   "source": [
    "InstructorQueryCompletion(query=\"How to finetune LLM?\", query_type=\"web\").execute()\n",
    "\n"
   ]
  },
  {
   "cell_type": "code",
   "execution_count": 15,
   "metadata": {},
   "outputs": [
    {
     "name": "stdout",
     "output_type": "stream",
     "text": [
      "Executing query for How to finetune LLM? of type image\n",
      "Searching for How to finetune LLM of type web\n",
      "Results for How to finetune LLM\n"
     ]
    },
    {
     "data": {
      "text/plain": [
       "'Results for How to finetune LLM'"
      ]
     },
     "execution_count": 15,
     "metadata": {},
     "output_type": "execute_result"
    }
   ],
   "source": [
    "InstructorQueryCompletion(query=\"How to finetune LLM?\", query_type=\"image\").execute()\n",
    "\n"
   ]
  },
  {
   "cell_type": "code",
   "execution_count": 16,
   "metadata": {},
   "outputs": [
    {
     "name": "stdout",
     "output_type": "stream",
     "text": [
      "Executing query for How to finetune LLM? of type image\n",
      "Searching for How to finetune LLM of type web\n",
      "Results for How to finetune LLM\n"
     ]
    }
   ],
   "source": [
    "results = InstructorQueryCompletion(query=\"How to finetune LLM?\", query_type=\"image\").execute()\n",
    "\n"
   ]
  },
  {
   "cell_type": "code",
   "execution_count": 19,
   "metadata": {},
   "outputs": [
    {
     "data": {
      "text/plain": [
       "str"
      ]
     },
     "execution_count": 19,
     "metadata": {},
     "output_type": "execute_result"
    }
   ],
   "source": [
    "type(results)"
   ]
  },
  {
   "cell_type": "code",
   "execution_count": null,
   "metadata": {},
   "outputs": [],
   "source": []
  }
 ],
 "metadata": {
  "kernelspec": {
   "display_name": "hf",
   "language": "python",
   "name": "python3"
  },
  "language_info": {
   "codemirror_mode": {
    "name": "ipython",
    "version": 3
   },
   "file_extension": ".py",
   "mimetype": "text/x-python",
   "name": "python",
   "nbconvert_exporter": "python",
   "pygments_lexer": "ipython3",
   "version": "3.10.13"
  }
 },
 "nbformat": 4,
 "nbformat_minor": 2
}
